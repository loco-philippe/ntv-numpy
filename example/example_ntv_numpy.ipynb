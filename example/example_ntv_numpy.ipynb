{
 "cells": [
  {
   "cell_type": "markdown",
   "id": "32676b66",
   "metadata": {},
   "source": [
    "# Neutral format for multidimensional data\n",
    "-------    \n",
    "version : 2024-04-10"
   ]
  },
  {
   "cell_type": "markdown",
   "id": "5740ec57",
   "metadata": {
    "editable": true,
    "slideshow": {
     "slide_type": ""
    },
    "tags": []
   },
   "source": [
    "## Introduction\n",
    "\n",
    "This memo is a proposal to implement a neutral format for multidimensional data. \n",
    "\n",
    "The proposed format is based on the following principles:\n",
    "\n",
    "- neutral format available for tabular or multidimensional tools (e.g. Numpy, pandas, xarray, scipp, astropy),\n",
    "- taking into account a wide variety of data types as defined in NTV format,\n",
    "- high interoperability: reversible (lossless round-trip) interface with tabular or multidimensional tools,\n",
    "- reversible and compact JSON format (including categorical and sparse format),\n",
    "- Ease of sharing and exchanging multidimensional and tabular data,\n",
    "\n",
    "It follows :\n",
    "\n",
    "- the definition of the [JSON-NTV](https://www.ietf.org/archive/id/draft-thomy-json-ntv-02.html) format (Named and Typed value) which integrates a notion of type in JSON format (see [JSON-NTV package](https://pypi.org/project/json-ntv/)).\n",
    "- its variation for tabular data ( [NTV-TAB](https://www.ietf.org/archive/id/draft-thomy-ntv-tab-00.html) specification) and its implementation for pandas ([NTV-pandas package](https://pypi.org/project/ntv-pandas/) available in the [pandas ecosystem](https://pandas.pydata.org/community/ecosystem.html) and the [PDEP12](https://pandas.pydata.org/pdeps/0012-compact-and-reversible-JSON-interface.html))\n",
    "- analysis of tabular structures to identify multi-dimensional data ([TAB-analysis](https://pypi.org/project/tab-analysis/) package)\n",
    "\n",
    "The integration of the tabular format and this proposal for a multi-dimensional format (update of the \"internet-draft\" dedicated to the tabular format) will be treated in the second version of this proposal."
   ]
  },
  {
   "cell_type": "markdown",
   "id": "f8237f72-631a-4e76-b2af-9fe68b0dc00a",
   "metadata": {
    "editable": true,
    "slideshow": {
     "slide_type": ""
    },
    "tags": []
   },
   "source": [
    "## Contents\n",
    "\n",
    "*(active links on Jupyter Notebook or [Nbviewer](https://nbviewer.org/github/loco-philippe/ntv-numpy/blob/main/example/example_ntv_numpy.ipynb))*\n",
    "- [Introduction](#Introduction)\n",
    "- [Contents](#Contents)\n",
    "- [Data structure](#Data-structure)\n",
    "    - [Terminology](#Terminology)\n",
    "    - [JSON example](#JSON-example)\n",
    "- [Interoperability](#Interoperability)\n",
    "    - [Xarray interoperability](#Xarray-interoperability)\n",
    "    - [Scipp interoperability](#Scipp-interoperability)\n",
    "    - [NDData interoperability](#NDData-interoperability)\n",
    "- [Exchanging and sharing data](#Exchanging-and-sharing-data)\n",
    "    - [Neutral format](#Neutral-format)\n",
    "    - [URI usage](#URI-usage)\n",
    "- [Summary](#Summary)"
   ]
  },
  {
   "cell_type": "markdown",
   "id": "1b44f6f7-3373-4bbe-af23-8e25a7ca0689",
   "metadata": {},
   "source": [
    "### Appendix\n",
    "\n",
    "- [Appendix - NTV data](#Appendix---NTV-data)\n",
    "- [Appendix - JSON representation](#Appendix---JSON-representation)\n",
    "    - [Multidimensional NTVtype](#Multidimensional-NTVtype)\n",
    "    - [JSON darray data](#JSON-darray-data)\n",
    "    - [JSON ndarray data](#JSON-ndarray-data)\n",
    "    - [JSON xndarray data](#JSON-xndarray-data)\n",
    "    - [JSON xdataset data](#JSON-xdataset-data)\n",
    "- [Appendix - Python entities](#Appendix---Python-entities)\n",
    "    - [Ndarray and Numpy ndarray](#Ndarray-and-Numpy-ndarray)\n",
    "    - [Xndarray](#Xndarray)\n",
    "    - [Xdataset](#Xdataset)\n",
    "- [Appendix - Using in NTV data](#Appendix---Using-in-NTV-data)\n",
    "    - [Including in NTV structure](#Including-in-NTV-structure)\n",
    "    - [Including in other objects](#Including-in-other-objects)\n",
    "- [Appendix - Equivalence with tabular format](#Appendix---Equivalence-with-tabular-format)\n",
    "    - [Tabular structure](#Tabular-structure)\n",
    "    - [Multidimensional to tabular format](#Multidimensional-to-tabular-format)\n",
    "    - [Tabular to multidimensional format](#Tabular-to-multidimensional-format)\n",
    "- [Appendix - Specific points](#Appendix---Specific-points)\n",
    "    - [Units and quantities](#Units-and-quantities)\n",
    "    - [Coordinates](#Coordinates)\n",
    "    - [Table](#Table)\n",
    "    - [Other structures](#Other-structures)"
   ]
  },
  {
   "cell_type": "markdown",
   "id": "238c22ac-171d-40a8-8610-f4cd520a9976",
   "metadata": {},
   "source": [
    "## Data structure\n",
    "The data structure includes the structures defined by multi-dimensional tools (e.g. variables, dimensions, coordinates, variances, masks, units, metadata).\n",
    "\n",
    "We distinguish:\n",
    "- elementary data: made up of ordered collections and which can be present in specific formats (darray, ndarray)\n",
    "- structural data: represented with JSON format (xndarray, xdataset)\n",
    "\n",
    "This data structure makes it possible to build reversible interfaces and have interoperable tools"
   ]
  },
  {
   "cell_type": "code",
   "execution_count": 1,
   "id": "1f749164-7202-4fc0-8a32-2dd0059ec580",
   "metadata": {
    "jupyter": {
     "source_hidden": true
    }
   },
   "outputs": [
    {
     "data": {
      "text/html": [
       "<img src=\"https://mermaid.ink/img/LS0tCnRpdGxlOiBEYXRhIFN0cnVjdHVyZQotLS0KZmxvd2NoYXJ0IExSCiAgICBzdWJncmFwaCB4ZGF0YXNldAogICAgICAgIGRpcmVjdGlvbiBMUgogICAgICAgIGRfbmFtZVtuYW1lXQogICAgICAgIHN1YmdyYXBoIHhuZGFycmF5XzEKICAgICAgICAgICAgZGlyZWN0aW9uIFRCCiAgICAgICAgICAgIG5kYV9uYW1lW25hbWUgK1xuIDxpPmFkZF9uYW1lPC9pPl0KICAgICAgICAgICAgc3ViZ3JhcGggbmRhcnJheQogICAgICAgICAgICAgICAgZGlyZWN0aW9uIFRCCiAgICAgICAgICAgICAgICBEWzxpPk5UVnR5cGU8L2k+XQogICAgICAgICAgICAgICAgQVtkYXJyYXlcbiBvciBVUkldCiAgICAgICAgICAgICAgICBCWzxpPnNoYXBlPC9pPl0KICAgICAgICAgICAgICAgIGNsYXNzIEEgZGEKICAgICAgICAgICAgZW5kCiAgICAgICAgICAgIEIxWzxpPmxpbmtzPC9pPl0KICAgICAgICAgICAgRDFbPGk+bWV0YTwvaT5dCiAgICAgICAgICAgIGNsYXNzIG5kYXJyYXkgbmRhCiAgICAgICAgZW5kCiAgICAgICAgb3RoZXJbPGI+IzE0OTsjMTQ5OyMxNDk7PC9iPl0KICAgICAgICBzdWJncmFwaCB4bmRhcnJheV9uCiAgICAgICAgICAgIGRpcmVjdGlvbiBMUgogICAgICAgIGVuZAogICAgICAgIGNsYXNzIHhuZGFycmF5XzEseG5kYXJyYXlfbiB4bmRhCiAgICAgICAgY2xhc3Mgb3RoZXIgYXR0cmlidXRlcwogICAgZW5kCiAgICBjbGFzcyB4ZGF0YXNldCBkYXRhc2V0CiAgICBjbGFzc0RlZiBhdHRyaWJ1dGVzIGZpbGw6I2JiZixzdHJva2U6I2Y2LHN0cm9rZS13aWR0aDoxcHgsY29sb3I6IzAwMCxzdHJva2UtZGFzaGFycmF5OiAwIDUKICAgIGNsYXNzRGVmIHhuZGEgZmlsbDojOTlkLHN0cm9rZTojMDA5LHN0cm9rZS13aWR0aDoycHgsY29sb3I6IzgwOAogICAgY2xhc3NEZWYgbmRhICBmaWxsOiM3N2Isc3Ryb2tlOiMwMGUsc3Ryb2tlLXdpZHRoOjJweCxjb2xvcjojODA4CiAgICBjbGFzc0RlZiBkYSAgZmlsbDojNTViLHN0cm9rZTojMDBlLHN0cm9rZS13aWR0aDoycHgsY29sb3I6I2ZmZgogICAgY2xhc3NEZWYgZGF0YXNldCBzdHJva2U6IzAwNyxmaWxsOiNiYmYsY29sb3I6IzgwOA==\"/>"
      ],
      "text/plain": [
       "<IPython.core.display.Image object>"
      ]
     },
     "metadata": {},
     "output_type": "display_data"
    }
   ],
   "source": [
    "from base64 import b64encode\n",
    "from IPython.display import Image, display\n",
    "display(Image(url=\"https://mermaid.ink/img/\" + b64encode(open('struc.mmd', 'r', encoding=\"utf-8\").read().encode(\"ascii\")).decode(\"ascii\")))"
   ]
  },
  {
   "cell_type": "markdown",
   "id": "1a9f5509",
   "metadata": {
    "editable": true,
    "jp-MarkdownHeadingCollapsed": true,
    "slideshow": {
     "slide_type": ""
    },
    "tags": []
   },
   "source": [
    "### Terminology\n",
    "\n",
    "- **darray (unidimensional array)** is an ordered collection of 'items' of the same type. A 'darray' can be represented with several formats (e.g. simple list, categorical format, sparse format)\n",
    "- **ndarray (multidimensional array)** is a N-dimensional array of homogeneous data types. A ndarray entity is defined by:   \n",
    "    - a darray (flattened multidimensional data ordered with row_major order) or an URI (string location of data)\n",
    "    - a shape (order and length of axes)\n",
    "    - a NTVtype (semantic data type)\n",
    "    \n",
    "    ndarray can be *absolute* (defined by a darray) or *relative* (defined by a resolvable URI).\n",
    "- **xndarray (labelled multidimensional array)** is a ndarray defined by a name. A xndarray entity has optional additional data:\n",
    "    - add_name : the name of a property (additional name to the ndarray name)\n",
    "    - links : the names of linked xndarray\n",
    "    - meta : Json-object metadata\n",
    "    \n",
    "    xndarray data can be: \n",
    "    - *meta* : the ndarray is empty (None), add_name and links are not present\n",
    "    - *named-array* : without additional data\n",
    "    - *variable* : named-array with links and without add_name (e.g. dims).\n",
    "    - *additional-array* : named-array where name is extended (add_name is present)\n",
    "- **xdataset (coordinated multidimensional array)** is a collection of xndarray defined by a name. This collection can be interpreted as a simple group or as an interconnected collection (names are used as pointers between xndarray items).\n",
    "\n",
    "    In the context of a xdataset, an included xndarray data can be:\n",
    "\n",
    "    - *metadata* : meta where value is a Json-object or a Json-array\n",
    "    - *unique* : meta where value is a number, a string, a boolean or a null \n",
    "    - *dimension* : named-array where his name is present in links of a variable of the xdataset\n",
    "    - *data-array* : named-array where his name is not present in links of a variable of the xdataset\n",
    "    - *data-var* : variable where links equals the list of dimensions of the xdataset\n",
    "    - *coordinate* : variable where links not equals the list of dimensions of the xdataset\n",
    "    - *mask* : additional-array where data-type is boolean\n",
    "    - *data-add* : additional-array where data-type is not boolean\n",
    "\n",
    "     A xdataset is valid if :  \n",
    "    - included Xndarray are valid\n",
    "    - names in links are names of xndarray\n",
    "    - the shape of a Xndarray is consistent with the shape of Xndarray defined in his links\n",
    " \n",
    "  A xdataset is multidimensional if it is valid and contains more than one data-var.\n",
    "  \n",
    "  A xdataset is unidimensional if it is valid and contains a single data-var.\n",
    "  \n",
    "  In the other cases, a xdataset is a simple group of xndarray.\n",
    "\n",
    "*Note*\n",
    "- `numpy.ndarray` corresponds to ndarray\n",
    "- `Xarray.DataArray`, `Xarray.Dataset`, `scipp.DataGroup`, `scipp.Dataset`, `Astropy.NDData` correspond to xdataset\n",
    "- xdataset and xndarray are the generalization of NTVdataset and NTVfield defined in the tabular format ([NTV-TAB](https://www.ietf.org/archive/id/draft-thomy-ntv-tab-00.html) specification)"
   ]
  },
  {
   "cell_type": "markdown",
   "id": "81213678-00af-4fad-b2e5-b1ac4f95a02b",
   "metadata": {
    "editable": true,
    "slideshow": {
     "slide_type": ""
    },
    "tags": []
   },
   "source": [
    "### JSON example\n",
    "\n",
    "The example below is a Json representation of the xdataset named 'example'.\n",
    "\n",
    "The Json format is detailed in Appendix.\n"
   ]
  },
  {
   "cell_type": "code",
   "execution_count": 2,
   "id": "ca1d13bd-5738-4953-8a0e-2bdfd7d844e1",
   "metadata": {
    "editable": true,
    "slideshow": {
     "slide_type": ""
    },
    "tags": []
   },
   "outputs": [],
   "source": [
    "example = {\n",
    "    'example:xdataset': {\n",
    "        'var1': [['float[kg]', [2, 2], [10.1, 0.4, 3.4, 8.2]], ['x', 'y']],\n",
    "        'var1.variance': [[[2, 2], [0.1, 0.2, 0.3, 0.4]]],\n",
    "        'var1.mask1': [[[True, False]], ['x']],\n",
    "        'var1.mask2': [[[2, 2], [True, False, False, True]]],\n",
    "    \n",
    "        'var2': [['var2.ntv'], ['x', 'y']],    \n",
    "        \n",
    "        'x': [['string', ['23F0AE', '578B98']], {'test': 21}],\n",
    "        'y': [['date', ['2021-01-01', '2022-02-02']]],\n",
    "        \n",
    "        'ranking': [['month', [2, 2], [1, 2, 3, 4]], ['var1']],\n",
    "        'z': [['float', [10, 20]], ['x']],\n",
    "        'z.uncertainty': [[[0.1, 0.2]]],\n",
    "        \n",
    "        'z_bis': [[['z1_bis', 'z2_bis']]],\n",
    "    \n",
    "        'info': {'path': 'https://github.com/loco-philippe/ntv-numpy/tree/main/example/'},\n",
    "        'location': 'paris'\n",
    "    }\n",
    "}"
   ]
  },
  {
   "cell_type": "markdown",
   "id": "5bbf94bd-44bf-4282-867c-956f4570c357",
   "metadata": {
    "jp-MarkdownHeadingCollapsed": true
   },
   "source": [
    "The first ligne is the NTV representation ( {'NTVname:NTVtype': NTVvalue}).\n",
    "\n",
    "The other lines are the xndarray included in the xdataset (JsonObjects):\n",
    "   - `x` and `y` are *dimension* (*name* present in *links*)\n",
    "   - `var1` and `var2` are  *data_var* (*links* equals to the list of *dimensions*)\n",
    "   - `var1.variance` and `z.uncertainty` are *data_add* (*add_name* and not boolean NTVtype)\n",
    "   - `var1.mask1` and `var1.mask2` are *mask* (*add_name* and boolean NTVtype)\n",
    "   - `ranking` and `z` are *coordinate* (*links* not equals the list of *dimensions*)\n",
    "   - `z_bis` is *data_array* (*name* not present in *links*)\n",
    "   - `info` is *metadata*\n",
    "   - `location` is *unique*\n",
    "   - `var1` has a NTVtype with an extension (`kg`)\n",
    "   - `var2` has a *relative* ndarray\n",
    "   - `x` has metadata\n",
    "\n",
    "The `Xdataset` object built with JSON data is associated to this xdataset structure."
   ]
  },
  {
   "cell_type": "code",
   "execution_count": 3,
   "id": "0a3fd418-d47e-4f1b-b6b3-2b92eb20720f",
   "metadata": {
    "editable": true,
    "scrolled": true,
    "slideshow": {
     "slide_type": ""
    },
    "tags": []
   },
   "outputs": [
    {
     "data": {
      "text/plain": [
       "{'name': 'example',\n",
       " 'xtype': 'group',\n",
       " 'data_vars': ['var1', 'var2'],\n",
       " 'data_arrays': ['z_bis'],\n",
       " 'dimensions': ['x', 'y'],\n",
       " 'coordinates': ['ranking', 'z'],\n",
       " 'additionals': ['var1.mask1', 'var1.mask2', 'var1.variance', 'z.uncertainty'],\n",
       " 'metadata': ['info'],\n",
       " 'uniques': ['location'],\n",
       " 'validity': 'undefined',\n",
       " 'length': 4,\n",
       " 'width': 13}"
      ]
     },
     "execution_count": 3,
     "metadata": {},
     "output_type": "execute_result"
    }
   ],
   "source": [
    "from ntv_numpy import Xdataset\n",
    "import ntv_pandas as npd\n",
    "\n",
    "x_example = Xdataset.read_json(example)\n",
    "x_example.info['structure']"
   ]
  },
  {
   "cell_type": "markdown",
   "id": "e163a274-ef8b-4caf-b71d-524842fa9bbd",
   "metadata": {},
   "source": [
    "Note:\n",
    "- The JSON representation is equivalent to the `Xdataset` entity (Json conversion reversible)"
   ]
  },
  {
   "cell_type": "code",
   "execution_count": 4,
   "id": "5c8c71fd-16b5-4c52-8c4f-ce8d05035b16",
   "metadata": {
    "scrolled": true
   },
   "outputs": [
    {
     "data": {
      "text/plain": [
       "True"
      ]
     },
     "execution_count": 4,
     "metadata": {},
     "output_type": "execute_result"
    }
   ],
   "source": [
    "x_json = x_example.to_json()\n",
    "x_example_json = Xdataset.read_json(x_json)\n",
    "x_example_json == x_example"
   ]
  },
  {
   "cell_type": "markdown",
   "id": "df42172b-523c-4f17-97a7-f3b9d25d8fda",
   "metadata": {},
   "source": [
    "## Interoperability"
   ]
  },
  {
   "cell_type": "code",
   "execution_count": 5,
   "id": "c39e80c9-6fd9-4a7a-a439-6f7fc9c7e3af",
   "metadata": {
    "jupyter": {
     "source_hidden": true
    }
   },
   "outputs": [
    {
     "data": {
      "text/html": [
       "<img src=\"https://mermaid.ink/img/LS0tCnRpdGxlOiBFeGFtcGxlIG9mIGludGVyb3BlcmFiaWxpdHkKLS0tCmZsb3djaGFydCBMUgogICAgQVtYYXJyYXldIDwtLWxvc3NsZXNzLS0+IEJbTmV1dHJhbFxuWGRhdGFzZXRdCiAgICBCIDwtLWxvc3NsZXNzLS0+IENbTkREYXRhXQogICAgRFtTY2lwcF0gPC0tbG9zc2xlc3MtLT4gQgogICAgQiA8LS1sb3NzbGVzcy0tPiBFW0pTT05d\"/>"
      ],
      "text/plain": [
       "<IPython.core.display.Image object>"
      ]
     },
     "metadata": {},
     "output_type": "display_data"
    }
   ],
   "source": [
    "display(Image(url=\"https://mermaid.ink/img/\" + b64encode(open('interop.mmd', 'r', encoding=\"utf-8\").read().encode(\"ascii\")).decode(\"ascii\")))"
   ]
  },
  {
   "cell_type": "markdown",
   "id": "fcdaaad4-e95f-48c2-befd-d5e4ab66c994",
   "metadata": {},
   "source": [
    "The xdataset structure is compatible with multidimensional tools.\n",
    "\n",
    "The interfaces are lossless and reversible.\n",
    "\n",
    "We can therefore for example use the neutral format to convert a `scipp.Dataset` into an `xarray.Dataset` or into JSON.\n",
    "\n",
    "Note:\n",
    "\n",
    "- The tabular format is compatible with the multidimensional format. The existing tabular neutral format ([NTV-TAB](https://www.ietf.org/archive/id/draft-thomy-ntv-tab-00.html)) can therefore be merged with the multidimensional neutral format. A lossless interface with entities like `pandas.DataFrame` could be added to the FlowChart above (next revision)."
   ]
  },
  {
   "cell_type": "markdown",
   "id": "6f73d2a7-51fc-4b0a-b5f7-e1222278effa",
   "metadata": {
    "editable": true,
    "slideshow": {
     "slide_type": ""
    },
    "tags": []
   },
   "source": [
    "### Xarray interoperability"
   ]
  },
  {
   "cell_type": "code",
   "execution_count": 6,
   "id": "4fff0c71-643c-4e8e-bc26-3a205b64a06f",
   "metadata": {},
   "outputs": [
    {
     "name": "stdout",
     "output_type": "stream",
     "text": [
      "<xarray.Dataset> Size: 202B\n",
      "Dimensions:        (x: 2, y: 2)\n",
      "Coordinates:\n",
      "  * x              (x) <U6 48B '23F0AE' '578B98'\n",
      "  * y              (y) datetime64[ns] 16B 2021-01-01 2022-02-02\n",
      "    ranking        (x, y) int32 16B 1 2 3 4\n",
      "    z              (x) float64 16B 10.0 20.0\n",
      "    location       <U5 20B 'paris'\n",
      "    var1.mask1     (x) bool 2B True False\n",
      "    var1.mask2     (x, y) bool 4B True False False True\n",
      "    var1.variance  (x, y) float64 32B 0.1 0.2 0.3 0.4\n",
      "    z.uncertainty  (x) float64 16B 0.1 0.2\n",
      "Data variables:\n",
      "    var1           (x, y) float64 32B 10.1 0.4 3.4 8.2\n",
      "Attributes:\n",
      "    info:     {'path': 'https://github.com/loco-philippe/ntv-numpy/tree/main/...\n",
      "    name:     example\n",
      "    var2:     [['var2.ntv'], ['x', 'y']]\n",
      "    z_bis:    [['string', ['z1_bis', 'z2_bis']]]\n"
     ]
    }
   ],
   "source": [
    "x_xarray = x_example.to_xarray()\n",
    "print(x_xarray)"
   ]
  },
  {
   "cell_type": "markdown",
   "id": "b18e945b-d7aa-4b77-b9e0-9c2f56979365",
   "metadata": {
    "editable": true,
    "slideshow": {
     "slide_type": ""
    },
    "tags": []
   },
   "source": [
    "Notes:\n",
    "- the `Xdataset` is translated in a `xr.Dataset` (or `xr.DataArray`) \n",
    "- the NTVtype defined for each array is loaded as attribute (e.g. 'month' is an attribute for the 'ranking' coordinate)\n",
    "- data not compatible with a `xr.Dataset` is present as attribute:\n",
    "    - `var2` is a relative *data_var* and is not included in the `xr.Dataset`\n",
    "    - the `Xdataset` name is not available with `xr.Dataset`\n",
    "    - `z_bis` is a *data_array* and is not included as a `xr.Dataset`"
   ]
  },
  {
   "cell_type": "code",
   "execution_count": 7,
   "id": "76a1fd43-642a-4291-af7e-9a6f938ff2d7",
   "metadata": {
    "editable": true,
    "slideshow": {
     "slide_type": ""
    },
    "tags": []
   },
   "outputs": [
    {
     "data": {
      "text/plain": [
       "True"
      ]
     },
     "execution_count": 7,
     "metadata": {},
     "output_type": "execute_result"
    }
   ],
   "source": [
    "x_example_xr = Xdataset.from_xarray(x_xarray)\n",
    "x_example_xr == x_example_json == x_example"
   ]
  },
  {
   "cell_type": "markdown",
   "id": "9779204c-fbda-4393-92f2-31079fc64b79",
   "metadata": {},
   "source": [
    "The interface is lossless and reversible."
   ]
  },
  {
   "cell_type": "markdown",
   "id": "57fadeac-db2f-44f2-8158-7d4f380242e1",
   "metadata": {},
   "source": [
    "### Pandas interoperability"
   ]
  },
  {
   "cell_type": "code",
   "execution_count": 8,
   "id": "3fb1c6c3-9f94-48db-b22b-b72eaa30f725",
   "metadata": {},
   "outputs": [
    {
     "name": "stdout",
     "output_type": "stream",
     "text": [
      "                                z.uncertainty  var1  var1.mask1  var1.mask2  \\\n",
      "x      y          ranking z                                                   \n",
      "23F0AE 2021-01-01 1       10.0            0.1  10.1        True        True   \n",
      "       2022-02-02 2       10.0            0.1   0.4        True       False   \n",
      "578B98 2021-01-01 3       20.0            0.2   3.4       False       False   \n",
      "       2022-02-02 4       20.0            0.2   8.2       False        True   \n",
      "\n",
      "                                var1.variance location  \n",
      "x      y          ranking z                             \n",
      "23F0AE 2021-01-01 1       10.0            0.1    paris  \n",
      "       2022-02-02 2       10.0            0.2    paris  \n",
      "578B98 2021-01-01 3       20.0            0.3    paris  \n",
      "       2022-02-02 4       20.0            0.4    paris  \n"
     ]
    }
   ],
   "source": [
    "x_dataframe = x_example.to_dataframe()\n",
    "print(x_example.to_dataframe(json_name=False))"
   ]
  },
  {
   "cell_type": "markdown",
   "id": "33d7c97a-224b-431d-9716-aeabe7c4e165",
   "metadata": {
    "editable": true,
    "slideshow": {
     "slide_type": ""
    },
    "tags": []
   },
   "source": [
    "Notes:\n",
    "- *dimension*, *data_var*, *coordinate*, *unique*, *data_arrays* (with same length as `Xdataset` length) and associated *additionals* `Xndarray` are translated in Fields,\n",
    "- indexes are *dimension* and *coordinate* Fields\n",
    "- NTVtype are included in Field names\n",
    "- the other `Xndarray` are included in `pd.attrs` attribute (JSON representation)\n",
    "    - `var2` is a relative *data_var* and is not included in Fields\n",
    "    - `z_bis` is a *data_array* and is not included as a `xr.Dataset`\n",
    "- `Xdataset` name, `Xdataset` structure and metadata are included in `pd.attrs` attribute"
   ]
  },
  {
   "cell_type": "code",
   "execution_count": 9,
   "id": "59be3798-c608-4fc6-94ba-4a1384d5026b",
   "metadata": {
    "editable": true,
    "slideshow": {
     "slide_type": ""
    },
    "tags": []
   },
   "outputs": [
    {
     "data": {
      "text/plain": [
       "True"
      ]
     },
     "execution_count": 9,
     "metadata": {},
     "output_type": "execute_result"
    }
   ],
   "source": [
    "x_example_pd = Xdataset.from_dataframe(x_dataframe)\n",
    "x_example_pd == x_example_xr == x_example_json == x_example"
   ]
  },
  {
   "cell_type": "markdown",
   "id": "1b068caf-7e23-4e78-abca-8418bea4f21c",
   "metadata": {},
   "source": [
    "The interface is lossless and reversible."
   ]
  },
  {
   "cell_type": "markdown",
   "id": "73ffa4d8-af96-4079-a8c7-cb628b658789",
   "metadata": {},
   "source": [
    "#### Structure analysis\n",
    "If the `pd.attrs` attribute is not used, the multidimensional structure is calculated"
   ]
  },
  {
   "cell_type": "code",
   "execution_count": 10,
   "id": "2fe92887-5bc0-4e0b-a094-e5b12b0256d9",
   "metadata": {},
   "outputs": [
    {
     "data": {
      "text/html": [
       "<div>\n",
       "<style scoped>\n",
       "    .dataframe tbody tr th:only-of-type {\n",
       "        vertical-align: middle;\n",
       "    }\n",
       "\n",
       "    .dataframe tbody tr th {\n",
       "        vertical-align: top;\n",
       "    }\n",
       "\n",
       "    .dataframe thead th {\n",
       "        text-align: right;\n",
       "    }\n",
       "</style>\n",
       "<table border=\"1\" class=\"dataframe\">\n",
       "  <thead>\n",
       "    <tr style=\"text-align: right;\">\n",
       "      <th></th>\n",
       "      <th>x</th>\n",
       "      <th>y</th>\n",
       "      <th>ranking</th>\n",
       "      <th>z</th>\n",
       "      <th>z.uncertainty</th>\n",
       "      <th>var1</th>\n",
       "      <th>var1.mask1</th>\n",
       "      <th>var1.mask2</th>\n",
       "      <th>var1.variance</th>\n",
       "      <th>location</th>\n",
       "    </tr>\n",
       "  </thead>\n",
       "  <tbody>\n",
       "    <tr>\n",
       "      <th>0</th>\n",
       "      <td>23F0AE</td>\n",
       "      <td>2021-01-01</td>\n",
       "      <td>1</td>\n",
       "      <td>10.0</td>\n",
       "      <td>0.1</td>\n",
       "      <td>10.1</td>\n",
       "      <td>True</td>\n",
       "      <td>True</td>\n",
       "      <td>0.1</td>\n",
       "      <td>paris</td>\n",
       "    </tr>\n",
       "    <tr>\n",
       "      <th>1</th>\n",
       "      <td>23F0AE</td>\n",
       "      <td>2022-02-02</td>\n",
       "      <td>2</td>\n",
       "      <td>10.0</td>\n",
       "      <td>0.1</td>\n",
       "      <td>0.4</td>\n",
       "      <td>True</td>\n",
       "      <td>False</td>\n",
       "      <td>0.2</td>\n",
       "      <td>paris</td>\n",
       "    </tr>\n",
       "    <tr>\n",
       "      <th>2</th>\n",
       "      <td>578B98</td>\n",
       "      <td>2021-01-01</td>\n",
       "      <td>3</td>\n",
       "      <td>20.0</td>\n",
       "      <td>0.2</td>\n",
       "      <td>3.4</td>\n",
       "      <td>False</td>\n",
       "      <td>False</td>\n",
       "      <td>0.3</td>\n",
       "      <td>paris</td>\n",
       "    </tr>\n",
       "    <tr>\n",
       "      <th>3</th>\n",
       "      <td>578B98</td>\n",
       "      <td>2022-02-02</td>\n",
       "      <td>4</td>\n",
       "      <td>20.0</td>\n",
       "      <td>0.2</td>\n",
       "      <td>8.2</td>\n",
       "      <td>False</td>\n",
       "      <td>True</td>\n",
       "      <td>0.4</td>\n",
       "      <td>paris</td>\n",
       "    </tr>\n",
       "  </tbody>\n",
       "</table>\n",
       "</div>"
      ],
      "text/plain": [
       "        x          y  ranking     z  z.uncertainty  var1  var1.mask1  \\\n",
       "0  23F0AE 2021-01-01        1  10.0            0.1  10.1        True   \n",
       "1  23F0AE 2022-02-02        2  10.0            0.1   0.4        True   \n",
       "2  578B98 2021-01-01        3  20.0            0.2   3.4       False   \n",
       "3  578B98 2022-02-02        4  20.0            0.2   8.2       False   \n",
       "\n",
       "   var1.mask2  var1.variance location  \n",
       "0        True            0.1    paris  \n",
       "1       False            0.2    paris  \n",
       "2       False            0.3    paris  \n",
       "3        True            0.4    paris  "
      ]
     },
     "execution_count": 10,
     "metadata": {},
     "output_type": "execute_result"
    }
   ],
   "source": [
    "x_dataframe_empty = x_example.to_dataframe(json_name=False, info=False).reset_index()\n",
    "x_dataframe_empty"
   ]
  },
  {
   "cell_type": "code",
   "execution_count": 11,
   "id": "f6b3b205-f178-4954-b24d-40d65cab901a",
   "metadata": {},
   "outputs": [
    {
     "data": {
      "text/plain": [
       "{'primary': ['x', 'y'],\n",
       " 'secondary': ['z', 'z.uncertainty', 'var1.mask1'],\n",
       " 'mixte': ['var1.mask2'],\n",
       " 'unique': ['location'],\n",
       " 'variable': ['ranking', 'var1', 'var1.variance']}"
      ]
     },
     "execution_count": 11,
     "metadata": {},
     "output_type": "execute_result"
    }
   ],
   "source": [
    "ana = x_dataframe_empty.npd.analysis(distr=True)\n",
    "ana.field_partition(mode='id')"
   ]
  },
  {
   "cell_type": "code",
   "execution_count": 12,
   "id": "d761b276-17e8-4761-a763-3afd013e3e6c",
   "metadata": {},
   "outputs": [
    {
     "data": {
      "text/plain": [
       "{'x': ['x'],\n",
       " 'y': ['y'],\n",
       " 'z': ['x'],\n",
       " 'z.uncertainty': ['x'],\n",
       " 'var1.mask1': ['x'],\n",
       " 'var1.mask2': [],\n",
       " 'location': [],\n",
       " 'ranking': ['x', 'y'],\n",
       " 'var1': ['x', 'y'],\n",
       " 'var1.variance': ['x', 'y']}"
      ]
     },
     "execution_count": 12,
     "metadata": {},
     "output_type": "execute_result"
    }
   ],
   "source": [
    "ana.relation_partition()"
   ]
  },
  {
   "cell_type": "markdown",
   "id": "9f5ed3e1-5ed9-4683-a854-33c207cd62be",
   "metadata": {},
   "source": [
    "### Scipp interoperability"
   ]
  },
  {
   "cell_type": "code",
   "execution_count": 13,
   "id": "172357ac-2bb0-4c2b-8218-ae7df7f2010f",
   "metadata": {
    "scrolled": true
   },
   "outputs": [
    {
     "name": "stdout",
     "output_type": "stream",
     "text": [
      "<scipp.Dataset>\n",
      "Dimensions: Sizes[x:string:2, y:date:2, ]\n",
      "Coordinates:\n",
      "* ranking:month               int32  [dimensionless]  (x:string, y:date)  [1, 2, 3, 4]\n",
      "* x:string                   string  [dimensionless]  (x:string)  [\"23F0AE\", \"578B98\"]\n",
      "* y:date                  datetime64             [ns]  (y:date)  [2021-01-01T00:00:00.000000000, 2022-02-02T00:00:00.000000000]\n",
      "* z:float                   float64  [dimensionless]  (x:string)  [10, 20]\n",
      "Data:\n",
      "  var1:float                float64             [kg]  (x:string, y:date)  [10.1, 0.4, 3.4, 8.2]  [0.1, 0.2, 0.3, 0.4]\n",
      "    Masks:\n",
      "        mask1:boolean                bool  [dimensionless]  (x:string)  [True, False]\n",
      "        mask2:boolean                bool  [dimensionless]  (x:string, y:date)  [True, False, False, True]\n",
      "\n",
      "\n"
     ]
    }
   ],
   "source": [
    "x_scipp = x_example.to_scipp()\n",
    "print(x_scipp['example'])"
   ]
  },
  {
   "cell_type": "code",
   "execution_count": 14,
   "id": "6da43e6b-7dbc-4199-acab-891c3ffbac06",
   "metadata": {},
   "outputs": [
    {
     "data": {
      "text/html": [
       "<div><style id=\"scipp-style-sheet\">.sc-root{--sc-background-color0:var(--jp-layout-color0,#fff);--sc-background-color1:var(--jp-layout-color1,#fcfcfc);--sc-background-color2:var(--jp-layout-color2,#efefef);--sc-inverse-background-color0:var(--jp-inverse-layout-color4,#111);--sc-font-color0:var(--jp-content-font-color0,#000);--sc-font-color1:var(--jp-content-font-color1,#555);--sc-font-color2:var(--jp-content-font-color2,#888);--sc-font-color3:var(--jp-content-font-color3,#ccc);}body.vscode-dark .sc-root{--sc-font-color0:rgba(255,255,255,1);--sc-font-color1:rgba(255,255,255,0.70);--sc-font-color2:rgba(255,255,255,0.54);--sc-font-color3:rgba(255,255,255,0.38);--sc-border-color:#1F1F1F;--sc-disabled-color:#515151;--sc-background-color0:#111111;--sc-background-color1:#111111;--sc-background-color2:#313131;}.sc-wrap{font-size:14px;min-width:300px;max-width:800px;}.sc-var-attrs .sc-wrap{padding-left:3em;}.sc-header{padding-top:6px;padding-bottom:6px;margin-bottom:4px;border-bottom:solid 1px #ddd;}.sc-header > div,.sc-header > ul{display:inline;margin-top:0;margin-bottom:0;}.sc-obj-type,.sc-array-name{margin-left:2px;margin-right:10px;}.sc-obj-type{color:var(--sc-font-color1);}.sc-underlying-size{color:var(--sc-font-color2);}.sc-sections,.reveal .sc-sections{padding-left:0 !important;display:grid;grid-template-columns:150px auto auto auto 1fr 20px 20px;}.sc-section-item{display:contents;}.sc-section-item input{display:none;}.sc-section-item input:enabled + label{cursor:pointer;color:var(--sc-font-color1);}.sc-section-item input:enabled + label:hover{color:var(--sc-font-color0);}.sc-section-summary{grid-column:1;font-weight:500;}.sc-section-summary > span{display:inline-block;padding-left:0.5em;}.sc-section-summary-in:disabled + label{color:var(--sc-font-color1);}.sc-section-summary-in + label:before{display:inline-block;content:'â–º';font-size:11px;width:15px;text-align:center;}.sc-section-summary-in:disabled + label:before{color:var(--sc-font-color3);}.sc-section-summary-in:checked + label:before{content:'â–¼';}.sc-section-summary-in:checked + label > span{display:none;}.sc-section-summary,.sc-section-inline-details{padding-top:4px;padding-bottom:4px;}.sc-section-inline-details{grid-column:2 / 6;}.sc-section-details{display:none;grid-column:1 / -1;margin-bottom:5px;}.sc-section-summary-in:checked ~ .sc-section-details{display:contents;}.sc-array-wrap{grid-column:1 / -1;display:grid;grid-template-columns:20px auto;}.sc-array-wrap > label{grid-column:1;vertical-align:top;}.sc-preview{color:var(--sc-font-color2);}.sc-array-preview,.sc-array-data{padding:0 5px !important;grid-column:2;}.sc-array-data,.sc-array-in:checked ~ .sc-array-preview{display:none;}.sc-array-in:checked ~ .sc-array-data,.sc-array-preview{display:inline-block;}.sc-dim-list{display:inline-block !important;list-style:none;padding:0 !important;margin:0;}.sc-dim-list li{display:inline-block;padding:0;margin:0!important;}.sc-dim-list:before{content:'(';}.sc-dim-list:after{content:')';}.sc-dim-list li:not(:last-child):after{content:',';padding-right:5px;}.sc-dim-list li span,.sc-standalone-var-name > span span,.sc-var-name > span span{padding:0 !important;}.sc-aligned{font-weight:bold;}.sc-var-list,.sc-var-item,.reveal .sc-var-list,.reveal .sc-var-item{display:contents;}.sc-var-item > div,.sc-var-item label,.sc-var-item > .sc-var-name span{background-color:var(--sc-background-color1);margin-bottom:0;}.sc-var-item > .sc-var-name:hover span{padding-right:5px;}.sc-var-list > li:nth-child(odd) > div,.sc-var-list > li:nth-child(odd) > label,.sc-var-list > li:nth-child(odd) > .sc-var-name span{background-color:var(--sc-background-color2);}.sc-var-name{grid-column:1;}.sc-var-dims{grid-column:2;}.sc-var-dtype{grid-column:3;text-align:right;color:var(--sc-font-color2);}.sc-var-unit{grid-column:4;text-align:left;color:var(--sc-font-color1);max-width:50pt;text-overflow:ellipsis;}.sc-value-preview{grid-column:5;}.sc-var-preview-variances{text-align:right;}.sc-sections .sc-section-item .sc-section-summary,.sc-sections .sc-section-item .sc-section-inline-details,.sc-section-item .sc-var-list .sc-var-item > div,.sc-section-item .sc-var-list .sc-var-item > label,.sc-section-details .sc-var-list .sc-var-item > div,.sc-section-details .sc-var-list .sc-var-item > label{margin-top:0;margin-bottom:0;}.sc-var-name,.sc-var-dims,.sc-var-dtype,.sc-var-unit,.sc-preview,.sc-attrs dt{white-space:nowrap;overflow:hidden;text-overflow:ellipsis;padding-right:10px;}.sc-var-name:hover,.sc-var-dims:hover,.sc-var-dtype:hover,.sc-var-unit:hover,.sc-attrs dt:hover{overflow:visible;width:auto;z-index:1;}.sc-var-attrs{display:block;}.sc-var-data,.reveal .sc-var-data{display:none;}.sc-var-attrs,.sc-var-data{background-color:var(--sc-background-color0) !important;padding-bottom:5px !important;}.sc-var-attrs-in:checked ~ .sc-var-attrs{display:none;}.sc-var-data-in:checked ~ .sc-var-data{display:block;}.sc-var-data > table{float:right;}.sc-var-name span,.sc-var-data{padding-left:25px !important;}.sc-var-attrs,.sc-var-data{grid-column:1 / -1;}dl.sc-attrs{padding:0;margin:0;display:grid;grid-template-columns:125px auto;}.sc-attrs dt,dd{padding:0;margin:0;float:left;padding-right:10px;width:auto;}.sc-attrs dt{font-weight:normal;grid-column:1;}.sc-attrs dt:hover span{display:inline-block;padding-right:10px;}.sc-attrs dd{grid-column:2;white-space:pre-wrap;word-break:break-all;}.sc-icon-database,.sc-icon-file-text2{display:inline-block;vertical-align:middle;width:1em;height:1.5em !important;stroke-width:0;stroke:currentColor;fill:currentColor;}label.sc-hide-icon svg{opacity:0;}.sc-standalone-var-name{grid-column:1/3;}.sc-standalone-var-name span{padding-left:25px;padding-right:10px;}.sc-title{font-weight:bold;font-size:1.5em;}.sc-subtitle{font-weight:normal;font-style:italic;text-align:left;font-size:1.2em;padding:1px;}.sc-label{fill:var(--sc-font-color0,#444444);text-anchor:middle;}.sc-name{fill:var(--sc-font-color0,#111111);}.sc-inset-line{stroke:var(--sc-font-color1);stroke-width:0.05;stroke-dasharray:0.2,0.2;}.sc-log-wrap{height:25ex;resize:vertical;overflow-y:scroll;display:flex;flex-direction:column-reverse;border:1px solid;border-color:var(--jp-border-color2);background-color:var(--sc-background-color1);}div.sc-log{line-height:2.5ex;}table.sc-log{table-layout:auto;border-collapse:collapse;}tr.sc-log:nth-child(even){background-color:var(--sc-background-color0);}tr.sc-log > td{vertical-align:top;padding-bottom:0.5ex;}.sc-log-time-stamp{min-width:22ch;font-family:var(--jp-code-font-family);color:var(--sc-font-color2);}.sc-log-level{min-width:10ch;}tr.sc-log-debug td.sc-log-level{color:var(--jp-accent-color1);}tr.sc-log-info td.sc-log-level{color:var(--jp-info-color1);}tr.sc-log-warning td.sc-log-level{color:var(--jp-warn-color1);}tr.sc-log-error td.sc-log-level{font-weight:bold;color:var(--jp-error-color2);}tr.sc-log-critical td.sc-log-level{font-weight:bold;color:var(--sc-background-color0);background-color:var(--jp-error-color1);}.sc-log-message{white-space:pre-wrap;width:100%;}.sc-log-html-payload{white-space:normal;}.sc-log-name{padding-right:0.5em;text-align:right;white-space:pre-wrap;color:var(--sc-font-color3);}</style><style id=\"datagroup-style-sheet\">.dg-root{white-space:normal;font-size:14px;min-width:300px;max-width:1200px;}.dg-root *{box-sizing:border-box;}.sc-header > label,.sc-header > label > div,.sc-header > label > div > ul{display:inline;margin-bottom:0;}.dg-header-in{display:none;}.dg-header-in + .sc-header > label:before{display:inline-block;font-size:11px;text-align:left;content:'â–º';}.dg-header-in:checked + .sc-header > label:before{content:'â–¼';}.dg-header-in ~ .dg-detail-box{display:none;}.dg-header-in:checked ~ .dg-detail-box{display:grid;}.dg-detail-box{margin-top:5px;margin-bottom:5px;column-gap:0 !important;display:grid;grid-template-columns:max-content max-content max-content max-content max-content max-content max-content;grid-template-areas:\"name        parent      object-type shape       dtype       unit        preview\";}.dg-detail-box *{margin-top:0;margin-bottom:0;}.dg-detail-list{display:contents;}.dg-detail-item{display:contents;list-style-type:none;}.dg-detail-item-in{display:none;}.dg-detail-item-in + .dg-detail-name > label:before{display:inline-block;font-size:14px;text-align:left;content:'â–º';}.dg-detail-item-in:checked + .dg-detail-name > label:before{content:'â–¼';}.dg-detail-item div,.dg-detail-item span,.dg-detail-item label{word-break:break-all;min-width:1em;max-width:20em;width:100%;}.dg-detail-item > div{display:contents;}.dg-detail-item > div > div > div{width:100%;}.dg-detail-item:hover > div > div{background-color:var(--sc-background-color2) !important;}.dg-detail-item > div span{padding-left:10px;padding-right:10px;}.dg-detail-item > div > div:first-of-type{grid-column-start:1;}.dg-detail-item-subsection{display:none;}.dg-detail-item-in{margin:0;}.dg-detail-item-in:checked ~ .dg-detail-item-subsection{display:contents;}.dg-detail-item .dg-detail-name{grid-area:\"name\";min-width:5em;}.dg-detail-name{padding-left:calc(var(--depth)*2em);}.dg-detail-name > label{padding-left:8px;}.dg-detail-name > label > span{padding-left:0.1em;}.dg-detail-item .dg-detail-parent{grid-area:\"parent\";text-align:right;}.dg-detail-item .dg-detail-objtype{grid-area:\"objtype\";text-align:left;}.dg-detail-item .dg-detail-shape{max-width:30em;grid-area:\"shape\";text-align:left;}.sc-header .dg-detail-shape{margin-left:1em;text-align:left;}.dg-detail-item .dg-detail-dtype{grid-area:\"dtype\";text-align:left;}.dg-detail-item .dg-detail-unit{grid-area:\"unit\";text-align:center;}.dg-detail-item .dg-detail-preview{grid-area:\"preview\";min-width:15em;max-width:100em !important;text-align:left;}.dg-detail-preview .sc-preview span,.dg-detail-shape span{padding:0 !important;}</style><div class='sc-root dg-root'><input class='dg-header-in' id='datagroup-view-55623f65-1698-4047-bb72-afaf8ff7d3c6' type='checkbox' checked><div class='sc-header'><label for=datagroup-view-55623f65-1698-4047-bb72-afaf8ff7d3c6 title='Expand/collapse'><div class='sc-obj-type'>scipp.DataGroup </div><div class='dg-detail-shape'>(x:string: 2, y:date: 2, z_bis:string: 2)</div></label></div><div class='dg-detail-box'><ul class='dg-detail-list'><li class='dg-detail-item'><div><div class='dg-detail-name' style='--depth: 0;'><span>example</span></div><div class='dg-detail-parent'><span style='opacity: 0.5;'>scipp</span></div><div class='dg-detail-objtype'><span>Dataset</span></div><div class='dg-detail-shape'>(x:string: 2, y:date: 2)</div><div class='dg-detail-dtype'><span></span></div><div class='dg-detail-unit'><span></span></div><div class='dg-detail-preview'><span class='sc-preview'>(var1:float: DataArray)</span></div></div></li><li class='dg-detail-item'><div><div class='dg-detail-name' style='--depth: 0;'><span>z.uncertainty:float64</span></div><div class='dg-detail-parent'><span style='opacity: 0.5;'>scipp</span></div><div class='dg-detail-objtype'><span>Variable</span></div><div class='dg-detail-shape'>(x:string: 2)</div><div class='dg-detail-dtype'><span>float64</span></div><div class='dg-detail-unit'><span>𝟙</span></div><div class='dg-detail-preview'><span class='sc-preview'>0.1, 0.2</span></div></div></li><li class='dg-detail-item'><div><div class='dg-detail-name' style='--depth: 0;'><span>z_bis:string</span></div><div class='dg-detail-parent'><span style='opacity: 0.5;'>scipp</span></div><div class='dg-detail-objtype'><span>Variable</span></div><div class='dg-detail-shape'>(z_bis:string: 2)</div><div class='dg-detail-dtype'><span>string</span></div><div class='dg-detail-unit'><span>𝟙</span></div><div class='dg-detail-preview'><span class='sc-preview'>z1_bis, z2_bis</span></div></div></li><li class='dg-detail-item'><div><div class='dg-detail-name' style='--depth: 0;'><span>x.meta</span></div><div class='dg-detail-parent'><span style='opacity: 0.5;'></span></div><div class='dg-detail-objtype'><span>dict</span></div><div class='dg-detail-shape'>()</div><div class='dg-detail-dtype'><span></span></div><div class='dg-detail-unit'><span></span></div><div class='dg-detail-preview'><span class='sc-preview'>{&#x27;test&#x27;: 21}</span></div></div></li><li class='dg-detail-item'><div><div class='dg-detail-name' style='--depth: 0;'><span>info.meta</span></div><div class='dg-detail-parent'><span style='opacity: 0.5;'></span></div><div class='dg-detail-objtype'><span>dict</span></div><div class='dg-detail-shape'>()</div><div class='dg-detail-dtype'><span></span></div><div class='dg-detail-unit'><span></span></div><div class='dg-detail-preview'><span class='sc-preview'>{&#x27;path&#x27;: &#x27;https://github.com/loco-philippe/ntv-numpy/tree/main/example/&#x27;}</span></div></div></li><li class='dg-detail-item'><div><div class='dg-detail-name' style='--depth: 0;'><span>location.meta</span></div><div class='dg-detail-parent'><span style='opacity: 0.5;'></span></div><div class='dg-detail-objtype'><span>str</span></div><div class='dg-detail-shape'>()</div><div class='dg-detail-dtype'><span></span></div><div class='dg-detail-unit'><span></span></div><div class='dg-detail-preview'><span class='sc-preview'>paris</span></div></div></li><li class='dg-detail-item'><div><div class='dg-detail-name' style='--depth: 0;'><span>var2</span></div><div class='dg-detail-parent'><span style='opacity: 0.5;'></span></div><div class='dg-detail-objtype'><span>list</span></div><div class='dg-detail-shape'>()</div><div class='dg-detail-dtype'><span></span></div><div class='dg-detail-unit'><span></span></div><div class='dg-detail-preview'><span class='sc-preview'>[[&#x27;var2.ntv&#x27;], [&#x27;x&#x27;, &#x27;y&#x27;]]</span></div></div></li></ul></div></div></div>"
      ],
      "text/plain": [
       "DataGroup(sizes={'x:string': 2, 'y:date': 2, 'z_bis:string': 2}, keys=[\n",
       "    example: Dataset({'x:string': 2, 'y:date': 2}),\n",
       "    z.uncertainty:float64: Variable({'x:string': 2}),\n",
       "    z_bis:string: Variable({'z_bis:string': 2}),\n",
       "    x.meta: {'test': 21,\n",
       "    info.meta: {'path': 'https://github.com/loco-philippe/ntv-numpy/tree/main/example/',\n",
       "    location.meta: pari,\n",
       "    var2: [['var2.ntv'], ['x', 'y'],\n",
       "])"
      ]
     },
     "execution_count": 14,
     "metadata": {},
     "output_type": "execute_result"
    }
   ],
   "source": [
    "x_scipp"
   ]
  },
  {
   "cell_type": "markdown",
   "id": "16e2f731-5620-463f-bf0d-bc56c5e4d9a9",
   "metadata": {
    "editable": true,
    "slideshow": {
     "slide_type": ""
    },
    "tags": []
   },
   "source": [
    "Notes:\n",
    "- the `Xdataset` is translated as a `sc.Dataset` and in a `sc.DataGroup` \n",
    "- the NTVtype is added to the name of `sc.DataArray`\n",
    "- the variance is included in `sc.Variable`\n",
    "- masks are associated to the `sc.DataArray`\n",
    "- data not compatible with a `sc.Dataset` is present in the `sc.DataGroup`:\n",
    "    - `var2` is a relative *data_var* and is not included in the `sc.Dataset`\n",
    "    - `z.uncertainty` is a *additional* and is not included as variance\n",
    "    - the `Xdataset` name is not available with xr.Dataset\n",
    "    - `z_bis` is a *data_array* and is not included in the `sc.Dataset`\n",
    "    - attributes are included in the `sc.Dataset`"
   ]
  },
  {
   "cell_type": "code",
   "execution_count": 15,
   "id": "d18c6d98-76f9-4fce-86e3-312edc0361cb",
   "metadata": {
    "editable": true,
    "slideshow": {
     "slide_type": ""
    },
    "tags": []
   },
   "outputs": [
    {
     "data": {
      "text/plain": [
       "True"
      ]
     },
     "execution_count": 15,
     "metadata": {},
     "output_type": "execute_result"
    }
   ],
   "source": [
    "x_example_sc = Xdataset.from_scipp(x_scipp)\n",
    "x_example_sc == x_example_pd == x_example_xr == x_example_json == x_example"
   ]
  },
  {
   "cell_type": "markdown",
   "id": "6746ccc6-e7ac-4491-8f3e-a438ba71f29c",
   "metadata": {
    "editable": true,
    "slideshow": {
     "slide_type": ""
    },
    "tags": []
   },
   "source": [
    "The interface is lossless and reversible."
   ]
  },
  {
   "cell_type": "markdown",
   "id": "dd230aaa-1cc2-46da-881c-984de8b0cedb",
   "metadata": {
    "editable": true,
    "slideshow": {
     "slide_type": ""
    },
    "tags": []
   },
   "source": [
    "### NDData interoperability"
   ]
  },
  {
   "cell_type": "code",
   "execution_count": 16,
   "id": "a6e7c852-e16e-4172-8723-12a2e08f0644",
   "metadata": {
    "editable": true,
    "slideshow": {
     "slide_type": ""
    },
    "tags": []
   },
   "outputs": [
    {
     "data": {
      "text/plain": [
       "{'name': 'example',\n",
       " 'xtype': 'group',\n",
       " 'data_arrays': ['data', 'psf'],\n",
       " 'additionals': ['data.mask', 'data.uncertainty'],\n",
       " 'metadata': ['meta', 'wcs'],\n",
       " 'validity': 'valid',\n",
       " 'width': 6}"
      ]
     },
     "execution_count": 16,
     "metadata": {},
     "output_type": "execute_result"
    }
   ],
   "source": [
    "example = {\n",
    "    'example:xdataset': {\n",
    "        'data': [['float64[erg / s]', [1,2,3,4]]],\n",
    "        'data.mask': [[[False, False, True, True]]],\n",
    "        'data.uncertainty': [['float64[std]', [1.0, 1.414, 1.732, 2.0]]],\n",
    "        'meta': {'object': 'fictional data.'},\n",
    "        'wcs':  {'WCSAXES': 2, 'CRPIX1': 2048.0, 'CRPIX2': 1024.0, 'PC1_1': 1.2905625619716e-05,\n",
    "                 'PC1_2': 5.9530912331034e-06, 'PC2_1': 5.0220581265601e-06, 'PC2_2': -1.2644774105568e-05,\n",
    "                 'CDELT1': 1.0, 'CDELT2': 1.0, 'CUNIT1': 'deg', 'CUNIT2': 'deg', 'CTYPE1': 'RA---TAN',\n",
    "                 'CTYPE2': 'DEC--TAN', 'CRVAL1': 5.63056810618, 'CRVAL2': -72.05457184279, 'LONPOLE': 180.0,\n",
    "                 'LATPOLE': -72.05457184279, 'WCSNAME': 'IDC_qbu1641sj', 'MJDREF': 0.0, 'RADESYS': 'ICRS'},\n",
    "        'psf': [['float64[erg / s]', [1,2,3,4]]]}} \n",
    "n_example = Xdataset.read_json(example)\n",
    "n_example.info['structure']"
   ]
  },
  {
   "cell_type": "code",
   "execution_count": 17,
   "id": "11d727ab-00b8-49b9-ba6e-2640235ff118",
   "metadata": {
    "editable": true,
    "slideshow": {
     "slide_type": ""
    },
    "tags": []
   },
   "outputs": [
    {
     "data": {
      "text/plain": [
       "NDData([1., 2., ——, ——], unit='erg / s')"
      ]
     },
     "execution_count": 17,
     "metadata": {},
     "output_type": "execute_result"
    }
   ],
   "source": [
    "n_nddata = n_example.to_nddata()\n",
    "n_nddata"
   ]
  },
  {
   "cell_type": "markdown",
   "id": "fed6c82e-11b6-4e48-a9c9-76c49e15520e",
   "metadata": {
    "editable": true,
    "slideshow": {
     "slide_type": ""
    },
    "tags": []
   },
   "source": [
    "Notes:\n",
    "- the `Xdataset` is translated in a `astropy.NDData` where :\n",
    "    - 'data' attribute is the 'data' `Xndarray`\n",
    "    - 'mask' attribute is the 'data.mask' `Xndarray`\n",
    "    - 'uncertainty' attribute is the 'data.uncertainty' `Xndarray` with the uncertainty_type defined by the ntv_type extension\n",
    "    - 'meta' attribute is the 'meta' `Xndarray` with an additional key for the `Xdataset` 'name'\n",
    "    - 'wcs' attribute is the 'wcs' `Xndarray` converted in a `wcs.WCS` object"
   ]
  },
  {
   "cell_type": "code",
   "execution_count": 18,
   "id": "7a09406c-00b7-4678-8126-b32cd0811571",
   "metadata": {
    "editable": true,
    "slideshow": {
     "slide_type": ""
    },
    "tags": []
   },
   "outputs": [
    {
     "data": {
      "text/plain": [
       "True"
      ]
     },
     "execution_count": 18,
     "metadata": {},
     "output_type": "execute_result"
    }
   ],
   "source": [
    "n_example_ndd = Xdataset.from_nddata(n_nddata)\n",
    "n_example_ndd == n_example"
   ]
  },
  {
   "cell_type": "markdown",
   "id": "c7fefa38-f3dd-4ef1-a875-aecdd2e5553d",
   "metadata": {
    "editable": true,
    "slideshow": {
     "slide_type": ""
    },
    "tags": []
   },
   "source": [
    "The interface is lossless and reversible."
   ]
  },
  {
   "cell_type": "markdown",
   "id": "a2e454f6-4357-478b-83c7-a7802015c097",
   "metadata": {},
   "source": [
    "## Exchanging and sharing data"
   ]
  },
  {
   "cell_type": "markdown",
   "id": "3ed3e494-ba32-4ef3-8a32-7f1f03de756f",
   "metadata": {},
   "source": [
    "### Neutral format\n",
    "The JSON format presented does not use any data specific to any of the existing tools. \n",
    "The interface with multi-dimensional data processing tools is also reversible.\n",
    "\n",
    "The proposed format is therefore a neutral format and can be used for the exchange of multi-dimensional data between different tools or platforms."
   ]
  },
  {
   "cell_type": "markdown",
   "id": "dd801038-6983-426d-9e9c-348dd6baa26a",
   "metadata": {},
   "source": [
    "### URI usage\n",
    "An alternative approach consists of exchanging only the structural data and making the elementary data downloadable.\n",
    "\n",
    "This also has the advantage of managing elementary data independently of the dataset.\n",
    "\n",
    "The application of this approach to the previous example is shown below."
   ]
  },
  {
   "cell_type": "code",
   "execution_count": 19,
   "id": "3c9cfa0a-bc90-4e6e-9257-5d15bf0ca0ed",
   "metadata": {},
   "outputs": [
    {
     "data": {
      "text/plain": [
       "{'name': 'example',\n",
       " 'xtype': 'group',\n",
       " 'data_vars': ['var1', 'var2'],\n",
       " 'data_arrays': ['z_bis'],\n",
       " 'dimensions': ['x', 'y'],\n",
       " 'coordinates': ['ranking', 'z'],\n",
       " 'additionals': ['var1.mask1', 'var1.mask2', 'var1.variance', 'z.uncertainty'],\n",
       " 'metadata': ['info'],\n",
       " 'uniques': ['location'],\n",
       " 'validity': 'undefined',\n",
       " 'width': 13}"
      ]
     },
     "execution_count": 19,
     "metadata": {},
     "output_type": "execute_result"
    }
   ],
   "source": [
    "#only structural data\n",
    "example = {\n",
    "    'example:xdataset': {\n",
    "        'var1': [['float[kg]', [2, 2], 'var1.ntv'], ['x', 'y']],\n",
    "        'var1.variance': [[[2, 2], 'var1_variance.ntv']],\n",
    "        'var1.mask1': [['var1_mask1.ntv'], ['x']],\n",
    "        'var1.mask2': [[[2, 2], 'var1_mask2.ntv']],\n",
    "    \n",
    "        'var2': [['var2.ntv'], ['x', 'y']],    \n",
    "        \n",
    "        'x': [['x.ntv'], {'test': 21}],\n",
    "        'y': [['date', 'y.ntv']],\n",
    "        \n",
    "        'ranking': [['month', [2, 2], 'ranking.ntv'], ['var1']],\n",
    "        'z': [['float', 'z.ntv'], ['x']],\n",
    "        'z.uncertainty': [['z_uncertainty.ntv']],\n",
    "        \n",
    "        'z_bis': [['z_bis.ntv']],\n",
    "    \n",
    "        'info': {'path': 'https://github.com/loco-philippe/ntv-numpy/tree/main/example/'},\n",
    "        'location': 'paris'\n",
    "    }\n",
    "}\n",
    "\n",
    "x_example_mixte = Xdataset.read_json(example)\n",
    "x_example_mixte.info['structure']"
   ]
  },
  {
   "cell_type": "markdown",
   "id": "5ad9bdc9-2988-428b-a6bc-647c3b1dceb6",
   "metadata": {},
   "source": [
    "Addition of elementary data."
   ]
  },
  {
   "cell_type": "code",
   "execution_count": 20,
   "id": "b95f62b7-eff9-4b63-a169-ee97cd1ee144",
   "metadata": {},
   "outputs": [
    {
     "data": {
      "text/plain": [
       "True"
      ]
     },
     "execution_count": 20,
     "metadata": {},
     "output_type": "execute_result"
    }
   ],
   "source": [
    "from ntv_numpy import Ndarray\n",
    "from copy import copy\n",
    "\n",
    "# simulation of reading \".ntv\" json files at the indicated \"path\"\n",
    "var1          = [[10.1, 0.4, 3.4, 8.2]]\n",
    "var1_variance = ['float', [0.1, 0.2, 0.3, 0.4]]\n",
    "var1_mask1    = [[True, False]]\n",
    "var1_mask2    = [[True, False, False, True]]\n",
    "var2          = ['var2.ntv']\n",
    "x             = ['string', ['23F0AE', '578B98']]\n",
    "y             = ['date', ['2021-01-01', '2022-02-02']]\n",
    "ranking       = [[1, 2, 3, 4]]\n",
    "z             = [[10.0, 20.0]]\n",
    "z_uncertainty = [[0.1, 0.2]]\n",
    "z_bis         = [['z1_bis', 'z2_bis']]\n",
    "\n",
    "json_files = [var1, var1_variance, var1_mask1, var1_mask2, var2, x, y, ranking, z, z_uncertainty, z_bis]\n",
    "\n",
    "x_example_mixte_json =copy(x_example_mixte)\n",
    "\n",
    "for data, xnda in zip(json_files, x_example_mixte_json.xnd):\n",
    "    xnda.set_ndarray(Ndarray.read_json(data))\n",
    "\n",
    "x_example_mixte_json == x_example_sc == x_example_pd == x_example_xr == x_example_json == x_example"
   ]
  },
  {
   "cell_type": "code",
   "execution_count": 21,
   "id": "fb6cfa9f-3353-4973-b840-88a1c67fbddf",
   "metadata": {},
   "outputs": [
    {
     "data": {
      "text/plain": [
       "True"
      ]
     },
     "execution_count": 21,
     "metadata": {},
     "output_type": "execute_result"
    }
   ],
   "source": [
    "import numpy as np\n",
    "\n",
    "# simulation of reading files at the indicated \"path\"\n",
    "var1          = np.array([10.1, 0.4, 3.4, 8.2])\n",
    "var1_variance = Ndarray([0.1, 0.2, 0.3, 0.4], ntv_type='float')\n",
    "var1_mask1    = np.array([True, False])\n",
    "var1_mask2    = np.array([True, False, False, True])\n",
    "var2          = Ndarray('var2.ntv')\n",
    "x             = np.array(['23F0AE', '578B98'])\n",
    "y             = np.array(['2021-01-01', '2022-02-02'], dtype='datetime64[D]')\n",
    "ranking       = np.array([1, 2, 3, 4])\n",
    "z             = np.array([10.0, 20.0])\n",
    "z_uncertainty = np.array([0.1, 0.2])\n",
    "z_bis         = np.array(['z1_bis', 'z2_bis'])\n",
    "\n",
    "array_data = [var1, var1_variance, var1_mask1, var1_mask2, var2, x, y, ranking, z, z_uncertainty, z_bis]\n",
    "\n",
    "x_example_mixte_numpy = copy(x_example_mixte)\n",
    "for data, xnda in zip(array_data, x_example_mixte_numpy.xnd):\n",
    "    xnda.set_ndarray(Ndarray(data))\n",
    "\n",
    "x_example_mixte_numpy == x_example_mixte_json == x_example_sc == x_example_pd == x_example_xr == x_example_json == x_example"
   ]
  },
  {
   "cell_type": "markdown",
   "id": "af546abf-51e5-49c7-b9d3-e9cff08b2db8",
   "metadata": {
    "editable": true,
    "slideshow": {
     "slide_type": ""
    },
    "tags": []
   },
   "source": [
    "## Summary\n",
    "This example shows that the use of a neutral format associated with lossless interfaces provides complete interoperability.\n",
    "\n",
    "The example also shows that we can completely separate:\n",
    "\n",
    "- the data used in the datasets,\n",
    "- the datasets that use them,\n",
    "- the tools and platforms used."
   ]
  },
  {
   "cell_type": "markdown",
   "id": "cbe4200a",
   "metadata": {},
   "source": [
    "## Appendix - NTV data\n",
    "NTV format is a data representation with three attributes:\n",
    "- NTVname (string)\n",
    "- NTVtype (enumerate string)\n",
    "- NTVvalue (JSON object) \n",
    "\n",
    "Two entities are defined:\n",
    "- NTVlist : ordered list of entities\n",
    "- NTVsingle : entity not composed with other entities\n",
    "\n",
    "The JSON representation of NTVsingle entities is :\n",
    "- value :\n",
    "```json\n",
    "    25, \"test\", [1,2]\n",
    "```\n",
    "\n",
    "- name and value : \n",
    "```json\n",
    "    {\"test\": 25}, {\"test:\": [1,2]}\n",
    "```\n",
    "- type and value :\n",
    "```json\n",
    "    {\":day\": 25}, {\":point\": [1,2]}\n",
    "```\n",
    "- type name and value : \n",
    "```json\n",
    "    {\"equinox:date\": \"2023-09-23\"}, {\"paris:point\": [2.35, 48.86]}\n",
    "```\n",
    "\n",
    "The JSON representation of NTVlist entities is :\n",
    "\n",
    "- if entities have JSON_member representation \n",
    "```json\n",
    "    { \"name_NTVlist: type_NTVlist\": {JSON_entity1  , ...  JSONentityn }}\n",
    "    \n",
    "    { \"example\": {\"equinox:date\": \"2023-09-23\" , \"paris:point\": [2.35 , 48.86] }}\n",
    "```\n",
    "\n",
    "- in the other cases :\n",
    "```json\n",
    "    { \"name_NTVlist: type_NTVlist\": [ JSON_entity1 , ... JSONentityn ] } \n",
    "    \n",
    "    { \"example\": [25, {\"paris:point\": [2.35, 48.86] }, \"test\"]}\n",
    "```\n",
    "\n",
    "The NTVtype can be extended with an additional information.\n",
    "    \n",
    "```json \n",
    "    \"float32[kg]\" is a \"float32\" NTVtype with \"kg\" unit\n",
    "    {\"comment:string[fr]\": \"Paris est une belle ville\"}\n",
    "``` "
   ]
  },
  {
   "cell_type": "markdown",
   "id": "1b19cd06",
   "metadata": {},
   "source": [
    "## Appendix - JSON representation"
   ]
  },
  {
   "cell_type": "markdown",
   "id": "f8930b7d",
   "metadata": {
    "jp-MarkdownHeadingCollapsed": true
   },
   "source": [
    "### Multidimensional NTVtype\n",
    "Multidimensional data is characterized by four NTVtype :\n",
    "\n",
    "- `darray` for darray data\n",
    "- `ndarray` for ndarra data\n",
    "- `xndarray` for xndarray data\n",
    "- `xdataset` for xdataset data\n",
    "\n",
    "The JSON representation of these NTVtype is defined below."
   ]
  },
  {
   "cell_type": "markdown",
   "id": "7024ff87",
   "metadata": {},
   "source": [
    "### JSON darray data\n",
    "JSON `darray`is a JsonArray \n",
    "\n",
    "The JSON representation is obtained by:\n",
    "\n",
    "- Converting structure of darray data into JSON structure\n",
    "- Conversion of elementary data into a JSON primitive,\n",
    "\n",
    "Example of formats available:\n",
    "\n",
    "Simple format:\n",
    "```json\n",
    "[ \"apple\", \"apple\", \"orange\", \"apple\", \"apple\", \"pepper\", \"banana\", \"apple\" ]\n",
    "```\n",
    "Categorical format:\n",
    "```json\n",
    "[[\"orange\",\"pepper\",\"apple\",\"banana\"], [2, 2, 0, 2, 2, 1, 3, 2] ]\n",
    "```\n",
    "Sparse format (8: length, -1: default value):\n",
    "```json\n",
    "[[\"orange\",\"pepper\",\"banana\", \"apple\"], [8], [2, 5, 6, -1]]\n",
    "```\n",
    "Periodic format (18: length, 2:repetition coefficient)\n",
    "\n",
    "   *representation of [10, 10, 20, 20, 30, 30, 10, 10, 20, 20, 30, 30, 10, 10, 20, 20, 30, 30]* :\n",
    "```json\n",
    "[[10, 20, 30], [18], [2]]\n",
    "```"
   ]
  },
  {
   "cell_type": "markdown",
   "id": "b765e767",
   "metadata": {},
   "source": [
    "### JSON ndarray data\n",
    "JSON `ndarray` is a JsonArray with three JsonElements (NTVtype, shape, darray) where darray is a JSON `darray`:\n",
    "\n",
    "Example: \n",
    "\n",
    "ndarray with simple format\n",
    "```json\n",
    "[\"int32\", [2, 2], [30, 40, 30, 40]]\n",
    "```\n",
    "ndarray with categorical format\n",
    "```json\n",
    "[\"int32\", [2, 2], [[30, 40], [0, 1, 0, 1]]]\n",
    "```\n",
    "ndarray with sparse format\n",
    "```json\n",
    "[\"int32\", [2, 2], [[30, 30, 40], [4], [0, 2, -1]]]\n",
    "```\n",
    "ndarray with implicit format (format defined by the linked 'x' ndarray)\n",
    "```json\n",
    "[\"int32\", [[10, 20], 'x']]\n",
    "```\n",
    "ndarray with relative format (format defined by the linked 'x' ndarray)\n",
    "```json\n",
    "[\"int32\", [[10, 20], 'x', [ 0, 1, 0, 0 ]]]\n",
    "```\n",
    "ndarray with simple format and list data\n",
    "```json\n",
    "[\"point\", [2, 2], [[5, 15], [25, 35], [45, 55], [65, 75]]]\n",
    "```\n",
    "ndarray with extended ntv_type\n",
    "```json\n",
    "[\"int32[kg]\", [1, 2, 3, 4]]\n",
    "```\n",
    "ndarray without ntv_type\n",
    "```json\n",
    "[[1, 2, 3, 4]]\n",
    "```\n",
    "ndarray defined by a URI\n",
    "```json\n",
    "[\"https://raw.githubusercontent.com/loco-philippe/ntv-numpy/master/example/ex_ndarray.ntv\"]\n",
    "[\"int32[kg]\", \"https://raw.githubusercontent.com/loco-philippe/ntv-numpy/master/example/ex_ndarray.ntv\"]\n",
    "```\n",
    "Note:\n",
    "- shape is optional with unidimensional data (deduced from darray)\n",
    "- NTVtype is optional (deduced from data type)"
   ]
  },
  {
   "cell_type": "markdown",
   "id": "2e1ac49d",
   "metadata": {},
   "source": [
    "### JSON xndarray data\n",
    "\n",
    "JSON `xndarray` is a JsonObject with a single JsonMember {\"name\": xvalue}.\n",
    "\n",
    "xvalue is a JsonArray with three optional JsonElements \n",
    "\n",
    "    - ndarray: JSON representation or uri string,\n",
    "    - links: JsonArray with the name of linked ndarray,\n",
    "    - meta: JsonObject with metadata\n",
    "\n",
    "If ndarray or links are note present, meta can be a single string.\n",
    "\n",
    "`xndarray` entity can be metadata, ndarray, dimension, variable or additional ndarray:\n",
    "\n",
    "metadata:\n",
    "```json\n",
    "{\"unit\": \"kg\"}\n",
    "{\"meta\": {\"dict\": \"everything\"}}\n",
    "```\n",
    "named-array (data-array or dimension in the context of a dataset):\n",
    "```json\n",
    "{\":xndarray\": [[\"int64[kg]\", [10, 20]]]}\n",
    "{\"y\": [[\"string\", [2], [\"y1\", \"y2\"]]]}\n",
    "```\n",
    "named-array with metadata:\n",
    "```json\n",
    "{\"x\": [[[\"x1\", \"x2\"]], {\"test\": 21}]}\n",
    "```\n",
    "additional-array:\n",
    "```json\n",
    "{\"x.mask\": [[[True, False]]]}\n",
    "{\"x.uncertainty\": [[[0.1, 0.2]]]}\n",
    "{\"z.variance\": [[[0.1, 0.2]]]}\n",
    "```\n",
    "Variable (data-vars or coordinate in the context of a dataset):\n",
    "```json\n",
    "{\"var1\": [[\"float[kg]\", [2, 2], [10.1, 0.4, 3.4, 8.2]], [\"x\", \"y\"]]}\n",
    "{\"z\": [[[\"z1\", \"z2\"]], [\"x\"]]}\n",
    "{\"ranking\": [[[2, 2], [10, 20, 20, 10]], [\"var1\"]]}\n",
    "{\"ranking\": [[[2, 2], [[10, 20], [0, 1, 1, 0]]], [\"var1\"]]}\n",
    "```\n",
    "Variable (ndarray defined by an URI):\n",
    "```json\n",
    "{\"var2\": [[\"https://raw.githubusercontent.com/loco-philippe/ntv-numpy/master/example/ex_ndarray.ntv\"], [\"x\", \"y\"]]}\n",
    "```"
   ]
  },
  {
   "cell_type": "markdown",
   "id": "02ea8f5b",
   "metadata": {},
   "source": [
    "### JSON xdataset data\n",
    "\n",
    "JSON `xdataset` is a JsonObject where each JsonMember is a `xndarray`. \n",
    "\n",
    "Example:\n",
    "```json\n",
    "{\n",
    "    \"var2\": [\"https://github.com/loco-philippe/ntv-numpy/tree/main/example/ex_ndarray.ntv\", [\"x\", \"y\"]],\n",
    "    \"var1\": [[\"float[kg]\", [2, 2], [10.1, 0.4, 3.4, 8.2]], [\"x\", \"y\"]],\n",
    "    \"ranking\": [[[2, 2], [1, 2, 3, 4]], [\"var1\"]],\n",
    "    \"x\": [[[\"x1\", \"x2\"]], {\"test\": 21}],\n",
    "    \"y\": [[[\"y1\", \"y2\"]]],\n",
    "    \"z\": [[[\"z1\", \"z2\"]], [\"x\"]],\n",
    "    \"z_bis\": [[[\"z1_bis\", \"z2_bis\"]]],\n",
    "    \"x.mask\": [[[True, False]]],\n",
    "    \"x.uncertainty\": [[[0.1, 0.2]], [\"x\"]],\n",
    "    \"z.variance\": [[[0.1, 0.2]]],\n",
    "    \"unit\": \"kg\",\n",
    "    \"info\": {\"example\": \"everything\"}}\n",
    "}\n",
    "```"
   ]
  },
  {
   "cell_type": "markdown",
   "id": "d97192d7-ab9e-4c4e-864d-962f8584455c",
   "metadata": {},
   "source": [
    "## Appendix - Python entities"
   ]
  },
  {
   "cell_type": "markdown",
   "id": "4726cd6c",
   "metadata": {},
   "source": [
    "### Ndarray and Numpy ndarray\n",
    "numpy.ndarray is used to represent elementary data in Ndarray.\n",
    "\n",
    "A numpy.ndarray is equivalent to a Ndarray with two cases:\n",
    "\n",
    "- mapping: numpy dtype is associated with a NTVtype\n",
    "- conversion: python type of data is associated with a NTVtype\n",
    "\n",
    "In the other case, a NTVtype is required to define a Ndarray from a numpy.ndarray.\n",
    "\n",
    "These functions are similar to those used for the JSON-NTV representation of Pandas data ([see pandas examples](https://nbviewer.org/github/loco-philippe/ntv-pandas/blob/main/example/example_ntv_pandas.ipynb))."
   ]
  },
  {
   "cell_type": "markdown",
   "id": "5ef21d92",
   "metadata": {},
   "source": [
    "#### Mapping\n",
    "This is the most frequent case and concerns those numpy dtype:\n",
    "\n",
    "- datetime[x] (D, Y, M, s, ms, us, ns, ps, fs)\n",
    "- timedelta[x] (D, Y, M, s, ms, us, ns, ps, fs)\n",
    "- bool, bytes, str\n",
    "- int, uint (8,16,32,64)\n",
    "- float (16, 32, 64)\n",
    "\n",
    "For these dtype, the conversion is reversible."
   ]
  },
  {
   "cell_type": "code",
   "execution_count": 22,
   "id": "8a582291",
   "metadata": {
    "editable": true,
    "slideshow": {
     "slide_type": ""
    },
    "tags": []
   },
   "outputs": [
    {
     "name": "stdout",
     "output_type": "stream",
     "text": [
      "reversibility :  True , JSON representation :  ['int64', [2, 3], [10, 10, 20, 10, 30, 50]]\n",
      "reversibility :  True , JSON representation :  ['string', ['test1', 'test2']]\n",
      "reversibility :  True , JSON representation :  ['date', ['2022-01-01', '2023-01-01']]\n",
      "reversibility :  True , JSON representation :  ['year', [52, 53]]\n",
      "reversibility :  True , JSON representation :  ['base16', [b'abc\\t', b'abc']]\n",
      "reversibility :  True , JSON representation :  ['boolean', [True, False]]\n"
     ]
    }
   ],
   "source": [
    "import numpy as np\n",
    "from ntv_numpy import Ndarray\n",
    "\n",
    "examples = [\n",
    "    np.array([10, 10, 20, 10, 30, 50]).astype('int64').reshape((2, 3)),\n",
    "    np.array(['test1', 'test2'], dtype='str'),\n",
    "    np.array(['2022-01-01', '2023-01-01'], dtype='datetime64[D]'),\n",
    "    np.array(['2022', '2023'], dtype='datetime64[Y]'),\n",
    "    np.array([b'abc\\x09', b'abc'], dtype='bytes'),\n",
    "    np.array([True, False], dtype='bool')]\n",
    "\n",
    "for example in examples:\n",
    "    equal = np.array_equal(example, Ndarray(example).ndarray)\n",
    "    jsn = Ndarray(example).to_json(header=False)\n",
    "    print('reversibility : ', equal, ', JSON representation : ', jsn)"
   ]
  },
  {
   "cell_type": "markdown",
   "id": "16bcbbc4",
   "metadata": {},
   "source": [
    "#### Conversion\n",
    "This case concerns Numpy dtype 'object' with specific Python data :\n",
    "\n",
    "- datetime.time\n",
    "- decimal.Decimal, \n",
    "- shapely classes (Point, LineString, Polygon, geojson, geometry)\n",
    "- list, dict, NoneType\n",
    "- ndarray, xndarray, xdataset, field, tab, ntv\n",
    "\n",
    "For these Python classes, the conversion is reversible."
   ]
  },
  {
   "cell_type": "code",
   "execution_count": 23,
   "id": "4302911d",
   "metadata": {},
   "outputs": [
    {
     "name": "stdout",
     "output_type": "stream",
     "text": [
      "reversibility :  True , JSON representation :  ['time', ['10:02:03', '20:02:03']]\n",
      "reversibility :  True , JSON representation :  ['decimal64', [10.5, 20.5]]\n",
      "reversibility :  True , JSON representation :  ['point', [[1.0, 2.0], [3.0, 4.0]]]\n",
      "reversibility :  True , JSON representation :  ['null', [None, None]]\n",
      "reversibility :  True , JSON representation :  ['object', [{'one': 1}, {'two': 2}]]\n",
      "reversibility :  True , JSON representation :  ['array', [[1, 2], [3, 4]]]\n",
      "reversibility :  True , JSON representation :  ['ndarray', [['int64', [1, 2]], ['string', ['test1', 'test2']]]]\n",
      "reversibility :  True , JSON representation :  ['object', [{\":point\": [1, 2]}, {\"noon:hour\": 12}]]\n",
      "reversibility :  True , JSON representation :  ['field', [[1, 2, 3], [4, 5, 6]]]\n"
     ]
    }
   ],
   "source": [
    "from datetime import time\n",
    "from decimal import Decimal\n",
    "from shapely.geometry import Point\n",
    "from json_ntv import NtvSingle, Ntv\n",
    "import pandas as pd\n",
    "\n",
    "examples = [\n",
    "    np.array([time(10, 2, 3), time(20, 2, 3)]),\n",
    "    np.array([Decimal('10.5'), Decimal('20.5')]),\n",
    "    np.array([Point([1,2]), Point([3,4])]),\n",
    "    np.array([None, None]),\n",
    "    np.array([{'one':1}, {'two':2}]),\n",
    "    np.fromiter([[1,2], [3,4]], dtype='object')]\n",
    "\n",
    "for example in examples:\n",
    "    reverse = Ndarray(example).ndarray\n",
    "    equal = np.array_equal(example, reverse)\n",
    "    jsn_example = Ndarray(example).to_json(header=False)\n",
    "    print('reversibility : ', equal, ', JSON representation : ', jsn_example)\n",
    "\n",
    "examples = [\n",
    "    np.fromiter([np.array([1, 2], dtype='int64'), \n",
    "                 np.array(['test1', 'test2'], dtype='str')], dtype='object'),\n",
    "    np.fromiter([Ntv.obj({':point':[1,2]}), NtvSingle(12, 'noon', 'hour')], dtype='object'),\n",
    "    np.fromiter([pd.Series([1,2,3]), pd.Series([4,5,6])], dtype='object')]\n",
    "\n",
    "for example in examples:\n",
    "    reverse = Ndarray(example).ndarray\n",
    "    jsn_example = Ndarray(example).to_json(header=False)\n",
    "    jsn_reverse = Ndarray(reverse).to_json(header=False)\n",
    "    equal = jsn_example == jsn_reverse\n",
    "\n",
    "    print('reversibility : ', equal, ', JSON representation : ', jsn_example)"
   ]
  },
  {
   "cell_type": "markdown",
   "id": "df7734fd",
   "metadata": {},
   "source": [
    "#### Other NTVtype\n",
    "The JSON data with other NTVtype can be converted in ndarray but this conversion is not reversible. \n",
    "\n",
    "The reversibility is obtained with Ndarray entities.\n",
    "\n",
    "This case concerns :\n",
    "\n",
    "- data with type extension (e.g. number with unit : 'int64[kg]')\n",
    "- data with generic format (NTVtype : json, int, float, number)\n",
    "- number with semantic value (NTVtype : month, day, wday, yday, week, hour, minute, second)\n",
    "- string with semantic value (NTVtype : binary, base32, base64, period, duration, jpointer, uri, uriref, iri, iriref, email, regex, hostname, ipv4, ipv6, file, geojson)\n",
    "- object with semantic value (geometry, timearray)\n",
    "- data with type from an other namespace (e.g. schemaorg type : 'org.propertyID')"
   ]
  },
  {
   "cell_type": "code",
   "execution_count": 24,
   "id": "424a7da6",
   "metadata": {},
   "outputs": [
    {
     "name": "stdout",
     "output_type": "stream",
     "text": [
      "reversibility :  True , Numpy entity :  array([1, 2, 3, 4], dtype=int64)\n",
      "reversibility :  True , Numpy entity :  array([[1, 2],\n",
      "       [3, 4]])\n",
      "reversibility :  True , Numpy entity :  array(['010011', '001101', '101'], dtype='<U6')\n",
      "reversibility :  True , Numpy entity :  array([1, 'two', {'three': 3}], dtype=object)\n",
      "reversibility :  True , Numpy entity :  array(['John Doe <jdoe@mac.example>', 'Anna Doe <adoe@mac.example>'],\n",
      "      dtype='<U27')\n"
     ]
    }
   ],
   "source": [
    "examples_json  = [\n",
    "    ['int64[kg]', [1, 2, 3, 4]],\n",
    "    ['month', [2, 2], [1, 2, 3, 4]],\n",
    "    ['binary', ['010011', '001101', '101']],\n",
    "    ['json', [1, 'two', {'three': 3}]],\n",
    "    ['email', ['John Doe <jdoe@mac.example>', 'Anna Doe <adoe@mac.example>']]]\n",
    "            \n",
    "for ex_json in examples_json:\n",
    "    nda = Ndarray.read_json(ex_json)  \n",
    "    equal = nda == Ndarray.read_json(nda.to_json())\n",
    "    print('reversibility : ', equal, ', Numpy entity : ', repr(nda.ndarray))"
   ]
  },
  {
   "cell_type": "markdown",
   "id": "2b72bcb4",
   "metadata": {},
   "source": [
    "### Xndarray\n",
    "Xndarray is the entity associated to `xndarray` NTVtype.\n",
    "\n",
    "The `ndarray` entity included is a Numpy ndarray.\n"
   ]
  },
  {
   "cell_type": "markdown",
   "id": "ce35a5f8",
   "metadata": {},
   "source": [
    "#### Metadata"
   ]
  },
  {
   "cell_type": "code",
   "execution_count": 25,
   "id": "2e18f8ff",
   "metadata": {},
   "outputs": [
    {
     "name": "stdout",
     "output_type": "stream",
     "text": [
      "reversibility :  True , Xndarray entity :  {'unit': 'kg'}\n",
      "reversibility :  True , Xndarray entity :  {'meta': {'everything': 1}}\n"
     ]
    }
   ],
   "source": [
    "from ntv_numpy import Xndarray\n",
    "\n",
    "examples_json  = [\n",
    "    {'unit': 'kg'},\n",
    "    {'meta': {'everything': 1}}]\n",
    "\n",
    "for ex_json in examples_json:\n",
    "    xnda = Xndarray.read_json(ex_json)  \n",
    "    equal = xnda == Xndarray.read_json(xnda.to_json())\n",
    "    print('reversibility : ', equal, ', Xndarray entity : ', xnda.to_json(header=False))"
   ]
  },
  {
   "cell_type": "markdown",
   "id": "799233ac",
   "metadata": {},
   "source": [
    "#### Simple ndarray"
   ]
  },
  {
   "cell_type": "code",
   "execution_count": 26,
   "id": "f51ad079",
   "metadata": {},
   "outputs": [
    {
     "name": "stdout",
     "output_type": "stream",
     "text": [
      "reversibility :  True , Xndarray entity :  {'example': [['json', [1, 'two', {'three': 3}]]]}\n",
      "reversibility :  True , Xndarray entity :  {'example': [['int64[kg]', [1, 2, 3, 4]]]}\n",
      "reversibility :  True , Xndarray entity :  {'example': [['month', [1, 2, 3, 4]]]}\n",
      "reversibility :  True , Xndarray entity :  {'example': [['int', [2, 2], [1, 2, 3, 4]]]}\n",
      "reversibility :  True , Xndarray entity :  {'example': [['base16', [b'1F23', b'236A5E']]]}\n",
      "reversibility :  True , Xndarray entity :  {'example': [['duration', ['P3Y6M4DT12H30M5S']]]}\n",
      "reversibility :  True , Xndarray entity :  {'example': [['uri', ['geo:13.4125,103.86673']]]}\n",
      "reversibility :  True , Xndarray entity :  {'example': [['ipv4', ['192.168.1.1']]]}\n",
      "reversibility :  True , Xndarray entity :  {'example': [['email', ['John Doe <jdoe@mac.example>', 'Ann Doe <adoe@mac.example>']]]}\n"
     ]
    }
   ],
   "source": [
    "examples  = [Ndarray(np.array([1, 'two', {'three': 3}],  dtype='object'), ntv_type='json'),\n",
    "             Ndarray(np.array([1, 2, 3, 4],              dtype='object'), ntv_type='int64[kg]'),\n",
    "             Ndarray(np.array([1, 2, 3, 4],              dtype='object'), ntv_type='month'),\n",
    "             Ndarray(np.array([[1, 2], [3, 4]],          dtype='object'), ntv_type='int'),\n",
    "             Ndarray(np.array(['1F23', '236A5E'],        dtype='object'), ntv_type='base16'),\n",
    "             Ndarray(np.array(['P3Y6M4DT12H30M5S'],      dtype='object'), ntv_type='duration'),\n",
    "             Ndarray(np.array(['geo:13.4125,103.86673'], dtype='object'), ntv_type='uri'),\n",
    "             Ndarray(np.array(['192.168.1.1'],           dtype='object'), ntv_type='ipv4'),\n",
    "             Ndarray(np.array(['John Doe <jdoe@mac.example>', 'Ann Doe <adoe@mac.example>'], dtype='object'), ntv_type='email')\n",
    "            ]\n",
    "\n",
    "for example in examples:\n",
    "    xnda = Xndarray('example', example)\n",
    "    equal = xnda == Xndarray.read_json(xnda.to_json())\n",
    "    print('reversibility : ', equal, ', Xndarray entity : ', xnda.to_json(header=False))"
   ]
  },
  {
   "cell_type": "markdown",
   "id": "9e7a77d9",
   "metadata": {},
   "source": [
    "#### Named-ndarray"
   ]
  },
  {
   "cell_type": "code",
   "execution_count": 27,
   "id": "cfb15628",
   "metadata": {
    "scrolled": true
   },
   "outputs": [
    {
     "name": "stdout",
     "output_type": "stream",
     "text": [
      "reversibility :  True , Xndarray entity :  {'example': [['string', ['x1', 'x2']]]}\n"
     ]
    }
   ],
   "source": [
    "xnda = Xndarray('example', np.array(['x1', 'x2']))\n",
    "equal = xnda == Xndarray.read_json(xnda.to_json())\n",
    "\n",
    "print('reversibility : ', equal, ', Xndarray entity : ', xnda.to_json(header=False))"
   ]
  },
  {
   "cell_type": "markdown",
   "id": "cc45a6ce",
   "metadata": {},
   "source": [
    "#### Additional-ndarray"
   ]
  },
  {
   "cell_type": "code",
   "execution_count": 28,
   "id": "6209afdf",
   "metadata": {
    "scrolled": true
   },
   "outputs": [
    {
     "name": "stdout",
     "output_type": "stream",
     "text": [
      "reversibility :  True , Xndarray entity :  {'x.mask': [['boolean', [True, False]]]}\n"
     ]
    }
   ],
   "source": [
    "xnda = Xndarray('x.mask', np.array([True, False]))\n",
    "equal = xnda == Xndarray.read_json(xnda.to_json())\n",
    "\n",
    "print('reversibility : ', equal, ', Xndarray entity : ', xnda.to_json(header=False))"
   ]
  },
  {
   "cell_type": "markdown",
   "id": "a46e819e",
   "metadata": {},
   "source": [
    "#### Variable"
   ]
  },
  {
   "cell_type": "code",
   "execution_count": 29,
   "id": "def833c9",
   "metadata": {
    "scrolled": true
   },
   "outputs": [
    {
     "name": "stdout",
     "output_type": "stream",
     "text": [
      "reversibility :  True , Xndarray entity :  {'var2': [['float[kg]', [2, 2], [10.1, 0.4, 3.4, 8.2]], ['x', 'y']]}\n"
     ]
    }
   ],
   "source": [
    "xnda = Xndarray('var2', Ndarray(np.array([10.1, 0.4, 3.4, 8.2]).reshape([2, 2]), ntv_type='float[kg]'), links = ['x', 'y'])\n",
    "equal = xnda == Xndarray.read_json(xnda.to_json())\n",
    "\n",
    "print('reversibility : ', equal, ', Xndarray entity : ', xnda.to_json(header=False))"
   ]
  },
  {
   "cell_type": "markdown",
   "id": "c7579e8d",
   "metadata": {},
   "source": [
    "#### URI Variable"
   ]
  },
  {
   "cell_type": "code",
   "execution_count": 30,
   "id": "af7e54a1",
   "metadata": {
    "scrolled": true
   },
   "outputs": [
    {
     "name": "stdout",
     "output_type": "stream",
     "text": [
      "reversibility :  True , Xndarray entity :  {'var1': [['https://raw.githubusercontent.com/loco-philippe/ntv-numpy/master/example/ex_ndarray.ntv'], ['x', 'y']]}\n"
     ]
    }
   ],
   "source": [
    "xnda = Xndarray('var1', Ndarray('https://raw.githubusercontent.com/loco-philippe/ntv-numpy/master/example/ex_ndarray.ntv'), links = ['x', 'y'])\n",
    "equal = xnda == Xndarray.read_json(xnda.to_json())\n",
    "\n",
    "print('reversibility : ', equal, ', Xndarray entity : ', xnda.to_json(header=False))"
   ]
  },
  {
   "cell_type": "markdown",
   "id": "4c56bd27",
   "metadata": {},
   "source": [
    "### Xdataset\n",
    "`Xdataset` is the entity associated to `xdataset` NTVtype.\n",
    "\n",
    "The `xndarray` entities included are `Xndarray`.\n"
   ]
  },
  {
   "cell_type": "markdown",
   "id": "bd06125d",
   "metadata": {},
   "source": [
    "#### Simple example"
   ]
  },
  {
   "cell_type": "code",
   "execution_count": 31,
   "id": "2be31a18",
   "metadata": {},
   "outputs": [
    {
     "name": "stdout",
     "output_type": "stream",
     "text": [
      "\n",
      "\n",
      "reversibility :  True , Xdataset entity :  {'x': [['string', ['x1', 'x2']]], 'z': [['string', ['z1', 'z2']], ['x']]}\n"
     ]
    }
   ],
   "source": [
    "from ntv_numpy import Xdataset\n",
    "\n",
    "xn1 = Xndarray.read_json({'x': [['string', ['x1', 'x2']]]})\n",
    "xn2 = Xndarray.read_json({'z': [['string', ['z1', 'z2']], ['x']]})\n",
    "\n",
    "xd = Xdataset([xn1, xn2])\n",
    "\n",
    "print()\n",
    "print(\"\\nreversibility : \", Xdataset.read_json(xd.to_json()) == xd, ', Xdataset entity : ',  xd.to_json(header=False))"
   ]
  },
  {
   "cell_type": "markdown",
   "id": "8526c040",
   "metadata": {},
   "source": [
    "#### Complete example"
   ]
  },
  {
   "cell_type": "code",
   "execution_count": 32,
   "id": "92a8c024",
   "metadata": {},
   "outputs": [
    {
     "name": "stdout",
     "output_type": "stream",
     "text": [
      "{'test:xdataset': {'info': {'example': 'everything'},\n",
      "                   'ranking': [['int', [2, 2], [1, 2, 3, 4]], ['var2']],\n",
      "                   'unit': 'kg',\n",
      "                   'var1': [['https://github.com/loco-philippe/ntv-numpy/tree/main/example/ex_ndarray.ntv'],\n",
      "                            ['x', 'y']],\n",
      "                   'var2': [['float[kg]', [2, 2], [10.1, 0.4, 3.4, 8.2]],\n",
      "                            ['x', 'y']],\n",
      "                   'x': [['string', ['x1', 'x2']], {'test': 21}],\n",
      "                   'x.mask': [['boolean', [True, False]], ['x']],\n",
      "                   'x.variance': [['float64', [0.1, 0.2]], ['x']],\n",
      "                   'y': [['string', ['y1', 'y2']]],\n",
      "                   'z': [['string', ['z1', 'z2']], ['x']],\n",
      "                   'z.variance': [['float64', [0.1, 0.2]], ['x']],\n",
      "                   'z_bis': [['string', ['z1_bis', 'z2_bis']]]}}\n",
      "\n",
      "reversibility :  True\n"
     ]
    }
   ],
   "source": [
    "from pprint import pprint\n",
    "\n",
    "example = {'test': {\n",
    "                'var1': [['https://github.com/loco-philippe/ntv-numpy/tree/main/example/ex_ndarray.ntv'], \n",
    "                         ['x', 'y']],\n",
    "                'var2': [['float[kg]', [2, 2], [10.1, 0.4, 3.4, 8.2]], ['x', 'y']],\n",
    "                'ranking': [[[2, 2], [1, 2, 3, 4]], ['var2']],\n",
    "                'x': [[['x1', 'x2']], {'test': 21}],\n",
    "                'y': [[['y1', 'y2']]],\n",
    "                'z': [[['z1', 'z2']], ['x']],\n",
    "                'z_bis': [[['z1_bis', 'z2_bis']]],\n",
    "                'x.mask': [[[True, False]], ['x']],\n",
    "                'x.variance': [[[0.1, 0.2]], ['x']],\n",
    "                'z.variance': [[[0.1, 0.2]], ['x']],\n",
    "                'unit': 'kg',\n",
    "                'info': {'example': 'everything'}}}\n",
    "xd = Xdataset.read_json(example)        \n",
    "\n",
    "pprint(xd.to_json())\n",
    "print(\"\\nreversibility : \", Xdataset.read_json(xd.to_json()) == xd)"
   ]
  },
  {
   "cell_type": "markdown",
   "id": "9db11e03",
   "metadata": {},
   "source": [
    "#### Analysis\n",
    "The `info` property return a dict with the properties of a `Xdataset`:\n",
    "- name : name of the Xdataset\n",
    "- xtype : meta (only metadata), mono (unidimensional array), multi (multidimensional array), group (collection of Xndarray)\n",
    "- data-vars : list of the names of data-var Xndarray\n",
    "- data-arrays : list of the names of data-arrays Xndarray\n",
    "- dimensions : list of the names of dimension Xndarray\n",
    "- coordinates : list of the names of coordinate Xndarray\n",
    "- additionals : list of the names of additional Xndarray\n",
    "- metadata : list of the names of metadata\n",
    "- validity : undefined (xtype of a Xndarray has value 'relative' or 'inconsistent'), inconsistent ('shape' or 'links' of a variable is inconsistent), valid (other cases)\n",
    "- width : number of Xndarray included"
   ]
  },
  {
   "cell_type": "code",
   "execution_count": 33,
   "id": "9beda479",
   "metadata": {},
   "outputs": [
    {
     "data": {
      "text/plain": [
       "{'name': 'test',\n",
       " 'xtype': 'group',\n",
       " 'data_vars': ['var1', 'var2'],\n",
       " 'data_arrays': ['z_bis'],\n",
       " 'dimensions': ['x', 'y'],\n",
       " 'coordinates': ['ranking', 'z'],\n",
       " 'additionals': ['x.mask', 'x.variance', 'z.variance'],\n",
       " 'metadata': ['info'],\n",
       " 'uniques': ['unit'],\n",
       " 'validity': 'undefined',\n",
       " 'width': 12}"
      ]
     },
     "execution_count": 33,
     "metadata": {},
     "output_type": "execute_result"
    }
   ],
   "source": [
    "xd.info['structure']"
   ]
  },
  {
   "cell_type": "code",
   "execution_count": 34,
   "id": "6cb94675",
   "metadata": {},
   "outputs": [
    {
     "data": {
      "text/plain": [
       "{'name': 'test',\n",
       " 'xtype': 'mono',\n",
       " 'data_vars': ['var2'],\n",
       " 'data_arrays': ['z_bis'],\n",
       " 'dimensions': ['x', 'y'],\n",
       " 'coordinates': ['ranking', 'z'],\n",
       " 'additionals': ['x.mask', 'x.variance', 'z.variance'],\n",
       " 'metadata': ['info'],\n",
       " 'uniques': ['unit'],\n",
       " 'validity': 'valid',\n",
       " 'length': 4,\n",
       " 'width': 11}"
      ]
     },
     "execution_count": 34,
     "metadata": {},
     "output_type": "execute_result"
    }
   ],
   "source": [
    "del(xd[('var1')])\n",
    "xd.info['structure']"
   ]
  },
  {
   "cell_type": "markdown",
   "id": "671c0831",
   "metadata": {},
   "source": [
    "## Appendix - Using in NTV data\n",
    "The NTV format makes it possible to group data of different types in the same structure or in specific structure ([see NTV overview](https://nbviewer.org/github/loco-philippe/NTV/blob/main/example/example_ntv.ipynb))."
   ]
  },
  {
   "cell_type": "markdown",
   "id": "e307b218",
   "metadata": {},
   "source": [
    "### Including in NTV structure"
   ]
  },
  {
   "cell_type": "code",
   "execution_count": 35,
   "id": "24371b51",
   "metadata": {},
   "outputs": [
    {
     "name": "stdout",
     "output_type": "stream",
     "text": [
      "example NTVsingle\n",
      "\n",
      "{\":narray\": [\"int32\", [1, 2, 3, 4]]}\n"
     ]
    }
   ],
   "source": [
    "from json_ntv import NtvList\n",
    "\n",
    "nd = np.array([1, 2, 3, 4])\n",
    "xn1 = Xndarray('example', nda=np.array(['x1', 'x2']))\n",
    "xn2 = Xndarray.read_json({'z': [['string', ['z1', 'z2']], ['x']]})\n",
    "xd = Xdataset([xn1, xn2], 'test')\n",
    "\n",
    "print('example NTVsingle\\n')\n",
    "print(NtvSingle(nd))"
   ]
  },
  {
   "cell_type": "code",
   "execution_count": 36,
   "id": "68ad0108-eb2e-4b5f-9cb6-1e230f5ef148",
   "metadata": {},
   "outputs": [
    {
     "name": "stdout",
     "output_type": "stream",
     "text": [
      "example NTVlist\n",
      "\n",
      "{\":narray\": [\"int32\", [1, 2, 3, 4]], \":xndarray\": {\"example:xndarray\": [[\"string\", [\"x1\", \"x2\"]]]}, \":xdataset\": {\"test:xdataset\": {\"example\": [[\"string\", [\"x1\", \"x2\"]]], \"z\": [[\"string\", [\"z1\", \"z2\"]], [\"x\"]]}}}\n"
     ]
    }
   ],
   "source": [
    "print('example NTVlist\\n')\n",
    "print(NtvList([nd, xn1, xd]))"
   ]
  },
  {
   "cell_type": "code",
   "execution_count": 37,
   "id": "115d575e-cf84-446a-87e1-2557e7fd1eaa",
   "metadata": {},
   "outputs": [
    {
     "name": "stdout",
     "output_type": "stream",
     "text": [
      "example with mixed data (Json representation)\n",
      "\n",
      "{\"mixed\": {\":xndarray\": {\"example:xndarray\": [[\"string\", [\"x1\", \"x2\"]]]}, \"coordinate:point\": [1.0, 2.0], \"pandas series:field\": [1, 2, 3]}}\n"
     ]
    }
   ],
   "source": [
    "print('example with mixed data (Json representation)\\n')\n",
    "mixte = Ntv.obj({'mixed': [xn1, {'coordinate':Point(1,2)}, {'pandas series': pd.Series([1,2,3])}]})\n",
    "print(mixte)"
   ]
  },
  {
   "cell_type": "code",
   "execution_count": 38,
   "id": "41ea3217-571e-4712-b875-2c7bb47fe592",
   "metadata": {},
   "outputs": [
    {
     "name": "stdout",
     "output_type": "stream",
     "text": [
      "example with mixed data (object representation)\n",
      "\n",
      "{'example:xndarray': [['string', ['x1', 'x2']]]}\n",
      "{'mixed': [Xndarray[example],\n",
      "           {'coordinate': <POINT (1 2)>},\n",
      "           {'pandas series': 0    1\n",
      "1    2\n",
      "2    3\n",
      "dtype: int64}]}\n"
     ]
    }
   ],
   "source": [
    "print('example with mixed data (object representation)\\n')\n",
    "pprint(mixte.to_obj(format='obj'), width=20)"
   ]
  },
  {
   "cell_type": "markdown",
   "id": "aa747bf3",
   "metadata": {},
   "source": [
    "### Including in other objects"
   ]
  },
  {
   "cell_type": "code",
   "execution_count": 39,
   "id": "70002be3",
   "metadata": {},
   "outputs": [
    {
     "name": "stdout",
     "output_type": "stream",
     "text": [
      "{\"mixin:field\": [1, 2, {\":narray\": [\"int32\", [1, 2, 3, 4]]}, {\":xndarray\": {\"example:xndarray\": [[\"string\", [\"x1\", \"x2\"]]]}}]}\n"
     ]
    }
   ],
   "source": [
    "sr = pd.Series([1, 2, nd, xn1])\n",
    "mixin = Ntv.obj({'mixin': sr})\n",
    "print(mixin)"
   ]
  },
  {
   "cell_type": "markdown",
   "id": "ecec3eda",
   "metadata": {},
   "source": [
    "## Appendix - Equivalence with tabular format\n",
    "The conversion between the two tabular and multi-dimensional formats is simple and lossless.\n",
    "\n",
    "We can therefore share data between a tabular tool and a multidimensional tool via this format."
   ]
  },
  {
   "cell_type": "markdown",
   "id": "e0d93ad7-96c9-47f6-b843-6730811d3947",
   "metadata": {},
   "source": [
    "### Tabular structure\n",
    "\n",
    "The tabular structure as defined in [NTV-TAB](https://www.ietf.org/archive/id/draft-thomy-ntv-tab-00.html) contains two entities :\n",
    "\n",
    "- `field`: A field is an ordered collection of cells (values for the same property)\n",
    "- `dataset`: A dataset is a collection of `field` with the same number of cells\n",
    "\n",
    "The tabular `field` is equivalent to a multidimensional `Xndarray` with specific properties:\n",
    "\n",
    "    - the shape of the Ndarray contains a single value (the length of the field)\n",
    "    - the links contains the name of the parent field (if any)\n",
    "    \n",
    "The tabular `dataset` is equivalent to a multidimensional `Xdataset` where the shape of the included `Xndarray/field` are identical."
   ]
  },
  {
   "cell_type": "code",
   "execution_count": 54,
   "id": "f2ef7bb1-b8f5-491d-814d-6ae5601292c2",
   "metadata": {},
   "outputs": [
    {
     "name": "stdout",
     "output_type": "stream",
     "text": [
      "{':xdataset': {'a': [['int64', [2, 2, 3, 4, 2]]], 'b': [['int64', [1, 1, 0, 0, 1]]], 'c': [['int64', [1, 1, 1, 0, 1]]], 'd': 1}}\n"
     ]
    },
    {
     "data": {
      "text/plain": [
       "int"
      ]
     },
     "execution_count": 54,
     "metadata": {},
     "output_type": "execute_result"
    }
   ],
   "source": [
    "df= pd.DataFrame({'a': [2,2,3,4,2], 'b': [1,1,0,0,1], 'c': [1,1,1,0,1], 'd': [1,1,1,1,1]})\n",
    "xnd =Xdataset.from_dataframe(df)\n",
    "print(xnd.to_json())\n",
    "js =  {':xdataset': {'a': [['int64', [2, 2, 3, 4, 2]]], 'b': [['int64', [1, 1, 0, 0, 1]]], 'c': [['int64', [1, 1, 1, 0, 1]]]}}\n",
    "js2 = {':xdataset': {'a': [['int64', [2, 2, 3, 4, 2]]], 'b': [['int64', [1, 1, 0, 0, 1]]], 'c': [['int64', [1, 1, 1, 0, 1]]], 'd': 1}}\n",
    "xnd2 = Xdataset.read_json(js)\n",
    "Ntv.decode_json(js)[:2]\n",
    "Ntv.decode_json(js2)[:2]\n",
    "xnd2 = Xdataset.read_json(js2)\n",
    "#xnd2 = Xdataset.read_json(xnd.to_json())\n",
    "jso=xnd.to_json()\n",
    "type(jso[':xdataset']['a'][0][1][0])"
   ]
  },
  {
   "cell_type": "code",
   "execution_count": 40,
   "id": "8f1fc0ad-1b63-4d45-ac4a-49e4575a3850",
   "metadata": {},
   "outputs": [
    {
     "ename": "ValueError",
     "evalue": "If using all scalar values, you must pass an index",
     "output_type": "error",
     "traceback": [
      "\u001b[1;31m---------------------------------------------------------------------------\u001b[0m",
      "\u001b[1;31mValueError\u001b[0m                                Traceback (most recent call last)",
      "Cell \u001b[1;32mIn[40], line 14\u001b[0m\n\u001b[0;32m      1\u001b[0m example_tab \u001b[38;5;241m=\u001b[39m {\n\u001b[0;32m      2\u001b[0m     \u001b[38;5;124m'\u001b[39m\u001b[38;5;124mtabular:tab\u001b[39m\u001b[38;5;124m'\u001b[39m: {\n\u001b[0;32m      3\u001b[0m         \u001b[38;5;124m'\u001b[39m\u001b[38;5;124mfirst_name::string\u001b[39m\u001b[38;5;124m'\u001b[39m:   [\u001b[38;5;124m'\u001b[39m\u001b[38;5;124mjohn\u001b[39m\u001b[38;5;124m'\u001b[39m, \u001b[38;5;124m'\u001b[39m\u001b[38;5;124mjudith\u001b[39m\u001b[38;5;124m'\u001b[39m, \u001b[38;5;124m'\u001b[39m\u001b[38;5;124mjim\u001b[39m\u001b[38;5;124m'\u001b[39m],\n\u001b[0;32m      4\u001b[0m         \u001b[38;5;124m'\u001b[39m\u001b[38;5;124mequinox::date\u001b[39m\u001b[38;5;124m'\u001b[39m:  [\u001b[38;5;124m'\u001b[39m\u001b[38;5;124m2023-09-23\u001b[39m\u001b[38;5;124m'\u001b[39m, \u001b[38;5;124m'\u001b[39m\u001b[38;5;124m2023-03-20\u001b[39m\u001b[38;5;124m'\u001b[39m, \u001b[38;5;124m'\u001b[39m\u001b[38;5;124m2024-09-22\u001b[39m\u001b[38;5;124m'\u001b[39m]\n\u001b[0;32m      5\u001b[0m     }\n\u001b[0;32m      6\u001b[0m }\n\u001b[0;32m      8\u001b[0m example_multi \u001b[38;5;241m=\u001b[39m {\n\u001b[0;32m      9\u001b[0m     \u001b[38;5;124m'\u001b[39m\u001b[38;5;124mmulti:xdataset\u001b[39m\u001b[38;5;124m'\u001b[39m: {\n\u001b[0;32m     10\u001b[0m         \u001b[38;5;124m'\u001b[39m\u001b[38;5;124mfirst_name\u001b[39m\u001b[38;5;124m'\u001b[39m:   [[\u001b[38;5;124m'\u001b[39m\u001b[38;5;124mstring\u001b[39m\u001b[38;5;124m'\u001b[39m, [\u001b[38;5;124m'\u001b[39m\u001b[38;5;124mjohn\u001b[39m\u001b[38;5;124m'\u001b[39m, \u001b[38;5;124m'\u001b[39m\u001b[38;5;124mjudith\u001b[39m\u001b[38;5;124m'\u001b[39m, \u001b[38;5;124m'\u001b[39m\u001b[38;5;124mjim\u001b[39m\u001b[38;5;124m'\u001b[39m]]],\n\u001b[0;32m     11\u001b[0m         \u001b[38;5;124m'\u001b[39m\u001b[38;5;124mequinox\u001b[39m\u001b[38;5;124m'\u001b[39m:  [[\u001b[38;5;124m'\u001b[39m\u001b[38;5;124mdate\u001b[39m\u001b[38;5;124m'\u001b[39m, [\u001b[38;5;124m'\u001b[39m\u001b[38;5;124m2023-09-23\u001b[39m\u001b[38;5;124m'\u001b[39m, \u001b[38;5;124m'\u001b[39m\u001b[38;5;124m2023-03-20\u001b[39m\u001b[38;5;124m'\u001b[39m, \u001b[38;5;124m'\u001b[39m\u001b[38;5;124m2024-09-22\u001b[39m\u001b[38;5;124m'\u001b[39m]]]\n\u001b[0;32m     12\u001b[0m     }\n\u001b[0;32m     13\u001b[0m }    \n\u001b[1;32m---> 14\u001b[0m \u001b[43mXdataset\u001b[49m\u001b[38;5;241;43m.\u001b[39;49m\u001b[43mread_json\u001b[49m\u001b[43m(\u001b[49m\u001b[43mexample_multi\u001b[49m\u001b[43m)\u001b[49m\u001b[38;5;241;43m.\u001b[39;49m\u001b[43mto_dataframe\u001b[49m\u001b[43m(\u001b[49m\u001b[43m)\u001b[49m    \n",
      "File \u001b[1;32mD:\\philippe\\python ESstandard\\ntv-numpy\\ntv_numpy\\xdataset.py:228\u001b[0m, in \u001b[0;36mXdatasetInterface.to_dataframe\u001b[1;34m(self, **kwargs)\u001b[0m\n\u001b[0;32m    226\u001b[0m \u001b[38;5;28;01mdef\u001b[39;00m \u001b[38;5;21mto_dataframe\u001b[39m(\u001b[38;5;28mself\u001b[39m, \u001b[38;5;241m*\u001b[39m\u001b[38;5;241m*\u001b[39mkwargs):\n\u001b[0;32m    227\u001b[0m \u001b[38;5;250m    \u001b[39m\u001b[38;5;124;03m'''return a pd.DataFrame from a Xdataset'''\u001b[39;00m\n\u001b[1;32m--> 228\u001b[0m     \u001b[38;5;28;01mreturn\u001b[39;00m \u001b[43mPandasConnec\u001b[49m\u001b[38;5;241;43m.\u001b[39;49m\u001b[43mxexport\u001b[49m\u001b[43m(\u001b[49m\u001b[38;5;28;43mself\u001b[39;49m\u001b[43m,\u001b[49m\u001b[43m \u001b[49m\u001b[38;5;241;43m*\u001b[39;49m\u001b[38;5;241;43m*\u001b[39;49m\u001b[43mkwargs\u001b[49m\u001b[43m)\u001b[49m\n",
      "File \u001b[1;32mD:\\philippe\\python ESstandard\\ntv-numpy\\ntv_numpy\\xconnector.py:110\u001b[0m, in \u001b[0;36mPandasConnec.xexport\u001b[1;34m(xdt, **kwargs)\u001b[0m\n\u001b[0;32m    107\u001b[0m fields_array \u001b[38;5;241m=\u001b[39m \u001b[38;5;28mtuple\u001b[39m(var \u001b[38;5;28;01mfor\u001b[39;00m var \u001b[38;5;129;01min\u001b[39;00m fields \u001b[38;5;28;01mif\u001b[39;00m \u001b[38;5;129;01mnot\u001b[39;00m xdt[var]\u001b[38;5;241m.\u001b[39muri)\n\u001b[0;32m    108\u001b[0m dic_series \u001b[38;5;241m=\u001b[39m {dic_name[name]: PandasConnec\u001b[38;5;241m.\u001b[39m_to_np_series(xdt, name, dims)\n\u001b[0;32m    109\u001b[0m               \u001b[38;5;28;01mfor\u001b[39;00m name \u001b[38;5;129;01min\u001b[39;00m fields_array}\n\u001b[1;32m--> 110\u001b[0m dfr \u001b[38;5;241m=\u001b[39m \u001b[43mpd\u001b[49m\u001b[38;5;241;43m.\u001b[39;49m\u001b[43mDataFrame\u001b[49m\u001b[43m(\u001b[49m\u001b[43mdic_series\u001b[49m\u001b[43m)\u001b[49m\n\u001b[0;32m    111\u001b[0m index \u001b[38;5;241m=\u001b[39m [dic_name[name] \u001b[38;5;28;01mfor\u001b[39;00m name \u001b[38;5;129;01min\u001b[39;00m dims \u001b[38;5;241m+\u001b[39m xdt\u001b[38;5;241m.\u001b[39mcoordinates]\n\u001b[0;32m    112\u001b[0m dfr \u001b[38;5;241m=\u001b[39m dfr\u001b[38;5;241m.\u001b[39mset_index(index)\n",
      "File \u001b[1;32mC:\\Opensource\\anaconda3\\envs\\ntv_v11_20240409\\Lib\\site-packages\\pandas\\core\\frame.py:767\u001b[0m, in \u001b[0;36mDataFrame.__init__\u001b[1;34m(self, data, index, columns, dtype, copy)\u001b[0m\n\u001b[0;32m    761\u001b[0m     mgr \u001b[38;5;241m=\u001b[39m \u001b[38;5;28mself\u001b[39m\u001b[38;5;241m.\u001b[39m_init_mgr(\n\u001b[0;32m    762\u001b[0m         data, axes\u001b[38;5;241m=\u001b[39m{\u001b[38;5;124m\"\u001b[39m\u001b[38;5;124mindex\u001b[39m\u001b[38;5;124m\"\u001b[39m: index, \u001b[38;5;124m\"\u001b[39m\u001b[38;5;124mcolumns\u001b[39m\u001b[38;5;124m\"\u001b[39m: columns}, dtype\u001b[38;5;241m=\u001b[39mdtype, copy\u001b[38;5;241m=\u001b[39mcopy\n\u001b[0;32m    763\u001b[0m     )\n\u001b[0;32m    765\u001b[0m \u001b[38;5;28;01melif\u001b[39;00m \u001b[38;5;28misinstance\u001b[39m(data, \u001b[38;5;28mdict\u001b[39m):\n\u001b[0;32m    766\u001b[0m     \u001b[38;5;66;03m# GH#38939 de facto copy defaults to False only in non-dict cases\u001b[39;00m\n\u001b[1;32m--> 767\u001b[0m     mgr \u001b[38;5;241m=\u001b[39m \u001b[43mdict_to_mgr\u001b[49m\u001b[43m(\u001b[49m\u001b[43mdata\u001b[49m\u001b[43m,\u001b[49m\u001b[43m \u001b[49m\u001b[43mindex\u001b[49m\u001b[43m,\u001b[49m\u001b[43m \u001b[49m\u001b[43mcolumns\u001b[49m\u001b[43m,\u001b[49m\u001b[43m \u001b[49m\u001b[43mdtype\u001b[49m\u001b[38;5;241;43m=\u001b[39;49m\u001b[43mdtype\u001b[49m\u001b[43m,\u001b[49m\u001b[43m \u001b[49m\u001b[43mcopy\u001b[49m\u001b[38;5;241;43m=\u001b[39;49m\u001b[43mcopy\u001b[49m\u001b[43m,\u001b[49m\u001b[43m \u001b[49m\u001b[43mtyp\u001b[49m\u001b[38;5;241;43m=\u001b[39;49m\u001b[43mmanager\u001b[49m\u001b[43m)\u001b[49m\n\u001b[0;32m    768\u001b[0m \u001b[38;5;28;01melif\u001b[39;00m \u001b[38;5;28misinstance\u001b[39m(data, ma\u001b[38;5;241m.\u001b[39mMaskedArray):\n\u001b[0;32m    769\u001b[0m     \u001b[38;5;28;01mfrom\u001b[39;00m \u001b[38;5;21;01mnumpy\u001b[39;00m\u001b[38;5;21;01m.\u001b[39;00m\u001b[38;5;21;01mma\u001b[39;00m \u001b[38;5;28;01mimport\u001b[39;00m mrecords\n",
      "File \u001b[1;32mC:\\Opensource\\anaconda3\\envs\\ntv_v11_20240409\\Lib\\site-packages\\pandas\\core\\internals\\construction.py:503\u001b[0m, in \u001b[0;36mdict_to_mgr\u001b[1;34m(data, index, columns, dtype, typ, copy)\u001b[0m\n\u001b[0;32m    499\u001b[0m     \u001b[38;5;28;01melse\u001b[39;00m:\n\u001b[0;32m    500\u001b[0m         \u001b[38;5;66;03m# dtype check to exclude e.g. range objects, scalars\u001b[39;00m\n\u001b[0;32m    501\u001b[0m         arrays \u001b[38;5;241m=\u001b[39m [x\u001b[38;5;241m.\u001b[39mcopy() \u001b[38;5;28;01mif\u001b[39;00m \u001b[38;5;28mhasattr\u001b[39m(x, \u001b[38;5;124m\"\u001b[39m\u001b[38;5;124mdtype\u001b[39m\u001b[38;5;124m\"\u001b[39m) \u001b[38;5;28;01melse\u001b[39;00m x \u001b[38;5;28;01mfor\u001b[39;00m x \u001b[38;5;129;01min\u001b[39;00m arrays]\n\u001b[1;32m--> 503\u001b[0m \u001b[38;5;28;01mreturn\u001b[39;00m \u001b[43marrays_to_mgr\u001b[49m\u001b[43m(\u001b[49m\u001b[43marrays\u001b[49m\u001b[43m,\u001b[49m\u001b[43m \u001b[49m\u001b[43mcolumns\u001b[49m\u001b[43m,\u001b[49m\u001b[43m \u001b[49m\u001b[43mindex\u001b[49m\u001b[43m,\u001b[49m\u001b[43m \u001b[49m\u001b[43mdtype\u001b[49m\u001b[38;5;241;43m=\u001b[39;49m\u001b[43mdtype\u001b[49m\u001b[43m,\u001b[49m\u001b[43m \u001b[49m\u001b[43mtyp\u001b[49m\u001b[38;5;241;43m=\u001b[39;49m\u001b[43mtyp\u001b[49m\u001b[43m,\u001b[49m\u001b[43m \u001b[49m\u001b[43mconsolidate\u001b[49m\u001b[38;5;241;43m=\u001b[39;49m\u001b[43mcopy\u001b[49m\u001b[43m)\u001b[49m\n",
      "File \u001b[1;32mC:\\Opensource\\anaconda3\\envs\\ntv_v11_20240409\\Lib\\site-packages\\pandas\\core\\internals\\construction.py:114\u001b[0m, in \u001b[0;36marrays_to_mgr\u001b[1;34m(arrays, columns, index, dtype, verify_integrity, typ, consolidate)\u001b[0m\n\u001b[0;32m    111\u001b[0m \u001b[38;5;28;01mif\u001b[39;00m verify_integrity:\n\u001b[0;32m    112\u001b[0m     \u001b[38;5;66;03m# figure out the index, if necessary\u001b[39;00m\n\u001b[0;32m    113\u001b[0m     \u001b[38;5;28;01mif\u001b[39;00m index \u001b[38;5;129;01mis\u001b[39;00m \u001b[38;5;28;01mNone\u001b[39;00m:\n\u001b[1;32m--> 114\u001b[0m         index \u001b[38;5;241m=\u001b[39m \u001b[43m_extract_index\u001b[49m\u001b[43m(\u001b[49m\u001b[43marrays\u001b[49m\u001b[43m)\u001b[49m\n\u001b[0;32m    115\u001b[0m     \u001b[38;5;28;01melse\u001b[39;00m:\n\u001b[0;32m    116\u001b[0m         index \u001b[38;5;241m=\u001b[39m ensure_index(index)\n",
      "File \u001b[1;32mC:\\Opensource\\anaconda3\\envs\\ntv_v11_20240409\\Lib\\site-packages\\pandas\\core\\internals\\construction.py:667\u001b[0m, in \u001b[0;36m_extract_index\u001b[1;34m(data)\u001b[0m\n\u001b[0;32m    664\u001b[0m         \u001b[38;5;28;01mraise\u001b[39;00m \u001b[38;5;167;01mValueError\u001b[39;00m(\u001b[38;5;124m\"\u001b[39m\u001b[38;5;124mPer-column arrays must each be 1-dimensional\u001b[39m\u001b[38;5;124m\"\u001b[39m)\n\u001b[0;32m    666\u001b[0m \u001b[38;5;28;01mif\u001b[39;00m \u001b[38;5;129;01mnot\u001b[39;00m indexes \u001b[38;5;129;01mand\u001b[39;00m \u001b[38;5;129;01mnot\u001b[39;00m raw_lengths:\n\u001b[1;32m--> 667\u001b[0m     \u001b[38;5;28;01mraise\u001b[39;00m \u001b[38;5;167;01mValueError\u001b[39;00m(\u001b[38;5;124m\"\u001b[39m\u001b[38;5;124mIf using all scalar values, you must pass an index\u001b[39m\u001b[38;5;124m\"\u001b[39m)\n\u001b[0;32m    669\u001b[0m \u001b[38;5;28;01mif\u001b[39;00m have_series:\n\u001b[0;32m    670\u001b[0m     index \u001b[38;5;241m=\u001b[39m union_indexes(indexes)\n",
      "\u001b[1;31mValueError\u001b[0m: If using all scalar values, you must pass an index"
     ]
    }
   ],
   "source": [
    "example_tab = {\n",
    "    'tabular:tab': {\n",
    "        'first_name::string':   ['john', 'judith', 'jim'],\n",
    "        'equinox::date':  ['2023-09-23', '2023-03-20', '2024-09-22']\n",
    "    }\n",
    "}\n",
    "\n",
    "example_multi = {\n",
    "    'multi:xdataset': {\n",
    "        'first_name':   [['string', ['john', 'judith', 'jim']]],\n",
    "        'equinox':  [['date', ['2023-09-23', '2023-03-20', '2024-09-22']]]\n",
    "    }\n",
    "}    \n",
    "Xdataset.read_json(example_multi).to_dataframe()    "
   ]
  },
  {
   "cell_type": "markdown",
   "id": "229e4f41",
   "metadata": {
    "editable": true,
    "slideshow": {
     "slide_type": ""
    },
    "tags": []
   },
   "source": [
    "### Multidimensional to tabular format"
   ]
  },
  {
   "cell_type": "markdown",
   "id": "a78572a2-86d6-4e8a-8322-f59995987671",
   "metadata": {},
   "source": [
    "The rules to convert multidimensional data into tabular data are not described in this version (planned in the following)."
   ]
  },
  {
   "cell_type": "markdown",
   "id": "be2be11d-60a2-42ec-a1a2-ac1f724c470d",
   "metadata": {
    "editable": true,
    "slideshow": {
     "slide_type": ""
    },
    "tags": []
   },
   "source": [
    "### Tabular to multidimensional format"
   ]
  },
  {
   "cell_type": "markdown",
   "id": "82885ed9-50a8-40dd-8f5f-2edc5ce00d75",
   "metadata": {},
   "source": [
    "The rules to convert multidimensional data into tabular data are not described in this version (planned in the following).\n",
    "\n",
    "Note:\n",
    "\n",
    "- the [TAB-analysis](https://pypi.org/project/tab-analysis/) tool identify multidimensional data of tabular structures"
   ]
  },
  {
   "cell_type": "markdown",
   "id": "6d7039ad",
   "metadata": {},
   "source": [
    "## Appendix - Specific points\n",
    "This chapter presents some points related to the multidimensional data structure that can be integrated into the JSON-NTV format."
   ]
  },
  {
   "cell_type": "markdown",
   "id": "28a59cbe",
   "metadata": {},
   "source": [
    "### Units and quantities\n",
    "\n",
    "- 'unit' is a specific NTVtype\n",
    "- a NTVtype can be extended with units (e.g. 'float64[kg]')"
   ]
  },
  {
   "cell_type": "markdown",
   "id": "0bfcab53-e33a-40f2-ad07-34fcb0071390",
   "metadata": {},
   "source": [
    "#### Unit as ntv_type"
   ]
  },
  {
   "cell_type": "code",
   "execution_count": null,
   "id": "e9ff83a2-aef9-4cb7-83c9-2c9980e54b77",
   "metadata": {},
   "outputs": [],
   "source": [
    "NtvSingle('kg', 'mass', 'unit')"
   ]
  },
  {
   "cell_type": "markdown",
   "id": "66efc05a-abd3-4aa0-bb39-c78da2d119d8",
   "metadata": {},
   "source": [
    "#### Quantities"
   ]
  },
  {
   "cell_type": "code",
   "execution_count": null,
   "id": "dc6d87ac-25d7-4600-9f51-8bb8315e48d0",
   "metadata": {},
   "outputs": [],
   "source": [
    "examples = [\n",
    "    Ndarray([2., 2.5, 3., 3.5, 4., 4.5, 5.], ntv_type='float[m/s]'),\n",
    "    Xndarray('example', Ndarray([2., 2.5, 3., 3.5, 4., 4.5, 5.], ntv_type='float[m/s]'))\n",
    "]\n",
    "for example in examples:\n",
    "    print(example.to_json(header=False))\n",
    "    print(example.to_json())"
   ]
  },
  {
   "cell_type": "code",
   "execution_count": null,
   "id": "bbca3534",
   "metadata": {},
   "outputs": [],
   "source": [
    "ntv = Ntv.obj({\"list_of_ndarray::ndarray[kg]\": { \"array1\": [[2, 2], [1, 2, 3, 4]], \"array2\": [[2, 2], [5, 6, 7, 8]]}})\n",
    "\n",
    "print('json representation :\\n', ntv[0])\n",
    "print('\\njson representation of a list :\\n', ntv)\n",
    "print('\\nNdarray representation :\\n', ntv[0].to_obj(format='obj', type=True))"
   ]
  },
  {
   "cell_type": "markdown",
   "id": "473a5964",
   "metadata": {},
   "source": [
    "### Coordinates\n",
    "The existing 'point' type (and also the other types: pointstr, line, polygon, multipolygon, box...) can be used with the coordinate object (perhaps with a type extension). e.g.\n",
    "\n",
    "```json\n",
    "{':point[icrs]' : [ 10.625, 41.2] }\n",
    "```"
   ]
  },
  {
   "cell_type": "markdown",
   "id": "f530928e",
   "metadata": {},
   "source": [
    "### Table\n",
    "The `Table` or `Qtable` object is represented using the `tab` format dedicated to tabular structures. \n",
    "\n",
    "```json\n",
    "{\"ex_table:tab\": {\"x:string\": [\"x1\", \"x1\", \"x2\", \"x2\"], \n",
    "                  \"y:string\": [\"y1\", \"y2\", \"y1\", \"y2\"], \n",
    "                  \"value:float64[kg]\": [1.0, 2.0, 3.0, 4.0],\n",
    "                  \"meta\": \"everything\"}\n",
    "```\n",
    "\n",
    "This ensures interoperability between tabular tools (e.g. Pandas).\n"
   ]
  },
  {
   "cell_type": "markdown",
   "id": "a6451d8d",
   "metadata": {},
   "source": [
    "### Other structures\n",
    "\n",
    "The other structures were not examined. They can be integrated using the following tools:\n",
    "\n",
    "- Addition of new types: for types having a transversal character\n",
    "- Adding type via a Namespace: for types associated with specific data (e.g. “astro.xxx)\n",
    "- Definition of an imposed structure for a given type\n",
    "- Using specific type extension\n"
   ]
  }
 ],
 "metadata": {
  "kernelspec": {
   "display_name": "Python 3 (ipykernel)",
   "language": "python",
   "name": "python3"
  },
  "language_info": {
   "codemirror_mode": {
    "name": "ipython",
    "version": 3
   },
   "file_extension": ".py",
   "mimetype": "text/x-python",
   "name": "python",
   "nbconvert_exporter": "python",
   "pygments_lexer": "ipython3",
   "version": "3.11.8"
  },
  "toc": {
   "base_numbering": 22
  }
 },
 "nbformat": 4,
 "nbformat_minor": 5
}
