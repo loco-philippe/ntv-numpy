{
 "cells": [
  {
   "cell_type": "markdown",
   "id": "32676b66",
   "metadata": {},
   "source": [
    "# Neutral format for multidimensional data\n",
    "-------    \n",
    "version : 2024-03-26"
   ]
  },
  {
   "cell_type": "markdown",
   "id": "5740ec57",
   "metadata": {},
   "source": [
    "## Introduction\n",
    "\n",
    "This memo is a proposal to implement a neutral format for multidimensional data. \n",
    "\n",
    "The proposed format is based on the following principles:\n",
    "\n",
    "- neutral format available for tabular or multidimensional tools (e.g. Numpy, pandas, xarray, scipp),\n",
    "- equivalence between tabular format and multidimensional format,\n",
    "- Taking into account a wide variety of data types as defined in NTV format,\n",
    "- reversible (lossless round-trip) interface with multidimensional tools,\n",
    "- reversible and compact JSON format (including categorical and sparse format),\n",
    "- Ease of sharing and exchanging multidimensional data,\n",
    "\n",
    "It follows :\n",
    "\n",
    "- the definition of the [JSON-NTV](https://www.ietf.org/archive/id/draft-thomy-json-ntv-02.html) format (Named and Typed value) which integrates a notion of type in JSON format (see [JSON-NTV package](https://pypi.org/project/json-ntv/)).\n",
    "- its variation for tabular data ( [NTV-TAB](https://www.ietf.org/archive/id/draft-thomy-ntv-tab-00.html) specification) and its implementation for pandas ([NTV-pandas package](https://pypi.org/project/ntv-pandas/) available in the [pandas ecosystem](https://pandas.pydata.org/community/ecosystem.html) and the [PDEP12](https://pandas.pydata.org/pdeps/0012-compact-and-reversible-JSON-interface.html))\n",
    "- analysis of tabular structures to identify multi-dimensional data ([TAB-analysis](https://pypi.org/project/tab-analysis/) package)"
   ]
  },
  {
   "cell_type": "markdown",
   "id": "f8237f72-631a-4e76-b2af-9fe68b0dc00a",
   "metadata": {},
   "source": [
    "## Contents\n",
    "*(active links on Jupyter Notebook or [Nbviewer](http://nbviewer.org/github/loco-philippe/Environmental-Sensing/tree/main/python/Validation/irve/Analyse/IRVE_indicateurs.ipynb))*\n",
    "- [Introduction](#Introduction)\n",
    "- [Contents](#Contents)\n",
    "- [Benefits](#Benefits)\n",
    "- [Data structure](#Data-structure)\n",
    "    - [Terminology](#Terminology)\n",
    "    - [JSON example](#JSON-example)\n",
    "- [Interoperability](#Interoperability)\n",
    "    - [Xarray interoperability](#Xarray-interoperability)\n",
    "    - [Scipp interoperability](#Scipp-interoperability)\n",
    "- [Exchanging and sharing data](#Exchanging-and-sharing-data)\n",
    "    - [Neutral format](#Neutral-format)\n",
    "    - [URI usage](#URI-usage)\n",
    "    - [Summary](#Summary)\n",
    "\n",
    "      \n",
    "- [Appendix - NTV data](#Appendix---NTV-data)\n",
    "- [Appendix - JSON representation](#Appendix---JSON-representation)\n",
    "    - [Multidimensional NTVtype](#Multidimensional-NTVtype)\n",
    "    - [JSON darray data](#JSON-darray-data)\n",
    "    - [JSON ndarray data](#JSON-ndarray-data)\n",
    "    - [JSON xndarray data](#JSON-xndarray-data)\n",
    "    - [JSON xdataset data](#JSON-xdataset-data)\n",
    "- [Appendix - Python entities](#Appendix---Python-entities)\n",
    "    - [Ndarray and Numpy ndarray](#Ndarray-and-Numpy-ndarray)\n",
    "    - [Xndarray](#Xndarray)\n",
    "    - [Xdataset](#Xdataset)\n",
    "- [Appendix - Using in NTV data](#Appendix---Using-in-NTV-data)\n",
    "    - [Including in NTV structure](#Including-in-NTV-structure)\n",
    "    - [Including in other objects](#Including-in-other-objects)\n",
    "- [Appendix - Equivalence with tabular format](#Appendix---Equivalence-with-tabular-format)\n",
    "- [Appendix - Astropy specific points](#Appendix---Astropy-specific-points)"
   ]
  },
  {
   "cell_type": "markdown",
   "id": "9e00e726",
   "metadata": {},
   "source": [
    "## Benefits\n",
    "\n",
    "The use of this format has the following advantages:\n",
    "\n",
    "- neutral format available for tabular or multidimensional tools (e.g. Numpy, pandas, xarray, scipp),\n",
    "- Taking into account a wide variety of data types as defined in NTV format,\n",
    "- High level of Interoperability between tools\n",
    "- reversible and compact JSON format (lossless round-trip, categorical and sparse format, binary coding structure mixing)\n",
    "- Ease of sharing multi-dimensional data"
   ]
  },
  {
   "cell_type": "markdown",
   "id": "238c22ac-171d-40a8-8610-f4cd520a9976",
   "metadata": {},
   "source": [
    "## Data structure\n",
    "The data structure includes the structures defined by other multi-dimensional tools (e.g. variables, dimensions, coordinates, variances, masks, units, metadata).\n",
    "\n",
    "We distinguish:\n",
    "- elementary data: made up of ordered collections and which can be present in specific formats (darray, ndarray)\n",
    "- structural data: represented with JSON format (xndarray, xdataset)\n",
    "\n",
    "This data structure makes it possible to build reversible interfaces and have interoperable tools"
   ]
  },
  {
   "cell_type": "markdown",
   "id": "1a9f5509",
   "metadata": {
    "editable": true,
    "jp-MarkdownHeadingCollapsed": true,
    "slideshow": {
     "slide_type": ""
    },
    "tags": []
   },
   "source": [
    "### Terminology\n",
    "\n",
    "- **darray (unidimensional array)** is an ordered collection of 'items' of the same type. A 'darray' can be represented with several formats (e.g. simple list, categorical format, sparse format)\n",
    "- **ndarray (multidimensional array)** is a N-dimensional array of homogeneous data types. A ndarray entity is defined by:   \n",
    "    - a darray (flattened multidimensional data ordered with row_major order) or an URI (string location of data)\n",
    "    - a shape (order and length of axes)\n",
    "    - a NTVtype (semantic data type)\n",
    "    \n",
    "    ndarray can be *absolute* (defined by a darray) or *relative* (defined by a resolvable URI).\n",
    "- **xndarray (labelled multidimensional array)** is a ndarray defined by a name. A xndarray entity has optional additional data:\n",
    "    - add_name : the name of a property (additional name to the ndarray name)\n",
    "    - links : the names of linked xndarray\n",
    "    - metadata : Json-object metadata\n",
    "    \n",
    "    xndarray data can be: \n",
    "    - *metadata* : the ndarray is empty (None), add_name and links are not present\n",
    "    - *named-array* : without additional data\n",
    "    - *variable* : named-array with links and without add_name (e.g. dims).\n",
    "    - *additional-array* : named-array where name is extended (add_name is present)\n",
    "- **xdataset (coordinated multidimensional array)** is a collection of xndarray. This collection can be interpreted as a simple group or as an interconnected collection (names are used as pointers between xndarray items).\n",
    "\n",
    "    In the context of a xdataset, an included xndarray data can be:\n",
    "\n",
    "    - *dimension* : named-array where his name is present in links of a variable of the xdataset\n",
    "    - *data-array* : named-array where his name is not present in links of a variable of the xdataset\n",
    "    - *data-var* : variable where links equals the list of dimensions of the xdataset\n",
    "    - *coordinate* : variable where links not equals the list of dimensions of the xdataset\n",
    "    - *mask* : additional-array where data-type is boolean\n",
    "    - *data-add* : additional-array where data-type is not boolean\n",
    "\n",
    "     A xdataset is valid if :  \n",
    "    - included Xndarray are valid\n",
    "    - names in links are names of xndarray\n",
    "    - the shape of a Xndarray is consistent with the shape of Xndarray defined in his links\n",
    " \n",
    "  A xdataset is multidimensional if it is valid and contains more than one data-var.\n",
    "  \n",
    "  A xdataset is unidimensional if it is valid and contains a single data-var.\n",
    "  \n",
    "  In the other cases, a xdataset is a simple group of xndarray.\n",
    "\n",
    "*Note*\n",
    "- Numpy.ndarray corresponds to ndarray\n",
    "- Xarray.DataArray, Xarray.Dataset, scipp.DataArray, scipp.DataGroup, scipp.Dataset correspond to xdataset"
   ]
  },
  {
   "cell_type": "markdown",
   "id": "81213678-00af-4fad-b2e5-b1ac4f95a02b",
   "metadata": {
    "editable": true,
    "slideshow": {
     "slide_type": ""
    },
    "tags": []
   },
   "source": [
    "### JSON example\n",
    "\n",
    "The example below is a Json representation of the xdataset named 'example'.\n",
    "\n",
    "The Json format is detailed in Appendix.\n"
   ]
  },
  {
   "cell_type": "code",
   "execution_count": 3,
   "id": "ca1d13bd-5738-4953-8a0e-2bdfd7d844e1",
   "metadata": {
    "editable": true,
    "slideshow": {
     "slide_type": ""
    },
    "tags": []
   },
   "outputs": [],
   "source": [
    "example = {\n",
    "    'example:xdataset': {\n",
    "        'var1': [['float[kg]', [2, 2], [10.1, 0.4, 3.4, 8.2]], ['x', 'y']],\n",
    "        'var1.variance': [[[2, 2], [0.1, 0.2, 0.3, 0.4]]],\n",
    "        'var1.mask1': [[[True, False]], ['x']],\n",
    "        'var1.mask2': [[[2, 2], [True, False, False, True]]],\n",
    "    \n",
    "        'var2': [['var2.ntv'], ['x', 'y']],    \n",
    "        \n",
    "        'x': [['string', ['23F0AE', '578B98']], {'test': 21}],\n",
    "        'y': [['date', ['2021-01-01', '2022-02-02']]],\n",
    "        \n",
    "        'ranking': [['month', [2, 2], [1, 2, 3, 4]], ['var1']],\n",
    "        'z': [['float', [10, 20]], ['x']],\n",
    "        'z.uncertainty': [[[0.1, 0.2]]],\n",
    "        \n",
    "        'z_bis': [[['z1_bis', 'z2_bis']]],\n",
    "    \n",
    "        'info': {'path': 'https://github.com/loco-philippe/ntv-numpy/tree/main/example/'}\n",
    "    }\n",
    "}"
   ]
  },
  {
   "cell_type": "markdown",
   "id": "5bbf94bd-44bf-4282-867c-956f4570c357",
   "metadata": {
    "jp-MarkdownHeadingCollapsed": true
   },
   "source": [
    "The first ligne is the NTV representation ( {'NTVname:NTVtype': NTVvalue}).\n",
    "\n",
    "The other lines are the xndarray included in the xdataset (JsonObjects):\n",
    "   - `x` and `y` are *dimension* (*named_array* present in *links*)\n",
    "   - `var1` and `var2` are  *data_var* (*links* equals to the list of *dimensions*)\n",
    "   - `var1.variance` and `z.uncertainty` are *data_add* (*add_name* and not boolean NTVtype)\n",
    "   - `var1.mask1` and `var1.mask2` are *mask* (*add_name* and boolean NTVtype)\n",
    "   - `ranking` and `z` are *coordinate* (*links* not equals the list of *dimensions*)\n",
    "   - `z_bis` is *data_array* (*named_array* not present in *links*)\n",
    "   - `info` is *metadata*\n",
    "   - `var1` has a NTVtype with an extension (`kg`)\n",
    "   - `var2` has a *relative* ndarray\n",
    "   - `x` has metadata\n",
    "\n",
    "The `Xdataset` object is associated to this xdataset structure:"
   ]
  },
  {
   "cell_type": "code",
   "execution_count": null,
   "id": "0a3fd418-d47e-4f1b-b6b3-2b92eb20720f",
   "metadata": {
    "editable": true,
    "scrolled": true,
    "slideshow": {
     "slide_type": ""
    },
    "tags": []
   },
   "outputs": [],
   "source": [
    "from ntv_numpy import Xdataset\n",
    "import ntv_pandas as npd\n",
    "\n",
    "x_example = Xdataset.read_json(example)\n",
    "x_example.info"
   ]
  },
  {
   "cell_type": "markdown",
   "id": "e163a274-ef8b-4caf-b71d-524842fa9bbd",
   "metadata": {},
   "source": [
    "Note:\n",
    "- The JSON representation is equivalent to the `Xdataset` entity (Json conversion reversible)"
   ]
  },
  {
   "cell_type": "code",
   "execution_count": null,
   "id": "5c8c71fd-16b5-4c52-8c4f-ce8d05035b16",
   "metadata": {},
   "outputs": [],
   "source": [
    "x_json = x_example.to_json()\n",
    "x_example_json = Xdataset.read_json(x_json)\n",
    "x_example_json == x_example"
   ]
  },
  {
   "cell_type": "markdown",
   "id": "df42172b-523c-4f17-97a7-f3b9d25d8fda",
   "metadata": {},
   "source": [
    "## Interoperability\n",
    "\n",
    "The xdataset structure is compatible with multi-dimensional tools."
   ]
  },
  {
   "cell_type": "markdown",
   "id": "6f73d2a7-51fc-4b0a-b5f7-e1222278effa",
   "metadata": {
    "editable": true,
    "slideshow": {
     "slide_type": ""
    },
    "tags": []
   },
   "source": [
    "### Xarray interoperability"
   ]
  },
  {
   "cell_type": "code",
   "execution_count": null,
   "id": "4fff0c71-643c-4e8e-bc26-3a205b64a06f",
   "metadata": {},
   "outputs": [],
   "source": [
    "x_xarray = x_example.to_xarray()\n",
    "x_xarray"
   ]
  },
  {
   "cell_type": "markdown",
   "id": "b18e945b-d7aa-4b77-b9e0-9c2f56979365",
   "metadata": {
    "editable": true,
    "slideshow": {
     "slide_type": ""
    },
    "tags": []
   },
   "source": [
    "Notes:\n",
    "- the `Xdataset` is translated in a `xr.Dataset` (or `xr.DataArray`) \n",
    "- the NTVtype defined for each array is loaded as attribute (e.g. 'month' is an attribute for the 'ranking' coordinate)\n",
    "- data not compatible with a `xr.Dataset` is present as attribute:\n",
    "    - `var2` is a relative *data_var* and is not included in the `xr.Dataset`\n",
    "    - the `Xdataset` name is not available with `xr.Dataset`\n",
    "    - `z_bis` is a *data_array* and is not included as a `xr.Dataset`"
   ]
  },
  {
   "cell_type": "code",
   "execution_count": null,
   "id": "76a1fd43-642a-4291-af7e-9a6f938ff2d7",
   "metadata": {
    "editable": true,
    "slideshow": {
     "slide_type": ""
    },
    "tags": []
   },
   "outputs": [],
   "source": [
    "x_example_xr = Xdataset.from_xarray(x_xarray)\n",
    "x_example_xr == x_example_json == x_example"
   ]
  },
  {
   "cell_type": "markdown",
   "id": "9779204c-fbda-4393-92f2-31079fc64b79",
   "metadata": {},
   "source": [
    "The interface is lossless and reversible."
   ]
  },
  {
   "cell_type": "markdown",
   "id": "57fadeac-db2f-44f2-8158-7d4f380242e1",
   "metadata": {},
   "source": [
    "### Scipp interoperability"
   ]
  },
  {
   "cell_type": "code",
   "execution_count": null,
   "id": "172357ac-2bb0-4c2b-8218-ae7df7f2010f",
   "metadata": {},
   "outputs": [],
   "source": [
    "x_scipp = x_example.to_scipp()\n",
    "print(x_scipp['example'])"
   ]
  },
  {
   "cell_type": "code",
   "execution_count": null,
   "id": "6da43e6b-7dbc-4199-acab-891c3ffbac06",
   "metadata": {},
   "outputs": [],
   "source": [
    "x_scipp"
   ]
  },
  {
   "cell_type": "markdown",
   "id": "16e2f731-5620-463f-bf0d-bc56c5e4d9a9",
   "metadata": {
    "editable": true,
    "slideshow": {
     "slide_type": ""
    },
    "tags": []
   },
   "source": [
    "Notes:\n",
    "- the `Xdataset` is translated as a `sc.Dataset` and in a `sc.DataGroup` \n",
    "- the NTVtype is added to the name of `sc.DataArray`\n",
    "- the variance is included in `sc.Variable`\n",
    "- masks are associated to the `sc.DataArray`\n",
    "- data not compatible with a `sc.Dataset` is present in the `sc.DataGroup`:\n",
    "    - `var2` is a relative *data_var* and is not included in the `sc.Dataset`\n",
    "    - `z.uncertainty` is a *additional* and is not included as variance\n",
    "    - the `Xdataset` name is not available with xr.Dataset\n",
    "    - `z_bis` is a *data_array* and is not included in the `sc.Dataset`\n",
    "    - attributes are included in the `sc.Dataset`"
   ]
  },
  {
   "cell_type": "code",
   "execution_count": null,
   "id": "d18c6d98-76f9-4fce-86e3-312edc0361cb",
   "metadata": {
    "editable": true,
    "slideshow": {
     "slide_type": ""
    },
    "tags": []
   },
   "outputs": [],
   "source": [
    "x_example_sc = Xdataset.from_scipp(x_scipp)\n",
    "x_example_sc == x_example_xr == x_example_json == x_example"
   ]
  },
  {
   "cell_type": "markdown",
   "id": "6746ccc6-e7ac-4491-8f3e-a438ba71f29c",
   "metadata": {
    "editable": true,
    "slideshow": {
     "slide_type": ""
    },
    "tags": []
   },
   "source": [
    "The interface is lossless and reversible."
   ]
  },
  {
   "cell_type": "markdown",
   "id": "dd230aaa-1cc2-46da-881c-984de8b0cedb",
   "metadata": {
    "editable": true,
    "slideshow": {
     "slide_type": ""
    },
    "tags": []
   },
   "source": [
    "### NDData interoperability"
   ]
  },
  {
   "cell_type": "code",
   "execution_count": null,
   "id": "a6e7c852-e16e-4172-8723-12a2e08f0644",
   "metadata": {
    "editable": true,
    "slideshow": {
     "slide_type": ""
    },
    "tags": []
   },
   "outputs": [],
   "source": [
    "example = {\n",
    "    'example:xdataset': {\n",
    "        'data': [['float[erg/s]', [1,2,3,4]]],\n",
    "        'data.mask': [[[False, False, True, True]]],\n",
    "        'data.uncertainty': [['float64[std]', [1.0, 1.414, 1.732, 2.0]]],\n",
    "        'meta': {'object': 'fictional data.'},\n",
    "        'wcs':  {'WCSAXES': 2, 'CRPIX1': 2048.0, 'CRPIX2': 1024.0, 'PC1_1': 1.2905625619716e-05,\n",
    "                 'PC1_2': 5.9530912331034e-06, 'PC2_1': 5.0220581265601e-06, 'PC2_2': -1.2644774105568e-05,\n",
    "                 'CDELT1': 1.0, 'CDELT2': 1.0, 'CUNIT1': 'deg', 'CUNIT2': 'deg', 'CTYPE1': 'RA---TAN',\n",
    "                 'CTYPE2': 'DEC--TAN', 'CRVAL1': 5.63056810618, 'CRVAL2': -72.05457184279, 'LONPOLE': 180.0,\n",
    "                 'LATPOLE': -72.05457184279, 'WCSNAME': 'IDC_qbu1641sj', 'MJDREF': 0.0, 'RADESYS': 'ICRS'},\n",
    "        'psf': [['float[erg/s]', [1,2,3,4]]]}} \n",
    "n_example = Xdataset.read_json(example)\n",
    "n_example.info  "
   ]
  },
  {
   "cell_type": "code",
   "execution_count": null,
   "id": "11d727ab-00b8-49b9-ba6e-2640235ff118",
   "metadata": {
    "editable": true,
    "slideshow": {
     "slide_type": ""
    },
    "tags": []
   },
   "outputs": [],
   "source": [
    "n_nddata = n_example.to_nddata()\n",
    "print(n_nddata)"
   ]
  },
  {
   "cell_type": "markdown",
   "id": "fed6c82e-11b6-4e48-a9c9-76c49e15520e",
   "metadata": {
    "editable": true,
    "slideshow": {
     "slide_type": ""
    },
    "tags": []
   },
   "source": [
    "Notes:\n",
    "- the `Xdataset` is translated in a `astropy.NDData` where :\n",
    "    - 'data' is the 'data' `Xndarray`\n",
    "    - 'mask' is the 'data.mask' `Xndarray`\n",
    "    - 'uncertainty' is the 'data.uncertainty' `Xndarray` with the uncertainty_type defined by the ntv_type extension\n",
    "    - 'meta' is the 'meta' `Xndarray` with an additional key for the `Xdataset` 'name'\n",
    "    - 'wcs' is the 'meta' `Xndarray` with an additional key for the `Xdataset` 'name'\n"
   ]
  },
  {
   "cell_type": "code",
   "execution_count": null,
   "id": "7a09406c-00b7-4678-8126-b32cd0811571",
   "metadata": {
    "editable": true,
    "slideshow": {
     "slide_type": ""
    },
    "tags": []
   },
   "outputs": [],
   "source": [
    "n_example_ndd = Xdataset.from_nddata(n_nddata)\n",
    "n_example_ndd == n_example"
   ]
  },
  {
   "cell_type": "markdown",
   "id": "c7fefa38-f3dd-4ef1-a875-aecdd2e5553d",
   "metadata": {
    "editable": true,
    "slideshow": {
     "slide_type": ""
    },
    "tags": []
   },
   "source": [
    "The interface is lossless and reversible."
   ]
  },
  {
   "cell_type": "markdown",
   "id": "a2e454f6-4357-478b-83c7-a7802015c097",
   "metadata": {},
   "source": [
    "## Exchanging and sharing data"
   ]
  },
  {
   "cell_type": "markdown",
   "id": "3ed3e494-ba32-4ef3-8a32-7f1f03de756f",
   "metadata": {},
   "source": [
    "### Neutral format\n",
    "The JSON format presented does not use any data specific to any of the existing tools. \n",
    "The interface with multi-dimensional data processing tools is also reversible.\n",
    "\n",
    "The proposed format is therefore a neutral format and can be used for the exchange of multi-dimensional data between different tools or platforms."
   ]
  },
  {
   "cell_type": "markdown",
   "id": "dd801038-6983-426d-9e9c-348dd6baa26a",
   "metadata": {},
   "source": [
    "### URI usage\n",
    "An alternative approach consists of exchanging only the structural data and making the elementary data downloadable.\n",
    "\n",
    "This also has the advantage of managing elementary data independently of the dataset.\n",
    "\n",
    "The application of this approach to the previous example is shown below."
   ]
  },
  {
   "cell_type": "code",
   "execution_count": null,
   "id": "3c9cfa0a-bc90-4e6e-9257-5d15bf0ca0ed",
   "metadata": {},
   "outputs": [],
   "source": [
    "#only structural data\n",
    "example = {\n",
    "    'example:xdataset': {\n",
    "        'var1': [['float[kg]', [2, 2], 'var1.ntv'], ['x', 'y']],\n",
    "        'var1.variance': [[[2, 2], 'var1_variance.ntv']],\n",
    "        'var1.mask1': [['var1_mask1.ntv'], ['x']],\n",
    "        'var1.mask2': [[[2, 2], 'var1_mask2.ntv']],\n",
    "    \n",
    "        'var2': [['var2.ntv'], ['x', 'y']],    \n",
    "        \n",
    "        'x': [['x.ntv'], {'test': 21}],\n",
    "        'y': [['date', 'y.ntv']],\n",
    "        \n",
    "        'ranking': [['month', [2, 2], 'ranking.ntv'], ['var1']],\n",
    "        'z': [['float', 'z.ntv'], ['x']],\n",
    "        'z.uncertainty': [['z_uncertainty.ntv']],\n",
    "        \n",
    "        'z_bis': [['z_bis.ntv']],\n",
    "    \n",
    "        'info': {'path': 'https://github.com/loco-philippe/ntv-numpy/tree/main/example/'}\n",
    "    }\n",
    "}\n",
    "\n",
    "x_example_mixte = Xdataset.read_json(example)\n",
    "x_example_mixte.info"
   ]
  },
  {
   "cell_type": "markdown",
   "id": "5ad9bdc9-2988-428b-a6bc-647c3b1dceb6",
   "metadata": {},
   "source": [
    "Addition of elementary data."
   ]
  },
  {
   "cell_type": "code",
   "execution_count": null,
   "id": "b95f62b7-eff9-4b63-a169-ee97cd1ee144",
   "metadata": {},
   "outputs": [],
   "source": [
    "from ntv_numpy import Ndarray\n",
    "from copy import copy\n",
    "\n",
    "# simulation of reading \".ntv\" json files at the indicated \"path\"\n",
    "var1          = [[10.1, 0.4, 3.4, 8.2]]\n",
    "var1_variance = ['float', [0.1, 0.2, 0.3, 0.4]]\n",
    "var1_mask1    = [[True, False]]\n",
    "var1_mask2    = [[True, False, False, True]]\n",
    "var2          = ['var2.ntv']\n",
    "x             = ['string', ['23F0AE', '578B98']]\n",
    "y             = ['date', ['2021-01-01', '2022-02-02']]\n",
    "ranking       = [[1, 2, 3, 4]]\n",
    "z             = [[10.0, 20.0]]\n",
    "z_uncertainty = [[0.1, 0.2]]\n",
    "z_bis         = [['z1_bis', 'z2_bis']]\n",
    "\n",
    "json_files = [var1, var1_variance, var1_mask1, var1_mask2, var2, x, y, ranking, z, z_uncertainty, z_bis]\n",
    "\n",
    "x_example_mixte_json =copy(x_example_mixte)\n",
    "\n",
    "for data, xnda in zip(json_files, x_example_mixte_json.xnd):\n",
    "    xnda.set_ndarray(Ndarray.read_json(data))\n",
    "\n",
    "x_example_mixte_json == x_example_sc == x_example_xr == x_example_json == x_example"
   ]
  },
  {
   "cell_type": "code",
   "execution_count": null,
   "id": "fb6cfa9f-3353-4973-b840-88a1c67fbddf",
   "metadata": {},
   "outputs": [],
   "source": [
    "import numpy as np\n",
    "\n",
    "# simulation of reading files at the indicated \"path\"\n",
    "var1          = np.array([10.1, 0.4, 3.4, 8.2])\n",
    "var1_variance = Ndarray([0.1, 0.2, 0.3, 0.4], ntv_type='float')\n",
    "var1_mask1    = np.array([True, False])\n",
    "var1_mask2    = np.array([True, False, False, True])\n",
    "var2          = Ndarray('var2.ntv')\n",
    "x             = np.array(['23F0AE', '578B98'])\n",
    "y             = np.array(['2021-01-01', '2022-02-02'], dtype='datetime64[D]')\n",
    "ranking       = np.array([1, 2, 3, 4])\n",
    "z             = np.array([10.0, 20.0])\n",
    "z_uncertainty = np.array([0.1, 0.2])\n",
    "z_bis         = np.array(['z1_bis', 'z2_bis'])\n",
    "\n",
    "array_data = [var1, var1_variance, var1_mask1, var1_mask2, var2, x, y, ranking, z, z_uncertainty, z_bis]\n",
    "\n",
    "x_example_mixte_numpy = copy(x_example_mixte)\n",
    "for data, xnda in zip(array_data, x_example_mixte_numpy.xnd):\n",
    "    xnda.set_ndarray(Ndarray(data))\n",
    "\n",
    "x_example_mixte_numpy == x_example_mixte_json == x_example_sc == x_example_xr == x_example_json == x_example"
   ]
  },
  {
   "cell_type": "markdown",
   "id": "af546abf-51e5-49c7-b9d3-e9cff08b2db8",
   "metadata": {},
   "source": [
    "### Summary\n",
    "This example shows that the use of a neutral format associated with lossless interfaces provides complete interoperability."
   ]
  },
  {
   "cell_type": "markdown",
   "id": "cbe4200a",
   "metadata": {},
   "source": [
    "## Appendix - NTV data\n",
    "NTV format is a data representation with three attributes:\n",
    "- NTVname (string)\n",
    "- NTVtype (enumerate string)\n",
    "- NTVvalue (JSON object) \n",
    "\n",
    "Two entities are defined:\n",
    "- NTVlist : ordered list of entities\n",
    "- NTVsingle : entity not composed with other entities\n",
    "\n",
    "The JSON representation of NTVsingle entities is :\n",
    "- value :\n",
    "```json\n",
    "    25, 'test', [1,2]\n",
    "```\n",
    "\n",
    "- name and value : \n",
    "```json\n",
    "    {'test': 25}, {'test:': [1,2]}\n",
    "```\n",
    "- type and value :\n",
    "```json\n",
    "    {':day': 25}, {':point': [1,2]}\n",
    "```\n",
    "- type name and value : \n",
    "```json\n",
    "    {'equinox:date': '2023-09-23'}, {'paris:point': [2.35, 48.86]}\n",
    "```\n",
    "\n",
    "The JSON representation of NTVlist entities is :\n",
    "\n",
    "- if entities have JSON_member representation \n",
    "```json\n",
    "    { 'name_NTVlist: type_NTVlist': {JSON_entity1  , ...  JSONentityn }}\n",
    "    \n",
    "    { 'example': {'equinox:date': '2023-09-23' , 'paris:point': [2.35 , 48.86] }}\n",
    "```\n",
    "\n",
    "- in the other cases :\n",
    "```json\n",
    "    { 'name_NTVlist: type_NTVlist': [ JSON_entity1 , ... JSONentityn ] } \n",
    "    \n",
    "    { 'example': [25, {'paris:point': [2.35, 48.86] }, 'test']}\n",
    "```    "
   ]
  },
  {
   "cell_type": "markdown",
   "id": "1b19cd06",
   "metadata": {},
   "source": [
    "## Appendix - JSON representation"
   ]
  },
  {
   "cell_type": "markdown",
   "id": "f8930b7d",
   "metadata": {
    "jp-MarkdownHeadingCollapsed": true
   },
   "source": [
    "### Multidimensional NTVtype\n",
    "Multidimensional data is characterized by four NTVtype :\n",
    "\n",
    "- `darray` for darray data\n",
    "- `ndarray` for ndarra data\n",
    "- `xndarray` for xndarray data\n",
    "- `xdataset` for xdataset data\n",
    "\n",
    "The JSON representation of these NTVtype is defined below."
   ]
  },
  {
   "cell_type": "markdown",
   "id": "7024ff87",
   "metadata": {},
   "source": [
    "### JSON darray data\n",
    "JSON `darray`is a JsonArray \n",
    "\n",
    "The JSON representation is obtained by:\n",
    "\n",
    "- Converting structure of darray data into JSON structure\n",
    "- Conversion of elementary data into a JSON primitive,\n",
    "\n",
    "Example of formats available:\n",
    "\n",
    "Simple format:\n",
    "```json\n",
    "[ \"apple\", \"apple\", \"orange\", \"apple\", \"apple\", \"pepper\", \"banana\", \"apple\" ]\n",
    "```\n",
    "Categorical format:\n",
    "```json\n",
    "[[\"orange\",\"pepper\",\"apple\",\"banana\"], [2, 2, 0, 2, 2, 1, 3, 2] ]\n",
    "```\n",
    "Sparse format (8: length, -1: default value):\n",
    "```json\n",
    "[[\"orange\",\"pepper\",\"banana\", \"apple\"], [8], [2, 5, 6, -1]]\n",
    "```\n",
    "Periodic format (18: length, 2:repetition coefficient)\n",
    "\n",
    "   *representation of [10, 10, 20, 20, 30, 30, 10, 10, 20, 20, 30, 30, 10, 10, 20, 20, 30, 30]* :\n",
    "```json\n",
    "[[10, 20, 30], [18], [2]]\n",
    "```"
   ]
  },
  {
   "cell_type": "markdown",
   "id": "b765e767",
   "metadata": {},
   "source": [
    "### JSON ndarray data\n",
    "JSON `ndarray` is a JsonArray with three JsonElements (NTVtype, shape, darray) where darray is a JSON `darray`:\n",
    "\n",
    "Example: \n",
    "\n",
    "ndarray with simple format\n",
    "```json\n",
    "[\"int32\", [2, 2], [30, 40, 30, 40]]\n",
    "```\n",
    "ndarray with categorical format\n",
    "```json\n",
    "[\"int32\", [2, 2], [[30, 40], [0, 1, 0, 1]]]\n",
    "```\n",
    "ndarray with sparse format\n",
    "```json\n",
    "[\"int32\", [2, 2], [[30, 30, 40], [4], [0, 2, -1]]]\n",
    "```\n",
    "ndarray with implicit format (format defined by the linked 'x' ndarray)\n",
    "```json\n",
    "[\"int32\", [[10, 20], 'x']]\n",
    "```\n",
    "ndarray with relative format (format defined by the linked 'x' ndarray)\n",
    "```json\n",
    "[\"int32\", [[10, 20], 'x', [ 0, 1, 0, 0 ]]]\n",
    "```\n",
    "ndarray with simple format and list data\n",
    "```json\n",
    "[\"point\", [2, 2], [[5, 15], [25, 35], [45, 55], [65, 75]]]\n",
    "```\n",
    "ndarray with extended ntv_type\n",
    "```json\n",
    "[\"int32[kg]\", [1, 2, 3, 4]]\n",
    "```\n",
    "ndarray without ntv_type\n",
    "```json\n",
    "[[1, 2, 3, 4]]\n",
    "```\n",
    "ndarray defined by a URI\n",
    "```json\n",
    "[\"https://raw.githubusercontent.com/loco-philippe/ntv-numpy/master/example/ex_ndarray.ntv\"]\n",
    "[\"int32[kg]\", \"https://raw.githubusercontent.com/loco-philippe/ntv-numpy/master/example/ex_ndarray.ntv\"]\n",
    "```\n",
    "Note:\n",
    "- shape is optional with unidimensional data (deduced from darray)\n",
    "- NTVtype is optional (deduced from data type)"
   ]
  },
  {
   "cell_type": "markdown",
   "id": "2e1ac49d",
   "metadata": {},
   "source": [
    "### JSON xndarray data\n",
    "\n",
    "JSON `xndarray` is a JsonObject with a single JsonMember {'name': xvalue}.\n",
    "\n",
    "xvalue is a JsonArray with three optional JsonElements \n",
    "\n",
    "    - ndarray: JSON representation or uri string,\n",
    "    - links: JsonArray with the name of linked ndarray,\n",
    "    - meta: JsonObject with metadata\n",
    "\n",
    "If ndarray or links are note present, meta can be a single string.\n",
    "\n",
    "`xndarray` entity can be metadata, ndarray, dimension, variable or additional ndarray:\n",
    "\n",
    "metadata:\n",
    "```json\n",
    "{'unit': 'kg'}\n",
    "{'meta': {'dict': 'everything'}}\n",
    "```\n",
    "named-array (data-array or dimension in the context of a dataset):\n",
    "```json\n",
    "{':xndarray': [['int64[kg]', [10, 20]]]}\n",
    "{'y': [['string', [2], ['y1', 'y2']]]}\n",
    "```\n",
    "named-array with metadata:\n",
    "```json\n",
    "{'x': [[['x1', 'x2']], {'test': 21}]}\n",
    "```\n",
    "additional-array:\n",
    "```json\n",
    "{'x.mask': [[[True, False]]]}\n",
    "{'x.uncertainty': [[[0.1, 0.2]]]}\n",
    "{'z.variance': [[[0.1, 0.2]]]}\n",
    "```\n",
    "Variable (data-vars or coordinate in the context of a dataset):\n",
    "```json\n",
    "{'var1': [['float[kg]', [2, 2], [10.1, 0.4, 3.4, 8.2]], ['x', 'y']]}\n",
    "{'z': [[['z1', 'z2']], ['x']]}\n",
    "{'ranking': [[[2, 2], [10, 20, 20, 10]], ['var1']]}\n",
    "{'ranking': [[[2, 2], [[10, 20], [0, 1, 1, 0]]], ['var1']]}\n",
    "```\n",
    "Variable (ndarray defined by an URI):\n",
    "```json\n",
    "{'var2': [['https://raw.githubusercontent.com/loco-philippe/ntv-numpy/master/example/ex_ndarray.ntv'], ['x', 'y']]}\n",
    "```"
   ]
  },
  {
   "cell_type": "markdown",
   "id": "02ea8f5b",
   "metadata": {},
   "source": [
    "### JSON xdataset data\n",
    "\n",
    "JSON `xdataset` is a JsonObject where each JsonMember is a `xndarray`. \n",
    "\n",
    "Example:\n",
    "```json\n",
    "{\n",
    "    'var2': ['https://github.com/loco-philippe/ntv-numpy/tree/main/example/ex_ndarray.ntv', ['x', 'y']],\n",
    "    'var1': [['float[kg]', [2, 2], [10.1, 0.4, 3.4, 8.2]], ['x', 'y']],\n",
    "    'ranking': [[[2, 2], [1, 2, 3, 4]], ['var1']],\n",
    "    'x': [[['x1', 'x2']], {'test': 21}],\n",
    "    'y': [[['y1', 'y2']]],\n",
    "    'z': [[['z1', 'z2']], ['x']],\n",
    "    'z_bis': [[['z1_bis', 'z2_bis']]],\n",
    "    'x.mask': [[[True, False]]],\n",
    "    'x.uncertainty': [[[0.1, 0.2]], ['x']],\n",
    "    'z.variance': [[[0.1, 0.2]]],\n",
    "    'unit': 'kg',\n",
    "    'info': {'example': 'everything'}}\n",
    "}\n",
    "```"
   ]
  },
  {
   "cell_type": "markdown",
   "id": "d97192d7-ab9e-4c4e-864d-962f8584455c",
   "metadata": {},
   "source": [
    "## Appendix - Python entities"
   ]
  },
  {
   "cell_type": "markdown",
   "id": "4726cd6c",
   "metadata": {},
   "source": [
    "### Ndarray and Numpy ndarray\n",
    "numpy.ndarray is used to represent elementary data in Ndarray.\n",
    "\n",
    "A numpy.ndarray is equivalent to a Ndarray with two cases:\n",
    "\n",
    "- mapping: numpy dtype is associated with a NTVtype\n",
    "- conversion: python type of data is associated with a NTVtype\n",
    "\n",
    "In the other case, a NTVtype is required to define a Ndarray from a numpy.ndarray.\n",
    "\n",
    "These functions are similar to those used for the JSON-NTV representation of Pandas data ([see pandas examples](https://nbviewer.org/github/loco-philippe/ntv-pandas/blob/main/example/example_ntv_pandas.ipynb))."
   ]
  },
  {
   "cell_type": "markdown",
   "id": "5ef21d92",
   "metadata": {},
   "source": [
    "#### Mapping\n",
    "This is the most frequent case and concerns those numpy dtype:\n",
    "\n",
    "- datetime[x] (D, Y, M, s, ms, us, ns, ps, fs)\n",
    "- timedelta[x] (D, Y, M, s, ms, us, ns, ps, fs)\n",
    "- bool, bytes, str\n",
    "- int, uint (8,16,32,64)\n",
    "- float (16, 32, 64)\n",
    "\n",
    "For these dtype, the conversion is reversible."
   ]
  },
  {
   "cell_type": "code",
   "execution_count": null,
   "id": "8a582291",
   "metadata": {
    "editable": true,
    "slideshow": {
     "slide_type": ""
    },
    "tags": []
   },
   "outputs": [],
   "source": [
    "import numpy as np\n",
    "from ntv_numpy import Ndarray\n",
    "\n",
    "examples = [\n",
    "    np.array([10, 10, 20, 10, 30, 50]).astype('int64').reshape((2, 3)),\n",
    "    np.array(['test1', 'test2'], dtype='str'),\n",
    "    np.array(['2022-01-01', '2023-01-01'], dtype='datetime64[D]'),\n",
    "    np.array(['2022', '2023'], dtype='datetime64[Y]'),\n",
    "    np.array([b'abc\\x09', b'abc'], dtype='bytes'),\n",
    "    np.array([True, False], dtype='bool')]\n",
    "\n",
    "for example in examples:\n",
    "    equal = np.array_equal(example, Ndarray(example).ndarray)\n",
    "    jsn = Ndarray(example).to_json(header=False)\n",
    "    print('reversibility : ', equal, ', JSON representation : ', jsn)"
   ]
  },
  {
   "cell_type": "markdown",
   "id": "16bcbbc4",
   "metadata": {},
   "source": [
    "#### Conversion\n",
    "This case concerns Numpy dtype 'object' with specific Python data :\n",
    "\n",
    "- datetime.time\n",
    "- decimal.Decimal, \n",
    "- shapely classes (Point, LineString, Polygon, geojson, geometry)\n",
    "- list, dict, NoneType\n",
    "- ndarray, xndarray, xdataset, field, tab, ntv\n",
    "\n",
    "For these Python classes, the conversion is reversible."
   ]
  },
  {
   "cell_type": "code",
   "execution_count": null,
   "id": "4302911d",
   "metadata": {},
   "outputs": [],
   "source": [
    "from datetime import time\n",
    "from decimal import Decimal\n",
    "from shapely.geometry import Point\n",
    "from json_ntv import NtvSingle, Ntv\n",
    "import pandas as pd\n",
    "\n",
    "examples = [\n",
    "    np.array([time(10, 2, 3), time(20, 2, 3)]),\n",
    "    np.array([Decimal('10.5'), Decimal('20.5')]),\n",
    "    np.array([Point([1,2]), Point([3,4])]),\n",
    "    np.array([None, None]),\n",
    "    np.array([{'one':1}, {'two':2}]),\n",
    "    np.fromiter([[1,2], [3,4]], dtype='object')]\n",
    "\n",
    "for example in examples:\n",
    "    reverse = Ndarray(example).ndarray\n",
    "    equal = np.array_equal(example, reverse)\n",
    "    jsn_example = Ndarray(example).to_json(header=False)\n",
    "    print('reversibility : ', equal, ', JSON representation : ', jsn_example)\n",
    "\n",
    "examples = [\n",
    "    np.fromiter([np.array([1, 2], dtype='int64'), \n",
    "                 np.array(['test1', 'test2'], dtype='str')], dtype='object'),\n",
    "    np.fromiter([Ntv.obj({':point':[1,2]}), NtvSingle(12, 'noon', 'hour')], dtype='object'),\n",
    "    np.fromiter([pd.Series([1,2,3]), pd.Series([4,5,6])], dtype='object')]\n",
    "\n",
    "for example in examples:\n",
    "    reverse = Ndarray(example).ndarray\n",
    "    jsn_example = Ndarray(example).to_json(header=False)\n",
    "    jsn_reverse = Ndarray(reverse).to_json(header=False)\n",
    "    equal = jsn_example == jsn_reverse\n",
    "\n",
    "    print('reversibility : ', equal, ', JSON representation : ', jsn_example)"
   ]
  },
  {
   "cell_type": "markdown",
   "id": "df7734fd",
   "metadata": {},
   "source": [
    "#### Other NTVtype\n",
    "The JSON data with other NTVtype can be converted in ndarray but this conversion is not reversible. \n",
    "\n",
    "The reversibility is obtained with Ndarray entities.\n",
    "\n",
    "This case concerns :\n",
    "\n",
    "- data with type extension (e.g. number with unit : 'int64[kg]')\n",
    "- data with generic format (NTVtype : json, int, float, number)\n",
    "- number with semantic value (NTVtype : month, day, wday, yday, week, hour, minute, second)\n",
    "- string with semantic value (NTVtype : base16, base32, base64, period, duration, jpointer, uri, uriref, iri, iriref, email, regex, hostname, ipv4, ipv6, file, geojson)\n",
    "- object with semantic value (geometry, timearray)\n",
    "- data with type from an other namespace (e.g. schemaorg type : 'org.propertyID')"
   ]
  },
  {
   "cell_type": "code",
   "execution_count": null,
   "id": "424a7da6",
   "metadata": {},
   "outputs": [],
   "source": [
    "examples_json  = [\n",
    "    ['int64[kg]', [1, 2, 3, 4]],\n",
    "    ['month', [2, 2], [1, 2, 3, 4]],\n",
    "    ['json', [1, 'two', {'three': 3}]],\n",
    "    ['email', ['John Doe <jdoe@mac.example>', 'Anna Doe <adoe@mac.example>']]]\n",
    "            \n",
    "for ex_json in examples_json:\n",
    "    nda = Ndarray.read_json(ex_json)  \n",
    "    equal = nda == Ndarray.read_json(nda.to_json())\n",
    "    print('reversibility : ', equal, ', Numpy entity : ', repr(nda.ndarray))"
   ]
  },
  {
   "cell_type": "markdown",
   "id": "2b72bcb4",
   "metadata": {},
   "source": [
    "### Xndarray\n",
    "Xndarray is the entity associated to `xndarray` NTVtype.\n",
    "\n",
    "The `ndarray` entity included is a Numpy ndarray.\n"
   ]
  },
  {
   "cell_type": "markdown",
   "id": "ce35a5f8",
   "metadata": {},
   "source": [
    "#### Metadata"
   ]
  },
  {
   "cell_type": "code",
   "execution_count": null,
   "id": "2e18f8ff",
   "metadata": {},
   "outputs": [],
   "source": [
    "from ntv_numpy import Xndarray\n",
    "\n",
    "examples_json  = [\n",
    "    {'unit': 'kg'},\n",
    "    {'meta': {'everything': 1}}]\n",
    "\n",
    "for ex_json in examples_json:\n",
    "    xnda = Xndarray.read_json(ex_json)  \n",
    "    equal = xnda == Xndarray.read_json(xnda.to_json())\n",
    "    print('reversibility : ', equal, ', Xndarray entity : ', xnda.to_json(header=False))"
   ]
  },
  {
   "cell_type": "markdown",
   "id": "799233ac",
   "metadata": {},
   "source": [
    "#### Simple ndarray"
   ]
  },
  {
   "cell_type": "code",
   "execution_count": null,
   "id": "f51ad079",
   "metadata": {},
   "outputs": [],
   "source": [
    "examples  = [Ndarray(np.array([1, 'two', {'three': 3}],  dtype='object'), ntv_type='json'),\n",
    "             Ndarray(np.array([1, 2, 3, 4],              dtype='object'), ntv_type='int64[kg]'),\n",
    "             Ndarray(np.array([1, 2, 3, 4],              dtype='object'), ntv_type='month'),\n",
    "             Ndarray(np.array([[1, 2], [3, 4]],          dtype='object'), ntv_type='int'),\n",
    "             Ndarray(np.array(['1F23', '236A5E'],        dtype='object'), ntv_type='base16'),\n",
    "             Ndarray(np.array(['P3Y6M4DT12H30M5S'],      dtype='object'), ntv_type='duration'),\n",
    "             Ndarray(np.array(['geo:13.4125,103.86673'], dtype='object'), ntv_type='uri'),\n",
    "             Ndarray(np.array(['192.168.1.1'],           dtype='object'), ntv_type='ipv4'),\n",
    "             Ndarray(np.array(['John Doe <jdoe@mac.example>', 'Ann Doe <adoe@mac.example>'], dtype='object'), ntv_type='email')\n",
    "            ]\n",
    "\n",
    "for example in examples:\n",
    "    xnda = Xndarray('example', example)\n",
    "    equal = xnda == Xndarray.read_json(xnda.to_json())\n",
    "    print('reversibility : ', equal, ', Xndarray entity : ', xnda.to_json(header=False))"
   ]
  },
  {
   "cell_type": "markdown",
   "id": "9e7a77d9",
   "metadata": {},
   "source": [
    "#### Named-ndarray"
   ]
  },
  {
   "cell_type": "code",
   "execution_count": null,
   "id": "cfb15628",
   "metadata": {
    "scrolled": true
   },
   "outputs": [],
   "source": [
    "xnda = Xndarray('example', np.array(['x1', 'x2']))\n",
    "equal = xnda == Xndarray.read_json(xnda.to_json())\n",
    "\n",
    "print('reversibility : ', equal, ', Xndarray entity : ', xnda.to_json(header=False))"
   ]
  },
  {
   "cell_type": "markdown",
   "id": "cc45a6ce",
   "metadata": {},
   "source": [
    "#### Additional-ndarray"
   ]
  },
  {
   "cell_type": "code",
   "execution_count": null,
   "id": "6209afdf",
   "metadata": {
    "scrolled": true
   },
   "outputs": [],
   "source": [
    "xnda = Xndarray('x.mask', np.array([True, False]))\n",
    "equal = xnda == Xndarray.read_json(xnda.to_json())\n",
    "\n",
    "print('reversibility : ', equal, ', Xndarray entity : ', xnda.to_json(header=False))"
   ]
  },
  {
   "cell_type": "markdown",
   "id": "a46e819e",
   "metadata": {},
   "source": [
    "#### Variable"
   ]
  },
  {
   "cell_type": "code",
   "execution_count": null,
   "id": "def833c9",
   "metadata": {
    "scrolled": true
   },
   "outputs": [],
   "source": [
    "xnda = Xndarray('var2', Ndarray(np.array([10.1, 0.4, 3.4, 8.2]).reshape([2, 2]), ntv_type='float[kg]'), links = ['x', 'y'])\n",
    "equal = xnda == Xndarray.read_json(xnda.to_json())\n",
    "\n",
    "print('reversibility : ', equal, ', Xndarray entity : ', xnda.to_json(header=False))"
   ]
  },
  {
   "cell_type": "markdown",
   "id": "c7579e8d",
   "metadata": {},
   "source": [
    "#### URI Variable"
   ]
  },
  {
   "cell_type": "code",
   "execution_count": null,
   "id": "af7e54a1",
   "metadata": {
    "scrolled": true
   },
   "outputs": [],
   "source": [
    "xnda = Xndarray('var1', Ndarray('https://raw.githubusercontent.com/loco-philippe/ntv-numpy/master/example/ex_ndarray.ntv'), links = ['x', 'y'])\n",
    "equal = xnda == Xndarray.read_json(xnda.to_json())\n",
    "\n",
    "print('reversibility : ', equal, ', Xndarray entity : ', xnda.to_json(header=False))"
   ]
  },
  {
   "cell_type": "markdown",
   "id": "4c56bd27",
   "metadata": {},
   "source": [
    "### Xdataset\n",
    "Xdataset is the entity associated to `xdataset` NTVtype.\n",
    "\n",
    "The `xndarray` entities included are Xndarray.\n"
   ]
  },
  {
   "cell_type": "markdown",
   "id": "bd06125d",
   "metadata": {},
   "source": [
    "#### Simple example"
   ]
  },
  {
   "cell_type": "code",
   "execution_count": null,
   "id": "2be31a18",
   "metadata": {},
   "outputs": [],
   "source": [
    "from ntv_numpy import Xdataset\n",
    "\n",
    "xn1 = Xndarray.read_json({'x': [['string', ['x1', 'x2']]]})\n",
    "xn2 = Xndarray.read_json({'z': [['string', ['z1', 'z2']], ['x']]})\n",
    "\n",
    "xd = Xdataset([xn1, xn2])\n",
    "\n",
    "print()\n",
    "print(\"\\nreversibility : \", Xdataset.read_json(xd.to_json()) == xd, ', Xdataset entity : ',  xd.to_json(header=False))"
   ]
  },
  {
   "cell_type": "markdown",
   "id": "8526c040",
   "metadata": {},
   "source": [
    "#### Complete example"
   ]
  },
  {
   "cell_type": "code",
   "execution_count": null,
   "id": "92a8c024",
   "metadata": {},
   "outputs": [],
   "source": [
    "from pprint import pprint\n",
    "\n",
    "example = {'test': {\n",
    "                'var1': [['https://github.com/loco-philippe/ntv-numpy/tree/main/example/ex_ndarray.ntv'], \n",
    "                         ['x', 'y']],\n",
    "                'var2': [['float[kg]', [2, 2], [10.1, 0.4, 3.4, 8.2]], ['x', 'y']],\n",
    "                'ranking': [[[2, 2], [1, 2, 3, 4]], ['var2']],\n",
    "                'x': [[['x1', 'x2']], {'test': 21}],\n",
    "                'y': [[['y1', 'y2']]],\n",
    "                'z': [[['z1', 'z2']], ['x']],\n",
    "                'z_bis': [[['z1_bis', 'z2_bis']]],\n",
    "                'x.mask': [[[True, False]], ['x']],\n",
    "                'x.variance': [[[0.1, 0.2]], ['x']],\n",
    "                'z.variance': [[[0.1, 0.2]], ['x']],\n",
    "                'unit': 'kg',\n",
    "                'info': {'example': 'everything'}}}\n",
    "xd = Xdataset.read_json(example)        \n",
    "\n",
    "pprint(xd.to_json())\n",
    "print(\"\\nreversibility : \", Xdataset.read_json(xd.to_json()) == xd)"
   ]
  },
  {
   "cell_type": "markdown",
   "id": "9db11e03",
   "metadata": {},
   "source": [
    "#### Analysis\n",
    "The `info` property return a dict with the properties of a Xdataset:\n",
    "- name : name of the Xdataset\n",
    "- xtype : meta (only metadata), mono (unidimensional array), multi (multidimensional array), group (collection of Xndarray)\n",
    "- data-vars : list of the names of data-var Xndarray\n",
    "- data-arrays : list of the names of data-arrays Xndarray\n",
    "- dimensions : list of the names of dimension Xndarray\n",
    "- coordinates : list of the names of coordinate Xndarray\n",
    "- additionals : list of the names of additional Xndarray\n",
    "- metadata : list of the names of metadata\n",
    "- validity : undefined (xtype of a Xndarray has value 'relative' or 'inconsistent'), inconsistent ('shape' or 'links' of a variable is inconsistent), valid (other cases)\n",
    "- width : number of Xndarray included"
   ]
  },
  {
   "cell_type": "code",
   "execution_count": null,
   "id": "9beda479",
   "metadata": {},
   "outputs": [],
   "source": [
    "xd.info"
   ]
  },
  {
   "cell_type": "code",
   "execution_count": null,
   "id": "6cb94675",
   "metadata": {},
   "outputs": [],
   "source": [
    "del(xd[('var1')])\n",
    "xd.info"
   ]
  },
  {
   "cell_type": "markdown",
   "id": "671c0831",
   "metadata": {},
   "source": [
    "## Appendix - Using in NTV data\n",
    "The NTV format makes it possible to group data of different types in the same structure or in specific structure ([see NTV overview](https://nbviewer.org/github/loco-philippe/NTV/blob/main/example/example_ntv.ipynb))."
   ]
  },
  {
   "cell_type": "markdown",
   "id": "e307b218",
   "metadata": {},
   "source": [
    "### Including in NTV structure"
   ]
  },
  {
   "cell_type": "code",
   "execution_count": null,
   "id": "24371b51",
   "metadata": {},
   "outputs": [],
   "source": [
    "from json_ntv import NtvList\n",
    "\n",
    "nd = np.array([1, 2, 3, 4])\n",
    "xn1 = Xndarray('example', nda=np.array(['x1', 'x2']))\n",
    "xn2 = Xndarray.read_json({'z': [['string', ['z1', 'z2']], ['x']]})\n",
    "xd = Xdataset([xn1, xn2], 'test')\n",
    "\n",
    "print('example NTVsingle\\n')\n",
    "print(NtvSingle(nd))"
   ]
  },
  {
   "cell_type": "code",
   "execution_count": null,
   "id": "68ad0108-eb2e-4b5f-9cb6-1e230f5ef148",
   "metadata": {},
   "outputs": [],
   "source": [
    "print('example NTVlist\\n')\n",
    "print(NtvList([nd, xn1, xd]))"
   ]
  },
  {
   "cell_type": "code",
   "execution_count": null,
   "id": "115d575e-cf84-446a-87e1-2557e7fd1eaa",
   "metadata": {},
   "outputs": [],
   "source": [
    "print('example with mixed data (Json representation)\\n')\n",
    "mixte = Ntv.obj({'mixed': [xn1, {'coordinate':Point(1,2)}, {'pandas series': pd.Series([1,2,3])}]})\n",
    "print(mixte)"
   ]
  },
  {
   "cell_type": "code",
   "execution_count": null,
   "id": "41ea3217-571e-4712-b875-2c7bb47fe592",
   "metadata": {},
   "outputs": [],
   "source": [
    "print('example with mixed data (object representation)\\n')\n",
    "pprint(mixte.to_obj(format='obj'), width=20)"
   ]
  },
  {
   "cell_type": "markdown",
   "id": "aa747bf3",
   "metadata": {},
   "source": [
    "### Including in other objects"
   ]
  },
  {
   "cell_type": "code",
   "execution_count": null,
   "id": "70002be3",
   "metadata": {},
   "outputs": [],
   "source": [
    "sr = pd.Series([1, 2, nd, xn1])\n",
    "mixin = Ntv.obj({'mixin': sr})\n",
    "print(mixin)"
   ]
  },
  {
   "cell_type": "markdown",
   "id": "ecec3eda",
   "metadata": {},
   "source": [
    "## Appendix - Equivalence with tabular format\n",
    "The conversion between the two tabular and multi-dimensional formats is simple and lossless.\n",
    "\n",
    "We can therefore share data between a tabular tool and a multidimensional tool via this format."
   ]
  },
  {
   "cell_type": "markdown",
   "id": "229e4f41",
   "metadata": {
    "editable": true,
    "slideshow": {
     "slide_type": ""
    },
    "tags": []
   },
   "source": [
    "### Format conversion"
   ]
  },
  {
   "cell_type": "code",
   "execution_count": null,
   "id": "d7012d8d",
   "metadata": {},
   "outputs": [],
   "source": [
    "from numpy_ntv_connector import to_json_tab, read_json_tab\n",
    "\n",
    "example = np.array([10, 10, 20, 10, 30, 50]).astype('int64').reshape((2, 3))\n",
    "print(\"example without axes :\\n\")\n",
    "#pprint(to_json(ex))\n",
    "pprint(to_json_tab(example))\n",
    "\n",
    "\"\"\"print(\"\\nexample with axes :\\n\")\n",
    "pprint(to_json(a, add=add), width=150)\n",
    "pprint(to_json_tab(a, add), width=150)\"\"\""
   ]
  },
  {
   "cell_type": "markdown",
   "id": "bec200ec",
   "metadata": {},
   "source": [
    "### Compatibility with tabular tools"
   ]
  },
  {
   "cell_type": "code",
   "execution_count": null,
   "id": "ed8eabb6",
   "metadata": {},
   "outputs": [],
   "source": [
    "import ntv_pandas as npd\n",
    "\n",
    "print('pandas DataFrame :')\n",
    "ex_df = npd.read_json(to_json_tab(example))\n",
    "display(ex_df)\n",
    "\n",
    "\"\"\"a_df = npd.read_json(to_json_tab(a, add))\n",
    "display(a_df)\n",
    "print('dtypes:\\n' + str(a_df.dtypes))\"\"\""
   ]
  },
  {
   "cell_type": "markdown",
   "id": "55b77019",
   "metadata": {},
   "source": [
    "### tabular data to multidimensional data\n",
    "Tabular data can be analysed to identify the dimension and the fields associated to each axe"
   ]
  },
  {
   "cell_type": "markdown",
   "id": "cfc4db95-c153-466f-bf4a-01a31b0db18d",
   "metadata": {},
   "source": [
    "'''analys = a_df.npd.analysis(True)\n",
    "print('dimension:\\n', analys.dimension)\n",
    "partition = analys.field_partition(mode='id')\n",
    "print('\\npartition:\\n', partition)'''"
   ]
  },
  {
   "cell_type": "markdown",
   "id": "4ed823a4",
   "metadata": {},
   "source": [
    "'primary' fields are converted into axes.\n",
    "\n",
    "The shape is deduced from the length of axes (categorical format)"
   ]
  },
  {
   "cell_type": "markdown",
   "id": "b2557fc0-ab85-4971-adae-da3619772622",
   "metadata": {},
   "source": [
    "'''a_df_sort = a_df.sort_values(partition['primary'])\n",
    "a3, add3 = read_json_tab(a_df_sort.npd.to_json(header=False, index=False))\n",
    "\n",
    "print(\"\\nreversibility :\\n\")\n",
    "print(np.array_equal(a3, a), Ntv.obj(add3) == Ntv.obj(add))'''"
   ]
  },
  {
   "cell_type": "markdown",
   "id": "6d7039ad",
   "metadata": {},
   "source": [
    "## Appendix - Astropy specific points\n",
    "This chapter presents some points related to the Astropy data structure that can be integrated into the JSON-NTV format."
   ]
  },
  {
   "cell_type": "markdown",
   "id": "28a59cbe",
   "metadata": {},
   "source": [
    "### Units and quantities\n",
    "- 'unit' is a specif type\n",
    "- three options are available for quantities:\n",
    "\n",
    "    - option 1 : add specific types including unit\n",
    "    - option 2 : add unit as type extension for existing types\n",
    "    - option 3 : including unit in the name\n",
    "\n",
    "- Option 2 is retained \n",
    "\n",
    "    - This option can be extended to other usages. For example:\n",
    "    \n",
    "    ```\n",
    "    {\"comment:string[fr]\": \"Paris est une belle ville\"}\n",
    "    ```\n",
    "\n",
    "    - This option is compatible with NTV structure. For example \n",
    "    \n",
    "    ```\n",
    "    {\"list_of_ndarray::ndarray[kg]\": { \"array1\": [1, 2, 3, 4], \"array2\": [5, 6, 7, 8]}}\n",
    "    ```"
   ]
  },
  {
   "cell_type": "markdown",
   "id": "0bfcab53-e33a-40f2-ad07-34fcb0071390",
   "metadata": {},
   "source": [
    "#### Unit as ntv_type"
   ]
  },
  {
   "cell_type": "code",
   "execution_count": null,
   "id": "e9ff83a2-aef9-4cb7-83c9-2c9980e54b77",
   "metadata": {},
   "outputs": [],
   "source": [
    "NtvSingle('kg', 'mass', 'unit')"
   ]
  },
  {
   "cell_type": "markdown",
   "id": "66efc05a-abd3-4aa0-bb39-c78da2d119d8",
   "metadata": {},
   "source": [
    "#### Quantities"
   ]
  },
  {
   "cell_type": "code",
   "execution_count": null,
   "id": "dc6d87ac-25d7-4600-9f51-8bb8315e48d0",
   "metadata": {},
   "outputs": [],
   "source": [
    "examples = [\n",
    "    Ndarray([2., 2.5, 3., 3.5, 4., 4.5, 5.], ntv_type='float[m/s]'),\n",
    "    Xndarray('example', Ndarray([2., 2.5, 3., 3.5, 4., 4.5, 5.], ntv_type='float[m/s]'))\n",
    "]\n",
    "for example in examples:\n",
    "    print(example.to_json(header=False))\n",
    "    print(example.to_json())"
   ]
  },
  {
   "cell_type": "code",
   "execution_count": null,
   "id": "bbca3534",
   "metadata": {},
   "outputs": [],
   "source": [
    "ntv = Ntv.obj({\"list_of_ndarray::ndarray[kg]\": { \"array1\": [[2, 2], [1, 2, 3, 4]], \"array2\": [[2, 2], [5, 6, 7, 8]]}})\n",
    "\n",
    "print('json representation :\\n', ntv[0])\n",
    "print('\\njson representation of a list :\\n', ntv)\n",
    "print('\\nNdarray representation :\\n', ntv[0].to_obj(format='obj', type=True))"
   ]
  },
  {
   "cell_type": "markdown",
   "id": "473a5964",
   "metadata": {},
   "source": [
    "### Coordinates\n",
    "The existing 'point' type (and also the other types: pointstr, line, polygon, multipolygon, box...) can be used with the coordinate object (perhaps with a type extension). e.g.\n",
    "\n",
    "```\n",
    "{':point[icrs]' : [ 10.625, 41.2] }\n",
    "```"
   ]
  },
  {
   "cell_type": "markdown",
   "id": "f530928e",
   "metadata": {},
   "source": [
    "### Table\n",
    "The `Table` or `Qtable` object is represented using the `tab` format dedicated to tabular structures. \n",
    "\n",
    "```\n",
    "{'ex_table:tab': {'x:string': ['x1', 'x1', 'x2', 'x2'], \n",
    "                  'y:string': ['y1', 'y2', 'y1', 'y2'], \n",
    "                  'value:float64[kg]': [1.0, 2.0, 3.0, 4.0],\n",
    "                  'meta': 'everything'}\n",
    "```\n",
    "\n",
    "This ensures interoperability between tabular tools (e.g. Pandas).\n"
   ]
  },
  {
   "cell_type": "markdown",
   "id": "a6451d8d",
   "metadata": {},
   "source": [
    "### Other structures\n",
    "\n",
    "The other structures were not examined. They can be integrated using the following tools:\n",
    "\n",
    "- Addition of new types: for types having a transversal character\n",
    "- Adding type via a Namespace: for types associated with specific data (e.g. “astro.xxx)\n",
    "- Definition of an imposed structure for a given type\n",
    "- Using specific type extension\n"
   ]
  }
 ],
 "metadata": {
  "kernelspec": {
   "display_name": "Python 3 (ipykernel)",
   "language": "python",
   "name": "python3"
  },
  "language_info": {
   "codemirror_mode": {
    "name": "ipython",
    "version": 3
   },
   "file_extension": ".py",
   "mimetype": "text/x-python",
   "name": "python",
   "nbconvert_exporter": "python",
   "pygments_lexer": "ipython3",
   "version": "3.11.8"
  },
  "toc": {
   "base_numbering": 22
  }
 },
 "nbformat": 4,
 "nbformat_minor": 5
}
