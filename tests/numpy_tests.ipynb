{
 "cells": [
  {
   "cell_type": "markdown",
   "id": "32676b66",
   "metadata": {},
   "source": [
    "# JSON format for multidimensional data\n",
    "version : 2024-03-11"
   ]
  },
  {
   "cell_type": "markdown",
   "id": "5740ec57",
   "metadata": {},
   "source": [
    "## Introduction\n",
    "This memo is a proposal to implement a compact and reversible (lossless round-trip) JSON interface for multidimensional data and in particular for Numpy (see issue #12481).\n",
    "\n",
    "The [JSON-NTV](https://www.ietf.org/archive/id/draft-thomy-json-ntv-02.html) (Named and Typed value) format is a JSON format which integrates a notion of type .\n",
    "    \n",
    "In particular, it makes it possible to provide a reversible (lossless round-trip) interface for multidimensional data.\n",
    "     \n",
    "This format has also been implemented for [tabular data](https://www.ietf.org/archive/id/draft-thomy-ntv-tab-00.html) (see NTV-pandas package available in the [pandas ecosystem](https://pandas.pydata.org/community/ecosystem.html) and the [PDEP12](https://pandas.pydata.org/pdeps/0012-compact-and-reversible-JSON-interface.html) specification). .\n",
    "\n",
    "This memo presents the implementation for multidimensional data."
   ]
  },
  {
   "cell_type": "markdown",
   "id": "9e00e726",
   "metadata": {},
   "source": [
    "## Benefits\n",
    "The use of this format has the following advantages:\n",
    "\n",
    "- Taking into account data types not known to Numpy,\n",
    "- Reversible format\n",
    "- Interoperability with other tools for tabular or multidimensional data (e.g. pandas, Xarray)\n",
    "- Ease of sharing Json format\n",
    "- Binary coding possible (e.g. CBOR format)\n",
    "- Format integrating data of different nature\n"
   ]
  },
  {
   "cell_type": "markdown",
   "id": "cbe4200a",
   "metadata": {},
   "source": [
    "## NTV data\n",
    "NTV format is a data representation with three attributes:\n",
    "- NTVname (string)\n",
    "- NTVtype (enumerate string)\n",
    "- NTVvalue (JSON object) \n",
    "\n",
    "Two entities are defined:\n",
    "- NTVlist : ordered list of entities\n",
    "- NTVsingle : entity not composed with other entities\n",
    "\n",
    "The JSON representation of NTVsingle entities is :\n",
    "- value :\n",
    "```json\n",
    "    25, 'test', [1,2]\n",
    "```\n",
    "\n",
    "- name and value : \n",
    "```json\n",
    "    {'test': 25}, {'test:': [1,2]}\n",
    "```\n",
    "- type and value :\n",
    "```json\n",
    "    {':day': 25}, {':point': [1,2]}\n",
    "```\n",
    "- type name and value : \n",
    "```json\n",
    "    {'equinox:date': '2023-09-23'}, {'paris:point': [2.35, 48.86]}\n",
    "```\n",
    "\n",
    "The JSON representation of NTVlist entities is :\n",
    "\n",
    "- { 'name_NTVlist:type_NTVlist': { JSON_entity1, ... JSONentityn } } if entities have JSON_member representation \n",
    "```json\n",
    "    { 'example': {'equinox:date': '2023-09-23', 'paris:point': [2.35, 48.86] }}\n",
    "```\n",
    "\n",
    "- { 'name_NTVlist:type_NTVlist': [ JSON_entity1, ... JSONentityn ] } in the other cases\n",
    "```json\n",
    "    { 'example': [25, {'paris:point': [2.35, 48.86] }, 'test']}\n",
    "```    "
   ]
  },
  {
   "cell_type": "markdown",
   "id": "1b19cd06",
   "metadata": {},
   "source": [
    "## NTV multidimensional data"
   ]
  },
  {
   "cell_type": "markdown",
   "id": "f8930b7d",
   "metadata": {},
   "source": [
    "### Multidimensional types\n",
    "Multidimensional data is characterized by four ntv_type (see [Appendix](#Appendix---JSON-representation)):\n",
    "\n",
    "- `darray` (unidimensional array) is a ordered collection of 'items'. A 'darray' can be represented with several formats (e.g. simple list, categorical format, sparse format)\n",
    "- `ndarray` (multidimensional array) is a N-dimensional array of homogeneous data types. An `ndarray` entity is defined by:\n",
    "    - a `darray` of \"items\" of the same type\n",
    "    - a shape : the length of each dimension\n",
    "    - a data type as defined in the NTV format\n",
    "    The `darray` is the flattened multidimensional data ordered with row_major order\n",
    "- `xndarray` (labelled multidimensional array) is a `ndarray` defined by a name. An `xndarray` entity has optional additional data:\n",
    "    - the name of a property (additional name to the `ndarray` name)\n",
    "    - the names of dimensions\n",
    "    - json object metadata\n",
    "    The `ndarray` can be included in the `xndarray` or only represented by a resolvable URI\n",
    "- `xdataset` (coordinated multidimensional array) is a collection of `xndarray`. This collection can be interpreted as a simple group or as an interconnected collection (names are used as pointers between `xndarray` items).\n",
    "\n",
    "Example:\n",
    "\n",
    "- Numpy.array corresponds to `ndarray` NTVtype.\n",
    "- Xarray.DataArray, Xarray.Dataset, scipp.DataArray, scipp.DataGroup, scipp.Dataset corresponds to `xdataset` NTVtype.\n"
   ]
  },
  {
   "cell_type": "markdown",
   "id": "7024ff87",
   "metadata": {},
   "source": [
    "### Example of JSON representation of `darray` data\n",
    "JSON `darray`is a JsonArray \n",
    "\n",
    "The JSON representation is obtained by:\n",
    "\n",
    "- Converting structure of Numpy data into JSON structure\n",
    "- Conversion of elementary data into a JSON primitive,\n",
    "- Mapping the Numpy dtype and the nature of the object into an NTV type\n",
    "\n",
    "Example of formats available:\n",
    "\n",
    "Simple format:\n",
    "```json\n",
    "[ \"apple\", \"apple\", \"orange\", \"apple\", \"apple\", \"pepper\", \"banana\", \"apple\" ]\n",
    "```\n",
    "Categorical format:\n",
    "```json\n",
    "[[\"orange\",\"pepper\",\"apple\",\"banana\"], [2, 2, 0, 2, 2, 1, 3, 2] ]\n",
    "```\n",
    "Sparse format (8: length, -1: default value):\n",
    "```json\n",
    "[[\"orange\",\"pepper\",\"banana\", \"apple\"], [8], [2, 5, 6, -1]]\n",
    "```\n",
    "Periodic format (representation of [10, 10, 20, 20, 30, 30, 10, 10, 20, 20, 30, 30, 10, 10, 20, 20, 30, 30]\n",
    "\n",
    "18: length, 2:repetition coefficient):\n",
    "```json\n",
    "[[10, 20, 30], [18], [2]]\n",
    "```"
   ]
  },
  {
   "cell_type": "markdown",
   "id": "b765e767",
   "metadata": {},
   "source": [
    "### Example of JSON representation of `ndarray` data\n",
    "JSON `ndarray` is a JsonArray with three JsonElements (NTVtype, shape, darray) where darray is a JSON `darray`:\n",
    "\n",
    "Example: \n",
    "\n",
    "ndarray with simple format\n",
    "```json\n",
    "[\"int32\", [2, 2], [30, 40, 30, 40]]\n",
    "```\n",
    "ndarray with categorical format\n",
    "```json\n",
    "[\"int32\", [2, 2], [[30, 40], [0, 1, 0, 1]]]\n",
    "```\n",
    "ndarray with sparse format\n",
    "```json\n",
    "[\"int32\", [2, 2], [[30, 30, 40], [4], [0, 2, -1]]]\n",
    "```\n",
    "ndarray with extended ntv_type\n",
    "```json\n",
    "[\"int32[kg]\", [1, 2, 3, 4]]}\n",
    "```\n",
    "Note:\n",
    "- shape is optional with unidimensional data (deduced from darray)"
   ]
  },
  {
   "cell_type": "markdown",
   "id": "2e1ac49d",
   "metadata": {},
   "source": [
    "### Example of JSON representation of `xndarray` data\n",
    "\n",
    "JSON `xndarray` is a JsonObject with a single JsonMember {'name': xvalue}.\n",
    "\n",
    "xvalue is a JsonArray with three optional JsonElements \n",
    "\n",
    "    - ndarray: JSON representation or uri string,\n",
    "    - dims: JsonArray with the name of dimensions,\n",
    "    - meta: JsonObject with metadata\n",
    "\n",
    "If ndarray or dims are note present, meta can be a single string.\n",
    "\n",
    "`xndarray` entity can be metadata, ndarray, dimension, variable or additional Ndarray.\n",
    "\n",
    "Metadata:\n",
    "```json\n",
    "{'unit': 'kg'}\n",
    "{'meta': {'dict': 'everything'}}\n",
    "```\n",
    "Ndarray:\n",
    "```json\n",
    "{':xndarray': [['int64[kg]', [10, 20]]]}\n",
    "```\n",
    "Dimension (named Ndarray without dims):\n",
    "```json\n",
    "{'y': [['string', [2], ['y1', 'y2']]]}\n",
    "```\n",
    "Dimension with metadata (Ndarray + metadata without dims):\n",
    "```json\n",
    "{'x': [[['x1', 'x2']], {'test': 21}]}\n",
    "```\n",
    "Additional Ndarray (Ndarray with additional name):\n",
    "```json\n",
    "{'x.mask': [[[True, False]]]}\n",
    "{'x.uncertainty': [[[0.1, 0.2]]]}\n",
    "{'z.variance': [[[0.1, 0.2]]]}\n",
    "```\n",
    "Variables (Ndarray with dims):\n",
    "```json\n",
    "{'var2': [['float[kg]', [2, 2], [10.1, 0.4, 3.4, 8.2]], ['x', 'y']]}\n",
    "{'z': [[['z1', 'z2']], ['x']]}\n",
    "{'ranking': [[[2, 2], [1, 2, 3, 4]], ['var1']]}\n",
    "```\n",
    "Variables (URI with dims):\n",
    "```json\n",
    "{'var1': ['https://raw.githubusercontent.com/loco-philippe/ntv-numpy/master/example/ex_ndarray.ntv', ['x', 'y']]}\n",
    "```"
   ]
  },
  {
   "cell_type": "markdown",
   "id": "02ea8f5b",
   "metadata": {},
   "source": [
    "### Example of JSON representation of `xdataset` data\n",
    "\n",
    "JSON `xdataset` is a JsonObject where each JsonMember is a `xndarray`. \n",
    "\n",
    "A variable `xndarray` is a 'data_var' if dims is the list of dimensions.\n",
    "\n",
    "A variable `xndarray` is a 'coordinate' if dims is not equal to the list of dimensions.\n",
    "\n",
    "Rules:\n",
    "- `xdataset` is multidimensional data if :    \n",
    "     - included Xndarray are valid\n",
    "     - names in dims JsonArray are names of Xndarray\n",
    "     - shape of Xndarray is consistent with the shape of Xndarray defined in dims JsonArray\n",
    "- in the other cases, `xdataset`is a simple group of Xndarray \n",
    "\n",
    "Example:\n",
    "```json\n",
    "{\n",
    "'var1': ['https://github.com/loco-philippe/ntv-numpy/tree/main/example/ex_ndarray.ntv', ['x', 'y']],\n",
    "'var2': [['float[kg]', [2, 2], [10.1, 0.4, 3.4, 8.2]], ['x', 'y']],\n",
    "'ranking': [[[2, 2], [1, 2, 3, 4]], ['var1']],\n",
    "'x': [[['x1', 'x2']], {'test': 21}],\n",
    "'y': [[['y1', 'y2']]],\n",
    "'z': [[['z1', 'z2']], ['x']],\n",
    "'x.mask': [[[True, False]], ['x']],\n",
    "'x.uncertainty': [[[0.1, 0.2]], ['x']],\n",
    "'z.variance': [[[0.1, 0.2]], ['x']],\n",
    "'unit': 'kg',\n",
    "'info': {'example': 'everything'}}\n",
    "}\n",
    "```\n",
    "This example is a multidimensional Xdataset with :\n",
    "- two dimensions ('x' and 'y')\n",
    "- two data_vars ('var1' and 'var2') defined with the 'x' and 'y' dimensions \n",
    "- two coordinates ('z' and 'ranking'). The 'ranking' coordinate is associated to 'x' and 'y' dimensions\n",
    "- two metadata ('unit' and 'info')\n",
    "- two additional Xndarray for 'x' dimension ('uncertainty' and 'mask')\n",
    "- one additional Xndarray for 'z' coordinate ('variance')\n"
   ]
  },
  {
   "cell_type": "markdown",
   "id": "4726cd6c",
   "metadata": {},
   "source": [
    "## Numpy Ndarray\n",
    "Numpy Ndarray are represented with `ndarray` NTVtype with two cases:\n",
    "\n",
    "- mapping: Numpy dtype is associated with a NTVtype\n",
    "- conversion: python type of data is associated with a NTVtype\n",
    "\n",
    "These functions are similar to those used for the JSON-NTV representation of Pandas data ([see pandas examples](https://nbviewer.org/github/loco-philippe/ntv-pandas/blob/main/example/example_ntv_pandas.ipynb))."
   ]
  },
  {
   "cell_type": "markdown",
   "id": "5ef21d92",
   "metadata": {},
   "source": [
    "### Mapping\n",
    "This is the most frequent case and concerns Numpy dtype:\n",
    "\n",
    "- datetime[x] (D, Y, M, s, ms, us, ns, ps, fs)\n",
    "- timedelta[x] (D, Y, M, s, ms, us, ns, ps, fs)\n",
    "- bool, bytes, str\n",
    "- int[x], uint[x] (8,16,32,64)\n",
    "- float[x] (16, 32, 64)\n",
    "\n",
    "For these dtype, the conversion is reversible."
   ]
  },
  {
   "cell_type": "code",
   "execution_count": 1,
   "id": "8a582291",
   "metadata": {},
   "outputs": [
    {
     "name": "stdout",
     "output_type": "stream",
     "text": [
      "example (with and without dtype) :\n",
      "\n",
      "{':ndarray': ['int64', [2, 3], [10, 10, 20, 10, 30, 50]]}\n",
      "{':ndarray': ['int64[kg]', [2, 3], [10, 10, 20, 10, 30, 50]]}\n",
      "{':ndarray': [[2, 3], [10, 10, 20, 10, 30, 50]]}\n",
      "{':ndarray': ['int64', [2, 3], [[10, 20, 30, 50], [0, 0, 1, 0, 2, 3]]]}\n",
      "\n",
      "reversibility :  True\n",
      "\n",
      "other examples :\n",
      "\n",
      "{':ndarray': ['string', ['test1', 'test2']]}\n",
      "{':ndarray': ['date', ['2022-01-01', '2023-01-01']]}\n",
      "{':ndarray': ['year', ['2022', '2023']]}\n",
      "{':ndarray': ['bytes', ['abc\\t', 'abc']]}\n",
      "{':ndarray': ['boolean', [True, False]]}\n"
     ]
    }
   ],
   "source": [
    "import numpy as np\n",
    "from numpy_ntv_connector import read_json, to_json\n",
    "\n",
    "ex = np.array([10, 10, 20, 10, 30, 50]).astype('int64').reshape((2, 3))\n",
    "\n",
    "print(\"example (with and without dtype) :\\n\")\n",
    "print(to_json(ex))\n",
    "print(to_json(ex, extension='kg'))\n",
    "print(to_json(ex, notype=True))\n",
    "print(to_json(ex, format='complete'))\n",
    "\n",
    "ex2 = read_json(to_json(ex), header=False)\n",
    "print(\"\\nreversibility : \", np.array_equal(ex2, ex))\n",
    "\n",
    "print(\"\\nother examples :\\n\")\n",
    "print(to_json(np.array(['test1', 'test2'], dtype='str')))\n",
    "print(to_json(np.array(['2022-01-01', '2023-01-01'], dtype='datetime64[D]')))\n",
    "print(to_json(np.array(['2022', '2023'], dtype='datetime64[Y]')))\n",
    "print(to_json(np.array([b'abc\\x09', b'abc'], dtype='bytes')))\n",
    "print(to_json(np.array([True, False], dtype='bool')))"
   ]
  },
  {
   "cell_type": "markdown",
   "id": "16bcbbc4",
   "metadata": {},
   "source": [
    "### Conversion\n",
    "This case concerns Numpy dtype 'object' with specific Python data :\n",
    "\n",
    "- time\n",
    "- Decimal, \n",
    "- shapely data (Point, LineString, Polygon, geojson, geometry)\n",
    "- list, dict, NoneType, bytes\n",
    "- ndarray, xndarray, xdataset, field, tab, ntv\n",
    "\n",
    "For these dtype, the conversion is reversible."
   ]
  },
  {
   "cell_type": "code",
   "execution_count": 2,
   "id": "4302911d",
   "metadata": {},
   "outputs": [
    {
     "name": "stdout",
     "output_type": "stream",
     "text": [
      "example (with and without dtype) :\n",
      "\n",
      "{':ndarray': ['time', ['10:02:03', '20:02:03']]}\n",
      "\n",
      "reversibility :  True\n",
      "\n",
      "other examples (len = 2) :\n",
      "\n",
      "{':ndarray': ['decimal64', [10.5, 20.5]]}\n",
      "{':ndarray': ['point', [[1.0, 2.0], [3.0, 4.0]]]}\n",
      "{':ndarray': ['null', [None, None]]}\n",
      "{':ndarray': ['object', [{'one': 1}, {'two': 2}]]}\n",
      "{':ndarray': ['array', [[1, 2], [3, 4]]]}\n",
      "{':ndarray': ['ndarray', [['int64', [1, 2]], ['string', ['test1', 'test2']]]]}\n",
      "{':ndarray': ['NtvSingle', [2, 1, 1, 1, 1, 1, 1, 1, 1, 1, 1, 1, 1, 1, 1, 1, 1, 1, 1, 1, 1, 1, 1, 1, 1, 1, 1, 1, 1, 1, 1, 1], [{\":point\": [1, 2]}, {\"noon:hour\": 12}]]}\n",
      "{':ndarray': ['field', [[1, 2, 3], [4, 5, 6]]]}\n"
     ]
    }
   ],
   "source": [
    "from datetime import time\n",
    "from decimal import Decimal\n",
    "from shapely.geometry import Point\n",
    "from json_ntv import NtvSingle, Ntv\n",
    "import pandas as pd\n",
    "\n",
    "ex = np.array([time(10, 2, 3), time(20, 2, 3)])\n",
    "\n",
    "print(\"example (with and without dtype) :\\n\")\n",
    "print(to_json(ex))\n",
    "\n",
    "ex2 = read_json(to_json(ex), header=False)\n",
    "print(\"\\nreversibility : \", np.array_equal(ex2, ex))\n",
    "\n",
    "print(\"\\nother examples (len = 2) :\\n\")\n",
    "print(to_json(np.array([Decimal('10.5'), Decimal('20.5')])))\n",
    "print(to_json(np.array([Point([1,2]), Point([3,4])])))\n",
    "print(to_json(np.array([None, None])))\n",
    "print(to_json(np.array([{'one':1}, {'two':2}])))\n",
    "print(to_json(np.fromiter([[1,2], [3,4]], dtype='object')))\n",
    "print(to_json(np.fromiter([np.array([1, 2], dtype='int64'), \n",
    "                           np.array(['test1', 'test2'], dtype='str')], dtype='object')))\n",
    "print(to_json(np.array([Ntv.obj({':point':[1,2]}), NtvSingle(12, 'noon', 'hour')], dtype='object')))\n",
    "print(to_json(np.fromiter([pd.Series([1,2,3]), pd.Series([4,5,6])], dtype='object')))"
   ]
  },
  {
   "cell_type": "markdown",
   "id": "df7734fd",
   "metadata": {},
   "source": [
    "### Other NTVtype\n",
    "The JSON data with other NTVtype can be converted in ndarray but this conversion is not reversible. \n",
    "\n",
    "The reversibility is obtained with Xndarray entities.\n",
    "\n",
    "This case concerns :\n",
    "\n",
    "- data with type extension (e.g. number with unit : 'int64[kg]')\n",
    "- data with generic format (NTVtype : json, int, float, number)\n",
    "- number with semantic value (NTVtype : month, day, wday, yday, week, hour, minute, second)\n",
    "- string with semantic value (NTVtype : base16, base32, base64, period, duration, jpointer, uri, uriref, iri, iriref, email, regex, hostname, ipv4, ipv6, file, geojson)\n",
    "- object with semantic value (geometry, timearray)\n",
    "- data with type from an other namespace (e.g. schemaorg type : 'org.propertyID')"
   ]
  },
  {
   "cell_type": "code",
   "execution_count": 3,
   "id": "424a7da6",
   "metadata": {},
   "outputs": [
    {
     "name": "stdout",
     "output_type": "stream",
     "text": [
      "example of ndarray:\n",
      "\n",
      "[1 2 3 4]\n",
      "[1 2 3 4]\n",
      "[1 'two' {'three': 3}]\n",
      "['John Doe <jdoe@mac.example>' 'Anna Doe <adoe@mac.example>']\n"
     ]
    }
   ],
   "source": [
    "print('example of ndarray:\\n')\n",
    "print(read_json(['int64[kg]', [1, 2, 3, 4]]))\n",
    "print(read_json(['month', [1, 2, 3, 4]]))\n",
    "print(read_json(['json', [1, 'two', {'three': 3}]]))\n",
    "print(read_json(['email', ['John Doe <jdoe@mac.example>', 'Anna Doe <adoe@mac.example>']]))"
   ]
  },
  {
   "cell_type": "markdown",
   "id": "2b72bcb4",
   "metadata": {},
   "source": [
    "## Xndarray\n",
    "Xndarray is the entity associated to `xndarray` NTVtype.\n",
    "\n",
    "The `ndarray` entity included is a Numpy ndarray.\n"
   ]
  },
  {
   "cell_type": "markdown",
   "id": "ce35a5f8",
   "metadata": {},
   "source": [
    "### Metadata"
   ]
  },
  {
   "cell_type": "code",
   "execution_count": 4,
   "id": "2e18f8ff",
   "metadata": {},
   "outputs": [
    {
     "name": "stdout",
     "output_type": "stream",
     "text": [
      "example with only metadata :\n",
      "\n",
      "{\"unit:xndarray\": \"kg\"}\n",
      "{\"meta:xndarray\": {\"everything\": 1}}\n",
      "\n",
      "reversibility : True\n"
     ]
    }
   ],
   "source": [
    "from ntv_numpy import Xndarray\n",
    "\n",
    "print(\"example with only metadata :\\n\")\n",
    "print(Xndarray.read_json({'unit': 'kg'}))\n",
    "print(Xndarray.read_json({'meta': {'everything': 1}}))\n",
    "\n",
    "print(\"\\nreversibility :\", to_json(Xndarray.read_json({'unit': 'kg'}), header=False) == {'unit': 'kg'})\n"
   ]
  },
  {
   "cell_type": "markdown",
   "id": "799233ac",
   "metadata": {},
   "source": [
    "### Simple ndarray"
   ]
  },
  {
   "cell_type": "code",
   "execution_count": 5,
   "id": "f51ad079",
   "metadata": {},
   "outputs": [
    {
     "name": "stdout",
     "output_type": "stream",
     "text": [
      "example with Numpy ndarray :\n",
      "\n",
      "{':xndarray': [['json', [1, 'two', {'three': 3}]]]}\n",
      "\n",
      "reversibility :  True\n",
      "\n",
      "example of ndarray:\n",
      "\n",
      "{\":xndarray\": [[\"int64[kg]\", [1, 2, 3, 4]]]}\n",
      "{\":xndarray\": [[\"int\", [2, 2], [1, 2, 3, 4]]]}\n",
      "{\":xndarray\": [[\"month\", [1, 2, 3, 4]]]}\n",
      "{\":xndarray\": [[\"base16\", [\"1F23\", \"236A5E\"]]]}\n",
      "{\":xndarray\": [[\"duration\", [\"P3Y6M4DT12H30M5S\"]]]}\n",
      "{\":xndarray\": [[\"duration\", [\"P3Y6M4DT12H30M5S\"]]]}\n",
      "{\":xndarray\": [[\"uri\", [\"geo:13.4125,103.86673\"]]]}\n",
      "{\":xndarray\": [[\"ipv4\", [\"192.168.1.1\"]]]}\n",
      "{\":xndarray\": [[\"email\", [\"John Doe <jdoe@mac.example>\", \"Ann Doe <adoe@mac.example>\"]]]}\n"
     ]
    }
   ],
   "source": [
    "print(\"example with Numpy ndarray :\\n\")\n",
    "xn = Xndarray(nda=np.array([1, 'two', {'three': 3}], dtype='object'), ntv_type='json')\n",
    "print(xn.to_json())\n",
    "\n",
    "print(\"\\nreversibility : \", Xndarray.read_json(xn.to_json()) == xn)\n",
    "\n",
    "print('\\nexample of ndarray:\\n')\n",
    "print(Xndarray(nda=np.array([1, 2, 3, 4], dtype='object'), ntv_type='int64[kg]'))\n",
    "print(Xndarray(nda=np.array([[1, 2], [3, 4]], dtype='object'), ntv_type='int'))\n",
    "print(Xndarray(nda=np.array([1, 2, 3, 4], dtype='object'), ntv_type='month'))\n",
    "print(Xndarray(nda=np.array(['1F23', '236A5E'], dtype='object'), ntv_type='base16'))\n",
    "print(Xndarray(nda=np.array(['P3Y6M4DT12H30M5S'], dtype='object'), ntv_type='duration'))\n",
    "print(Xndarray(nda=np.array(['P3Y6M4DT12H30M5S'], dtype='object'), ntv_type='duration'))\n",
    "print(Xndarray(nda=np.array(['geo:13.4125,103.86673'], dtype='object'), ntv_type='uri'))\n",
    "print(Xndarray(nda=np.array(['192.168.1.1'], dtype='object'), ntv_type='ipv4'))\n",
    "print(Xndarray(nda=np.array(['John Doe <jdoe@mac.example>', 'Ann Doe <adoe@mac.example>'], dtype='object'), ntv_type='email'))"
   ]
  },
  {
   "cell_type": "markdown",
   "id": "9e7a77d9",
   "metadata": {},
   "source": [
    "### Named ndarray"
   ]
  },
  {
   "cell_type": "code",
   "execution_count": 18,
   "id": "cfb15628",
   "metadata": {
    "scrolled": true
   },
   "outputs": [
    {
     "name": "stdout",
     "output_type": "stream",
     "text": [
      "example with named ndarray :\n",
      "\n",
      "{'example:xndarray': [['string', ['x1', 'x2']]]}\n",
      "\n",
      "reversibility :  True\n"
     ]
    }
   ],
   "source": [
    "print(\"example with named ndarray :\\n\")\n",
    "xn = Xndarray('example', nda=np.array(['x1', 'x2']))\n",
    "print(xn.to_json())\n",
    "\n",
    "print(\"\\nreversibility : \", Xndarray.read_json(xn.to_json()) == xn)"
   ]
  },
  {
   "cell_type": "markdown",
   "id": "cc45a6ce",
   "metadata": {},
   "source": [
    "### Additional Xndarray"
   ]
  },
  {
   "cell_type": "code",
   "execution_count": 7,
   "id": "6209afdf",
   "metadata": {
    "scrolled": true
   },
   "outputs": [
    {
     "name": "stdout",
     "output_type": "stream",
     "text": [
      "example with additional xndarray :\n",
      "\n",
      "{'x.mask:xndarray': [['boolean', [True, False]]]}\n",
      "\n",
      "reversibility :  True\n"
     ]
    }
   ],
   "source": [
    "print(\"example with additional xndarray :\\n\")\n",
    "xn = Xndarray('x.mask', nda=np.array([True, False]))\n",
    "print(xn.to_json())\n",
    "\n",
    "print(\"\\nreversibility : \", Xndarray.read_json(xn.to_json()) == xn)"
   ]
  },
  {
   "cell_type": "markdown",
   "id": "a46e819e",
   "metadata": {},
   "source": [
    "### Variable"
   ]
  },
  {
   "cell_type": "code",
   "execution_count": 8,
   "id": "def833c9",
   "metadata": {
    "scrolled": true
   },
   "outputs": [
    {
     "name": "stdout",
     "output_type": "stream",
     "text": [
      "example with variable :\n",
      "\n",
      "{'var2:xndarray': [['float[kg]', [2, 2], [10.1, 0.4, 3.4, 8.2]], ['x', 'y']]}\n",
      "\n",
      "reversibility :  True\n"
     ]
    }
   ],
   "source": [
    "print(\"example with variable :\\n\")\n",
    "xn = Xndarray('var2', nda=np.array([10.1, 0.4, 3.4, 8.2]).reshape([2,2]), ntv_type='float[kg]', dims = ['x', 'y'])\n",
    "print(xn.to_json())\n",
    "\n",
    "print(\"\\nreversibility : \", Xndarray.read_json(xn.to_json()) == xn)"
   ]
  },
  {
   "cell_type": "markdown",
   "id": "c7579e8d",
   "metadata": {},
   "source": [
    "### URI Variable"
   ]
  },
  {
   "cell_type": "code",
   "execution_count": 9,
   "id": "af7e54a1",
   "metadata": {
    "scrolled": true
   },
   "outputs": [
    {
     "name": "stdout",
     "output_type": "stream",
     "text": [
      "example with URI variable :\n",
      "\n",
      "{'var1:xndarray': ['https://raw.githubusercontent.com/loco-philippe/ntv-numpy/master/example/ex_ndarray.ntv', ['x', 'y']]}\n",
      "\n",
      "reversibility :  True\n"
     ]
    }
   ],
   "source": [
    "print(\"example with URI variable :\\n\")\n",
    "xn = Xndarray('var1', uri='https://raw.githubusercontent.com/loco-philippe/ntv-numpy/master/example/ex_ndarray.ntv', dims = ['x', 'y'])\n",
    "print(xn.to_json())\n",
    "\n",
    "print(\"\\nreversibility : \", Xndarray.read_json(xn.to_json()) == xn)"
   ]
  },
  {
   "cell_type": "markdown",
   "id": "4c56bd27",
   "metadata": {},
   "source": [
    "## Xdataset\n",
    "Xdataset is the entity associated to `xdataset` NTVtype.\n",
    "\n",
    "The `xndarray` entities included are a Xndarray.\n"
   ]
  },
  {
   "cell_type": "markdown",
   "id": "bd06125d",
   "metadata": {},
   "source": [
    "### Simple example"
   ]
  },
  {
   "cell_type": "code",
   "execution_count": 10,
   "id": "2be31a18",
   "metadata": {},
   "outputs": [
    {
     "name": "stdout",
     "output_type": "stream",
     "text": [
      "{':xdataset': {'x': [['string', [2], ['x1', 'x2']]], 'z': [['string', [2], ['z1', 'z2']], ['x']]}}\n",
      "\n",
      "reversibility :  True\n"
     ]
    }
   ],
   "source": [
    "from ntv_numpy import Xdataset\n",
    "\n",
    "xn1 = Xndarray.read_json({'x': [['string', ['x1', 'x2']]]})\n",
    "xn2 = Xndarray.read_json({'z': [['string', ['z1', 'z2']], ['x']]})\n",
    "\n",
    "xd = Xdataset([xn1, xn2])\n",
    "\n",
    "print(xd.to_json())\n",
    "print(\"\\nreversibility : \", Xdataset.read_json(xd.to_json()) == xd)"
   ]
  },
  {
   "cell_type": "markdown",
   "id": "8526c040",
   "metadata": {},
   "source": [
    "### Complete example"
   ]
  },
  {
   "cell_type": "code",
   "execution_count": 11,
   "id": "92a8c024",
   "metadata": {},
   "outputs": [
    {
     "name": "stdout",
     "output_type": "stream",
     "text": [
      "{'test:xdataset': {'info': {'example': 'everything'},\n",
      "                   'ranking': [['int32', [2, 2], [1, 2, 3, 4]], ['var1']],\n",
      "                   'unit': 'kg',\n",
      "                   'var1': ['https://github.com/loco-philippe/ntv-numpy/tree/main/example/ex_ndarray.ntv',\n",
      "                            ['x', 'y']],\n",
      "                   'var2': [['float[kg]', [2, 2], [10.1, 0.4, 3.4, 8.2]],\n",
      "                            ['x', 'y']],\n",
      "                   'x': [['string', [2], ['x1', 'x2']], {'test': 21}],\n",
      "                   'x.mask': [['boolean', [2], [True, False]], ['x']],\n",
      "                   'x.variance': [['float64', [2], [0.1, 0.2]], ['x']],\n",
      "                   'y': [['string', [2], ['y1', 'y2']]],\n",
      "                   'z': [['string', [2], ['z1', 'z2']], ['x']],\n",
      "                   'z.variance': [['float64', [2], [0.1, 0.2]], ['x']]}}\n",
      "\n",
      "reversibility :  True\n"
     ]
    }
   ],
   "source": [
    "from pprint import pprint\n",
    "\n",
    "example = {'test': {\n",
    "                'var1': ['https://github.com/loco-philippe/ntv-numpy/tree/main/example/ex_ndarray.ntv', \n",
    "                         ['x', 'y']],\n",
    "                'var2': [['float[kg]', [2, 2], [10.1, 0.4, 3.4, 8.2]], ['x', 'y']],\n",
    "                'ranking': [[[2, 2], [1, 2, 3, 4]], ['var1']],\n",
    "                'x': [[['x1', 'x2']], {'test': 21}],\n",
    "                'y': [[['y1', 'y2']]],\n",
    "                'z': [[['z1', 'z2']], ['x']],\n",
    "                'x.mask': [[[True, False]], ['x']],\n",
    "                'x.variance': [[[0.1, 0.2]], ['x']],\n",
    "                'z.variance': [[[0.1, 0.2]], ['x']],\n",
    "                'unit': 'kg',\n",
    "                'info': {'example': 'everything'}}}\n",
    "xd = Xdataset.read_json(example)        \n",
    "\n",
    "pprint(xd.to_json())\n",
    "print(\"\\nreversibility : \", Xdataset.read_json(xd.to_json()) == xd)"
   ]
  },
  {
   "cell_type": "markdown",
   "id": "671c0831",
   "metadata": {},
   "source": [
    "## Using in NTV data\n",
    "The NTV format makes it possible to group data of different types in the same structure or in specific structure ([see NTV overview](https://nbviewer.org/github/loco-philippe/NTV/blob/main/example/example_ntv.ipynb))."
   ]
  },
  {
   "cell_type": "markdown",
   "id": "e307b218",
   "metadata": {},
   "source": [
    "### Include multidimensional data in NTV structure"
   ]
  },
  {
   "cell_type": "code",
   "execution_count": 12,
   "id": "24371b51",
   "metadata": {},
   "outputs": [
    {
     "name": "stdout",
     "output_type": "stream",
     "text": [
      "example NTVsingle\n",
      "\n",
      "{\":ndarray\": [\"int32\", [1, 2, 3, 4]]}\n",
      "\n",
      "example NTVlist\n",
      "\n",
      "{\":ndarray\": [\"int32\", [1, 2, 3, 4]], \"example:xndarray\": [[\"string\", [\"x1\", \"x2\"]]], \"test:xdataset\": {\"test:xdataset\": {\"example\": [[\"string\", [\"x1\", \"x2\"]]], \"z\": [[\"string\", [\"z1\", \"z2\"]], [\"x\"]]}}}\n",
      "\n",
      "example with mixed data (Json representation)\n",
      "\n",
      "{\"mixed\": {\"example:xndarray\": [[\"string\", [\"x1\", \"x2\"]]], \"coordinate:point\": [1.0, 2.0], \"pandas series:field\": [1, 2, 3]}}\n",
      "\n",
      "example with mixed data (object representation)\n",
      "\n",
      "{'mixed': {'coordinate': <POINT (1 2)>, 'example': Xndarray[], 'pandas series': 0    1\n",
      "1    2\n",
      "2    3\n",
      "dtype: int64}}\n"
     ]
    }
   ],
   "source": [
    "from json_ntv import NtvList\n",
    "\n",
    "nd = np.array([1, 2, 3, 4])\n",
    "xn1 = Xndarray('example', nda=np.array(['x1', 'x2']))\n",
    "xn2 = Xndarray.read_json({'z': [['string', ['z1', 'z2']], ['x']]})\n",
    "xd = Xdataset([xn1, xn2], 'test')\n",
    "\n",
    "print('example NTVsingle\\n')\n",
    "print(NtvSingle(nd))\n",
    "\n",
    "print('\\nexample NTVlist\\n')\n",
    "print(NtvList([nd, xn1, xd]))\n",
    "\n",
    "print('\\nexample with mixed data (Json representation)\\n')\n",
    "mixte = Ntv.obj({'mixed': [xn1, {'coordinate':Point(1,2)}, {'pandas series': pd.Series([1,2,3])}]})\n",
    "print(mixte)\n",
    "\n",
    "print('\\nexample with mixed data (object representation)\\n')\n",
    "pprint(mixte.to_obj(format='obj'), width=150)"
   ]
  },
  {
   "cell_type": "markdown",
   "id": "aa747bf3",
   "metadata": {},
   "source": [
    "### Include multidimensional data in other objects"
   ]
  },
  {
   "cell_type": "code",
   "execution_count": 13,
   "id": "70002be3",
   "metadata": {},
   "outputs": [
    {
     "name": "stdout",
     "output_type": "stream",
     "text": [
      "{\"mixin:field\": [1, 2, {\":ndarray\": [\"int32\", [1, 2, 3, 4]]}, {\"example:xndarray\": [[\"string\", [\"x1\", \"x2\"]]]}]}\n"
     ]
    }
   ],
   "source": [
    "sr = pd.Series([1, 2, nd, xn1])\n",
    "mixin = Ntv.obj({'mixin': sr})\n",
    "print(mixin)"
   ]
  },
  {
   "cell_type": "markdown",
   "id": "ecec3eda",
   "metadata": {},
   "source": [
    "### Equivalence of tabular format and multi-dimensional format\n",
    "The conversion between the two tabular and multi-dimensional formats is simple and lossless.\n",
    "\n",
    "We can therefore share data between a tabular tool and a multidimensional tool via this format."
   ]
  },
  {
   "cell_type": "markdown",
   "id": "229e4f41",
   "metadata": {},
   "source": [
    "#### Format conversion"
   ]
  },
  {
   "cell_type": "code",
   "execution_count": 14,
   "id": "d7012d8d",
   "metadata": {},
   "outputs": [
    {
     "name": "stdout",
     "output_type": "stream",
     "text": [
      "example without axes :\n",
      "\n",
      "{':ndarray': ['time', ['10:02:03', '20:02:03']]}\n",
      "{':tab': {'data::object': [datetime.time(10, 2, 3), datetime.time(20, 2, 3)],\n",
      "          'dim_0': [[0, 1], [1]]}}\n"
     ]
    },
    {
     "data": {
      "text/plain": [
       "'print(\"\\nexample with axes :\\n\")\\npprint(to_json(a, add=add), width=150)\\npprint(to_json_tab(a, add), width=150)'"
      ]
     },
     "execution_count": 14,
     "metadata": {},
     "output_type": "execute_result"
    }
   ],
   "source": [
    "from numpy_ntv_connector import to_json_tab, read_json_tab\n",
    "\n",
    "print(\"example without axes :\\n\")\n",
    "pprint(to_json(ex))\n",
    "pprint(to_json_tab(ex))\n",
    "\n",
    "\"\"\"print(\"\\nexample with axes :\\n\")\n",
    "pprint(to_json(a, add=add), width=150)\n",
    "pprint(to_json_tab(a, add), width=150)\"\"\""
   ]
  },
  {
   "cell_type": "markdown",
   "id": "bec200ec",
   "metadata": {},
   "source": [
    "#### Compatibility with tabular tools"
   ]
  },
  {
   "cell_type": "code",
   "execution_count": 16,
   "id": "ed8eabb6",
   "metadata": {},
   "outputs": [
    {
     "name": "stdout",
     "output_type": "stream",
     "text": [
      "pandas DataFrame :\n"
     ]
    },
    {
     "ename": "NtvError",
     "evalue": "ntv_value is not compatible with ntv_type",
     "output_type": "error",
     "traceback": [
      "\u001b[1;31m---------------------------------------------------------------------------\u001b[0m",
      "\u001b[1;31mNtvError\u001b[0m                                  Traceback (most recent call last)",
      "\u001b[1;32m~\\AppData\\Local\\Temp\\ipykernel_34268\\1538363043.py\u001b[0m in \u001b[0;36m<module>\u001b[1;34m\u001b[0m\n\u001b[0;32m      2\u001b[0m \u001b[1;33m\u001b[0m\u001b[0m\n\u001b[0;32m      3\u001b[0m \u001b[0mprint\u001b[0m\u001b[1;33m(\u001b[0m\u001b[1;34m'pandas DataFrame :'\u001b[0m\u001b[1;33m)\u001b[0m\u001b[1;33m\u001b[0m\u001b[1;33m\u001b[0m\u001b[0m\n\u001b[1;32m----> 4\u001b[1;33m \u001b[0mex_df\u001b[0m \u001b[1;33m=\u001b[0m \u001b[0mnpd\u001b[0m\u001b[1;33m.\u001b[0m\u001b[0mread_json\u001b[0m\u001b[1;33m(\u001b[0m\u001b[0mto_json_tab\u001b[0m\u001b[1;33m(\u001b[0m\u001b[0mex\u001b[0m\u001b[1;33m)\u001b[0m\u001b[1;33m)\u001b[0m\u001b[1;33m\u001b[0m\u001b[1;33m\u001b[0m\u001b[0m\n\u001b[0m\u001b[0;32m      5\u001b[0m \u001b[0mdisplay\u001b[0m\u001b[1;33m(\u001b[0m\u001b[0mex_df\u001b[0m\u001b[1;33m)\u001b[0m\u001b[1;33m\u001b[0m\u001b[1;33m\u001b[0m\u001b[0m\n\u001b[0;32m      6\u001b[0m \u001b[1;33m\u001b[0m\u001b[0m\n",
      "\u001b[1;32m~\\github\\ntv-pandas\\ntv_pandas\\pandas_ntv_connector.py\u001b[0m in \u001b[0;36mread_json\u001b[1;34m(jsn, **kwargs)\u001b[0m\n\u001b[0;32m    121\u001b[0m     \u001b[1;32mif\u001b[0m \u001b[1;34m'schema'\u001b[0m \u001b[1;32min\u001b[0m \u001b[0mjso\u001b[0m\u001b[1;33m:\u001b[0m\u001b[1;33m\u001b[0m\u001b[1;33m\u001b[0m\u001b[0m\n\u001b[0;32m    122\u001b[0m         \u001b[1;32mreturn\u001b[0m \u001b[0mPdUtil\u001b[0m\u001b[1;33m.\u001b[0m\u001b[0mto_obj_table\u001b[0m\u001b[1;33m(\u001b[0m\u001b[0mjso\u001b[0m\u001b[1;33m,\u001b[0m \u001b[1;33m**\u001b[0m\u001b[0moption\u001b[0m\u001b[1;33m)\u001b[0m\u001b[1;33m\u001b[0m\u001b[1;33m\u001b[0m\u001b[0m\n\u001b[1;32m--> 123\u001b[1;33m     \u001b[0mntv\u001b[0m \u001b[1;33m=\u001b[0m \u001b[0mNtv\u001b[0m\u001b[1;33m.\u001b[0m\u001b[0mfrom_obj\u001b[0m\u001b[1;33m(\u001b[0m\u001b[0mjso\u001b[0m\u001b[1;33m)\u001b[0m\u001b[1;33m\u001b[0m\u001b[1;33m\u001b[0m\u001b[0m\n\u001b[0m\u001b[0;32m    124\u001b[0m     \u001b[1;32mif\u001b[0m \u001b[0mntv\u001b[0m\u001b[1;33m.\u001b[0m\u001b[0mtype_str\u001b[0m \u001b[1;33m==\u001b[0m \u001b[1;34m'field'\u001b[0m\u001b[1;33m:\u001b[0m\u001b[1;33m\u001b[0m\u001b[1;33m\u001b[0m\u001b[0m\n\u001b[0;32m    125\u001b[0m         \u001b[1;32mreturn\u001b[0m \u001b[0mSeriesConnec\u001b[0m\u001b[1;33m.\u001b[0m\u001b[0mto_obj_ntv\u001b[0m\u001b[1;33m(\u001b[0m\u001b[0mntv\u001b[0m\u001b[1;33m.\u001b[0m\u001b[0mntv_value\u001b[0m\u001b[1;33m,\u001b[0m \u001b[1;33m**\u001b[0m\u001b[0moption\u001b[0m\u001b[1;33m)\u001b[0m\u001b[1;33m\u001b[0m\u001b[1;33m\u001b[0m\u001b[0m\n",
      "\u001b[1;32m~\\github\\NTV\\json_ntv\\ntv.py\u001b[0m in \u001b[0;36mfrom_obj\u001b[1;34m(value, def_type, def_sep, no_typ, decode_str, typ_auto, fast)\u001b[0m\n\u001b[0;32m    207\u001b[0m         \u001b[1;32mif\u001b[0m \u001b[0msep\u001b[0m \u001b[1;33m==\u001b[0m \u001b[1;34m':'\u001b[0m \u001b[1;32mor\u001b[0m \u001b[1;33m(\u001b[0m\u001b[0msep\u001b[0m \u001b[1;32mis\u001b[0m \u001b[1;32mNone\u001b[0m \u001b[1;32mand\u001b[0m \u001b[0misinstance\u001b[0m\u001b[1;33m(\u001b[0m\u001b[0mntv_value\u001b[0m\u001b[1;33m,\u001b[0m \u001b[0mdict\u001b[0m\u001b[1;33m)\u001b[0m\u001b[1;33m)\u001b[0m\u001b[1;33m:\u001b[0m\u001b[1;33m\u001b[0m\u001b[1;33m\u001b[0m\u001b[0m\n\u001b[0;32m    208\u001b[0m             \u001b[0mntv_type\u001b[0m \u001b[1;33m=\u001b[0m \u001b[0magreg_type\u001b[0m\u001b[1;33m(\u001b[0m\u001b[0mstr_typ\u001b[0m\u001b[1;33m,\u001b[0m \u001b[0mdef_type\u001b[0m\u001b[1;33m,\u001b[0m \u001b[1;32mFalse\u001b[0m\u001b[1;33m)\u001b[0m\u001b[1;33m\u001b[0m\u001b[1;33m\u001b[0m\u001b[0m\n\u001b[1;32m--> 209\u001b[1;33m             \u001b[1;32mreturn\u001b[0m \u001b[0mNtvSingle\u001b[0m\u001b[1;33m(\u001b[0m\u001b[0mntv_value\u001b[0m\u001b[1;33m,\u001b[0m \u001b[0mntv_name\u001b[0m\u001b[1;33m,\u001b[0m \u001b[0mntv_type\u001b[0m\u001b[1;33m,\u001b[0m \u001b[0mfast\u001b[0m\u001b[1;33m=\u001b[0m\u001b[0mfast\u001b[0m\u001b[1;33m)\u001b[0m\u001b[1;33m\u001b[0m\u001b[1;33m\u001b[0m\u001b[0m\n\u001b[0m\u001b[0;32m    210\u001b[0m         \u001b[1;32mif\u001b[0m \u001b[0msep\u001b[0m \u001b[1;32mis\u001b[0m \u001b[1;32mNone\u001b[0m \u001b[1;32mand\u001b[0m \u001b[1;32mnot\u001b[0m \u001b[0misinstance\u001b[0m\u001b[1;33m(\u001b[0m\u001b[0mntv_value\u001b[0m\u001b[1;33m,\u001b[0m \u001b[0mdict\u001b[0m\u001b[1;33m)\u001b[0m\u001b[1;33m:\u001b[0m\u001b[1;33m\u001b[0m\u001b[1;33m\u001b[0m\u001b[0m\n\u001b[0;32m    211\u001b[0m             \u001b[1;31m#is_single_json = isinstance(value, (int, str, float, bool))\u001b[0m\u001b[1;33m\u001b[0m\u001b[1;33m\u001b[0m\u001b[0m\n",
      "\u001b[1;32m~\\github\\NTV\\json_ntv\\ntv.py\u001b[0m in \u001b[0;36m__init__\u001b[1;34m(self, value, ntv_name, ntv_type, fast)\u001b[0m\n\u001b[0;32m   1029\u001b[0m         '''\n\u001b[0;32m   1030\u001b[0m         \u001b[1;32mif\u001b[0m \u001b[1;32mnot\u001b[0m \u001b[0mfast\u001b[0m\u001b[1;33m:\u001b[0m\u001b[1;33m\u001b[0m\u001b[1;33m\u001b[0m\u001b[0m\n\u001b[1;32m-> 1031\u001b[1;33m             value, ntv_name, ntv_type = NtvSingle._decode_s(\n\u001b[0m\u001b[0;32m   1032\u001b[0m                 value, ntv_name, ntv_type)\n\u001b[0;32m   1033\u001b[0m             \u001b[1;32mif\u001b[0m \u001b[0mntv_type\u001b[0m \u001b[1;32mand\u001b[0m \u001b[0misinstance\u001b[0m\u001b[1;33m(\u001b[0m\u001b[0mntv_type\u001b[0m\u001b[1;33m,\u001b[0m \u001b[0mstr\u001b[0m\u001b[1;33m)\u001b[0m \u001b[1;32mand\u001b[0m \u001b[0mntv_type\u001b[0m\u001b[1;33m[\u001b[0m\u001b[1;33m-\u001b[0m\u001b[1;36m1\u001b[0m\u001b[1;33m]\u001b[0m \u001b[1;33m==\u001b[0m \u001b[1;34m'.'\u001b[0m\u001b[1;33m:\u001b[0m\u001b[1;33m\u001b[0m\u001b[1;33m\u001b[0m\u001b[0m\n",
      "\u001b[1;32m~\\github\\NTV\\json_ntv\\ntv.py\u001b[0m in \u001b[0;36m_decode_s\u001b[1;34m(ntv_value, ntv_name, ntv_type_str)\u001b[0m\n\u001b[0;32m   1096\u001b[0m                 \u001b[0mntv_type_str\u001b[0m \u001b[1;33m=\u001b[0m \u001b[0mtyp_str\u001b[0m\u001b[1;33m\u001b[0m\u001b[1;33m\u001b[0m\u001b[0m\n\u001b[0;32m   1097\u001b[0m         \u001b[1;32melif\u001b[0m \u001b[1;32mnot\u001b[0m \u001b[0mis_json\u001b[0m \u001b[1;32mand\u001b[0m \u001b[0mntv_type_str\u001b[0m \u001b[1;33m!=\u001b[0m \u001b[0mtyp_str\u001b[0m\u001b[1;33m:\u001b[0m\u001b[1;33m\u001b[0m\u001b[1;33m\u001b[0m\u001b[0m\n\u001b[1;32m-> 1098\u001b[1;33m             \u001b[1;32mraise\u001b[0m \u001b[0mNtvError\u001b[0m\u001b[1;33m(\u001b[0m\u001b[1;34m'ntv_value is not compatible with ntv_type'\u001b[0m\u001b[1;33m)\u001b[0m\u001b[1;33m\u001b[0m\u001b[1;33m\u001b[0m\u001b[0m\n\u001b[0m\u001b[0;32m   1099\u001b[0m         \u001b[0mntv_name\u001b[0m \u001b[1;33m=\u001b[0m \u001b[0mname\u001b[0m \u001b[1;32mif\u001b[0m \u001b[1;32mnot\u001b[0m \u001b[0mntv_name\u001b[0m \u001b[1;32melse\u001b[0m \u001b[0mntv_name\u001b[0m\u001b[1;33m\u001b[0m\u001b[1;33m\u001b[0m\u001b[0m\n\u001b[0;32m   1100\u001b[0m         '''\n",
      "\u001b[1;31mNtvError\u001b[0m: ntv_value is not compatible with ntv_type"
     ]
    }
   ],
   "source": [
    "import ntv_pandas as npd\n",
    "\n",
    "print('pandas DataFrame :')\n",
    "ex_df = npd.read_json(to_json_tab(ex))\n",
    "display(ex_df)\n",
    "\n",
    "a_df = npd.read_json(to_json_tab(a, add))\n",
    "display(a_df)\n",
    "print('dtypes:\\n' + str(a_df.dtypes))"
   ]
  },
  {
   "cell_type": "markdown",
   "id": "55b77019",
   "metadata": {},
   "source": [
    "### tabular data to multidimensional data\n",
    "Tabular data can be analysed to identify the dimension and the fields associated to each axe"
   ]
  },
  {
   "cell_type": "code",
   "execution_count": null,
   "id": "026fd5f0",
   "metadata": {},
   "outputs": [],
   "source": [
    "analys = a_df.npd.analysis(True)\n",
    "print('dimension:\\n', analys.dimension)\n",
    "partition = analys.field_partition(mode='id')\n",
    "print('\\npartition:\\n', partition)"
   ]
  },
  {
   "cell_type": "markdown",
   "id": "4ed823a4",
   "metadata": {},
   "source": [
    "'primary' fields are converted into axes.\n",
    "\n",
    "The shape is deduced from the length of axes (categorical format)"
   ]
  },
  {
   "cell_type": "code",
   "execution_count": null,
   "id": "8d08ccf8",
   "metadata": {},
   "outputs": [],
   "source": [
    "a_df_sort = a_df.sort_values(partition['primary'])\n",
    "a3, add3 = read_json_tab(a_df_sort.npd.to_json(header=False, index=False))\n",
    "\n",
    "print(\"\\nreversibility :\\n\")\n",
    "print(np.array_equal(a3, a), Ntv.obj(add3) == Ntv.obj(add))"
   ]
  },
  {
   "cell_type": "markdown",
   "id": "6d7039ad",
   "metadata": {},
   "source": [
    "## Astropy specific points\n",
    "This chapter presents some points related to the Astropy data structure that can be integrated into the JSON-NTV format."
   ]
  },
  {
   "cell_type": "markdown",
   "id": "28a59cbe",
   "metadata": {},
   "source": [
    "### Units and quantities\n",
    "- 'unit' is a specif type\n",
    "- three options are available for quantities:\n",
    "\n",
    "    - option 1 : add specific types including unit\n",
    "    - option 2 : add unit as type extension for existing types\n",
    "    - option 3 : including unit in the name\n",
    "\n",
    "- Option 2 is retained \n",
    "\n",
    "    - This option can be extended to other usages. For example:\n",
    "    \n",
    "    ```\n",
    "    {\"comment:string[fr]\": \"Paris est une belle ville\"}\n",
    "    ```\n",
    "\n",
    "    - This option is compatible with NTV structure. For example \n",
    "    \n",
    "    ```\n",
    "    {\"list_of_ndarray::ndarray[kg]\": { \"array1\": [1, 2, 3, 4], \"array2\": [5, 6, 7, 8]}}\n",
    "    ```"
   ]
  },
  {
   "cell_type": "code",
   "execution_count": null,
   "id": "bbca3534",
   "metadata": {},
   "outputs": [],
   "source": [
    "ntv = Ntv.obj({\"list_of_ndarray::ndarray[kg]\": { \"array1\": [[2, 2], [1, 2, 3, 4]], \"array2\": [[2, 2], [5, 6, 7, 8]]}})\n",
    "print('json representation :\\n', ntv[0])\n",
    "print('\\nNdarray representation :\\n', ntv[0].to_obj(format='obj', type=True))"
   ]
  },
  {
   "cell_type": "markdown",
   "id": "ef977f55",
   "metadata": {},
   "source": [
    "Example Unit\n",
    "\n",
    "```\n",
    "{'mass:unit': 'kg'}\n",
    "```\n",
    "    \n",
    "Example Quantities\n",
    "\n",
    "```\n",
    "{'ex_simple:[m/s]':            0.47}\n",
    "{'ex_simple_typ:float64[m/s]': 0.47}\n",
    "{'ex_array:ndarray[m/s]':      [2., 2.5, 3., 3.5, 4., 4.5, 5.]}\n",
    "{'ex_array_typ:ndarray[m/s]':  ['float64', [2., 2.5, 3., 3.5, 4., 4.5, 5.]]}\n",
    "```"
   ]
  },
  {
   "cell_type": "markdown",
   "id": "473a5964",
   "metadata": {},
   "source": [
    "### Coordinates\n",
    "The existing 'point' type (and also the other types: pointstr, line, polygon, multipolygon, box...) can be used with the coordinate object (perhaps with a type extension). e.g.\n",
    "\n",
    "```\n",
    "{':point[icrs]' : [ 10.625, 41.2] }\n",
    "```"
   ]
  },
  {
   "cell_type": "markdown",
   "id": "f530928e",
   "metadata": {},
   "source": [
    "### Table\n",
    "The `Table` or `Qtable` object is represented using the `tab` format dedicated to tabular structures. \n",
    "\n",
    "```\n",
    "{'ex_table:tab': {'x:string': ['x1', 'x1', 'x2', 'x2'], \n",
    "                  'y:string': ['y1', 'y2', 'y1', 'y2'], \n",
    "                  'value:float64[kg]': [1.0, 2.0, 3.0, 4.0],\n",
    "                  'meta': 'everything'}\n",
    "```\n",
    "\n",
    "This ensures interoperability between tabular tools (e.g. Pandas).\n"
   ]
  },
  {
   "cell_type": "markdown",
   "id": "a6451d8d",
   "metadata": {},
   "source": [
    "### Other structures\n",
    "\n",
    "The other structures were not examined. They can be integrated using the following tools:\n",
    "\n",
    "- Addition of new types: for types having a transversal character\n",
    "- Adding type via a Namespace: for types associated with specific data (e.g. “astro.xxx)\n",
    "- Definition of an imposed structure for a given type\n",
    "- Using specific type extension\n"
   ]
  },
  {
   "cell_type": "markdown",
   "id": "836c411b",
   "metadata": {},
   "source": [
    "## Appendix - JSON representation"
   ]
  },
  {
   "cell_type": "markdown",
   "id": "4001e5df",
   "metadata": {},
   "source": [
    "### Multidimension\n",
    "Multidimensional data is expressed with the JSON structure as a nested JSON-array. \n",
    "This representation has an drawback: It is not possible to include objects represented by an array in this structure.\n",
    "\n",
    "    e.g. What is the JSON representation of this 1-dimension ndarray : array([list([1, 2]), list([3, 4])], dtype=object) ? \n",
    "\n",
    "A first solution is to use a JSON-object instead of a JSON-array :\n",
    "\n",
    "```json\n",
    "    [{\":array\":[1, 2]}, {\":array\":[3, 4]}]\n",
    "```\n",
    "\n",
    "A second solution is to convert an array to a string :\n",
    "\n",
    "```json\n",
    "    [\"[1, 2]\", \"[3, 4]\"]\n",
    "```\n",
    "\n",
    "A third solution is to represent the shape and the flattened array :\n",
    "\n",
    "```json\n",
    "    [[2], [1, 2, 3, 4]]\n",
    "```       \n"
   ]
  },
  {
   "cell_type": "markdown",
   "id": "5c33857c",
   "metadata": {},
   "source": [
    "### Type representation"
   ]
  },
  {
   "cell_type": "markdown",
   "id": "f9f2cf03",
   "metadata": {},
   "source": [
    "Another constraint is to represent the data type. Three options :\n",
    "\n",
    "option 1 : use NTV representation  -> The examples above will become\n",
    "\n",
    "```json\n",
    "    {\":int32\": [{\":array\":[1, 2]}, {\":array\":[3, 4]}]}\n",
    "    {\":int32\": [\"[1, 2]\", \"[3, 4]\"]}\n",
    "    {\":int32\": [[2], [1, 2, 3, 4]]}\n",
    "```\n",
    "\n",
    "option 2 : use JSON-array representation  -> The examples above will become\n",
    "\n",
    "```json\n",
    "    [\"int32\", [{\":array\":[1, 2]}, {\":array\":[3, 4]}]]\n",
    "    [\"int32\", [\"[1, 2]\", \"[3, 4]\"]]\n",
    "    [\"int32\", [2], [1, 2, 3, 4]]\n",
    "```\n",
    "\n",
    "option 3 : use JSON_object representation  -> The examples above will become\n",
    "\n",
    "```json\n",
    "    {\"type\": \"int32\", \"data\": [{\":array\":[1, 2]}, {\":array\":[3, 4]}]]}\n",
    "    {\"type\": \"int32\", \"data\": [\"[1, 2]\", \"[3, 4]\"]]}\n",
    "    {\"type\": \"int32\", \"shape\": [2], \"data\": [1, 2, 3, 4]]]\n",
    "```\n"
   ]
  },
  {
   "cell_type": "markdown",
   "id": "ae5b2dc1",
   "metadata": {},
   "source": [
    "### Additional data"
   ]
  },
  {
   "cell_type": "markdown",
   "id": "e264049c",
   "metadata": {},
   "source": [
    "Multidimensional data is associated with complementary data :\n",
    "- Name of axes (one axis per dimension)\n",
    "- Axis values (optional)\n",
    "- Additional variables associated with one or more axes (optional)\n",
    "- Metadata (optional)\n",
    "- name (optional)\n",
    "\n",
    "The JSON representation must take this additional data into account.\n",
    "\n",
    "Two solutions :\n",
    "- solution 1 : structure multi-dimensional data + additional data\n",
    "```json\n",
    " {'data'   : ['int32', [2, 3, 2, 2], \n",
    "              [1, 2, 3, 4, 5, 6, 7, 8, 9, 10, 11, 12, 13, 14, 15, 16, 17, 18, 19, 20, 21, 22, 23, 24]], \n",
    "  'dims'   : ['x', 'y', 'z', 'option'],\n",
    "  'coords': {'x': [['x1', 'x2']] , \n",
    "             'y': [['y1', 'y2', 'y3']],\n",
    "             'z': ['string', ['z1', 'z2']],\n",
    "             'option': [[True, False]],\n",
    "             'xy': {'dims': ['x','y'], 'data': [[2,3], ['x1y1','x1y2','x1y3','x2y1','x2y2','x2y3']]}, \n",
    "             'opt_num': {'dims': ['option'], 'data': [[0, 1]]}},\n",
    "   'attrs'  : {'meta': 'everything'}}\n",
    "```\n",
    "- solution 2 : unique structure for multi-dimensional data and additional data\n",
    "```json\n",
    " {'type'   : 'int32',\n",
    "  'shape'  : [2, 3, 2, 2],\n",
    "  'data'   : [1, 2, 3, 4, 5, 6, 7, 8, 9, 10, 11, 12, 13, 14, 15, 16, 17, 18, 19, 20, 21, 22, 23, 24], \n",
    "  'dims'   : ['x', 'y', 'z', 'option']\n",
    "  'dimsco' : [['x1', 'x2'],['y1', 'y2', 'y3'], ['z1', 'z2'], [True, False]],\n",
    "  'coords' : {'xy':{'dims': ['x', 'y'], 'data': [[2,3], ['x1y1', 'x1y2', 'x1y3', 'x2y1', 'x2y2', 'x2y3']]}, \n",
    "              'opt_num': {'dims': 'option', 'data': [0, 1]}},\n",
    "  'attrs'  : {'meta': 'everything'}}\n",
    "```"
   ]
  },
  {
   "cell_type": "markdown",
   "id": "18319979",
   "metadata": {},
   "source": [
    "### NTV representation"
   ]
  },
  {
   "cell_type": "markdown",
   "id": "02571a6b",
   "metadata": {},
   "source": [
    "Both structures can be represented with \n",
    "- NTVtype : `ndarray` or `xndarray`\n",
    "- NTVname : name of the structure (optional)\n",
    "- NTVvalue : JSON structure of `ndarray` or `xndarray`\n",
    "\n",
    "Example:\n",
    "\n",
    "```json\n",
    "{ ':ndarray': ndarray_structure }\n",
    "{ 'test:xndarray': xndarray_structure }\n",
    "```"
   ]
  },
  {
   "cell_type": "markdown",
   "id": "4d9501f5",
   "metadata": {},
   "source": [
    "### Structure retained"
   ]
  },
  {
   "cell_type": "markdown",
   "id": "a1ceeeaa",
   "metadata": {},
   "source": [
    "The proposal is to retain two structures:\n",
    "- `ndarray` to represent the data without additional data. This structure is the simplest and most compact. \n",
    "\n",
    "    `ndarray` is a JSON-array composed of :\n",
    "    - values of data (JSON-array of flattened data)\n",
    "    - shape of the data (JSON-array of axis length) - optional if the dimension is 1\n",
    "    - type of data (string) - optional if the type is implicit\n",
    "\n",
    " ```json\n",
    "              [\"int32\", [2, 2], [1, 2, 3, 4]]\n",
    "              [\"int32\", [1, 2, 3, 4]]\n",
    "              [[2, 2], [1, 2, 3, 4]]\n",
    "              [[1, 2, 3, 4]]\n",
    " ```\n",
    " \n",
    "- `xndarray` to represent data and additional data. This structure completes the `ndarray` structure.\n",
    "\n",
    "    `xndarray` is a JSON-object composed of :\n",
    "\n",
    "    - `data` (JSON-ndarray): values of data (see above)\n",
    "    - `dims` (JSON-array): Name of axis (one axe per dimension) - optional\n",
    "    - `coords` (JSON-object of `ndarray` or `xndarray`): Additional variables associated with one or more axis - optional\n",
    "    - `attrs` (JSON-object): Metadata - optional\n",
    "    - `name` (string): name - optional\n",
    "        \n",
    " ```json\n",
    "{'example1:ndarray':\n",
    "   ['int32', [2, 3, 2], [1, 2, 3, 4, 5, 6, 7, 8, 9, 10, 11, 12]]\n",
    "}\n",
    "{'example2:xndarray':\n",
    "    {'data'  : ['int32', [2, 3, 2], [1, 2, 3, 4, 5, 6, 7, 8, 9, 10, 11, 12]], \n",
    "     'dims'   : ['x', 'y', 'option'],\n",
    "     'coords' : {\n",
    "         'x': [['x1', 'x2']] , \n",
    "         'y': ['string', ['y1', 'y2', 'y3']],\n",
    "         'option': [[True, False]],\n",
    "         'xy': {'dims': ['x','y'], 'data': [[2,3], ['x1y1','x1y2','x1y3','x2y1','x2y2','x2y3']]}, \n",
    "         'opt_num': {'dims': ['option'], 'data': [[0, 1]]}},\n",
    "     'attrs'  : {'meta': 'everything'}}\n",
    "}\n",
    "```"
   ]
  }
 ],
 "metadata": {
  "kernelspec": {
   "display_name": "Python 3 (ipykernel)",
   "language": "python",
   "name": "python3"
  },
  "language_info": {
   "codemirror_mode": {
    "name": "ipython",
    "version": 3
   },
   "file_extension": ".py",
   "mimetype": "text/x-python",
   "name": "python",
   "nbconvert_exporter": "python",
   "pygments_lexer": "ipython3",
   "version": "3.10.9"
  }
 },
 "nbformat": 4,
 "nbformat_minor": 5
}
